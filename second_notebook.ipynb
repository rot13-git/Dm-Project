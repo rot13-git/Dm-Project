{
 "cells": [
  {
   "cell_type": "code",
   "execution_count": 177,
   "metadata": {},
   "outputs": [],
   "source": [
    "# Python ≥3.5 is required\n",
    "import sys\n",
    "assert sys.version_info >= (3, 5)\n",
    "# Scikit-Learn ≥0.20 is required\n",
    "import sklearn\n",
    "assert sklearn.__version__ >= \"0.20\"\n",
    "# Common imports\n",
    "import numpy as np\n",
    "import os\n",
    "#imports pandas\n",
    "import pandas as pd\n",
    "from IPython.display import Image\n",
    "import os\n",
    "#import warnings and Repress Warnings\n",
    "import warnings\n",
    "warnings.filterwarnings(\"ignore\", message=\"numpy.dtype size changed\")\n",
    "warnings.filterwarnings(\"ignore\", message=\"numpy.ufunc size changed\")\n",
    "warnings.filterwarnings(\"ignore\", message=\"numpy.ndarray size changed\")\n",
    "warnings.filterwarnings('ignore')\n",
    "# to make this notebook's output stable across runs\n",
    "np.random.seed(42)\n",
    "# To plot pretty figures\n",
    "%matplotlib inline\n",
    "import matplotlib as mpl\n",
    "import matplotlib.pyplot as plt\n",
    "import seaborn as sns\n",
    "sns.set(style=\"whitegrid\") #White Grid\n",
    "mpl.rc('axes', labelsize=14)\n",
    "mpl.rc('xtick', labelsize=12)\n",
    "mpl.rc('ytick', labelsize=12)\n",
    "\n",
    "import warnings\n",
    "warnings.filterwarnings(action=\"ignore\", message=\"^internal gelsd\")\n",
    "import warnings\n",
    "warnings.filterwarnings('ignore')"
   ]
  },
  {
   "attachments": {},
   "cell_type": "markdown",
   "metadata": {},
   "source": [
    "1. Download dei dati"
   ]
  },
  {
   "cell_type": "code",
   "execution_count": 178,
   "metadata": {},
   "outputs": [],
   "source": [
    "#ORIGINAL DATASET https://www.kaggle.com/datasets/usmanshuaibumusa/cicids-17\n",
    "\n",
    "df1 = pd.read_csv(\"dataset/archive/Friday-WorkingHours-Afternoon-DDos.pcap_ISCX.csv\");\n",
    "df2 = pd.read_csv(\"dataset/archive/Friday-WorkingHours-Afternoon-PortScan.pcap_ISCX.csv\");\n",
    "df3 = pd.read_csv(\"dataset/archive/Friday-WorkingHours-Morning.pcap_ISCX.csv\");\n",
    "df4 = pd.read_csv(\"dataset/archive/Monday-WorkingHours.pcap_ISCX.csv\");\n",
    "df5 = pd.read_csv(\"dataset/archive/Thursday-WorkingHours-Afternoon-Infilteration.pcap_ISCX.csv\");\n",
    "#df6 = pd.read_csv(\"dataset/archive/Thursday-WorkingHours-Morning-WebAttacks.pcap_ISCX.csv\");\n",
    "df7 = pd.read_csv(\"dataset/archive/Tuesday-WorkingHours.pcap_ISCX.csv\");\n",
    "df8 = pd.read_csv(\"dataset/archive/Wednesday-workingHours.pcap_ISCX.csv\");\n"
   ]
  },
  {
   "cell_type": "code",
   "execution_count": 179,
   "metadata": {},
   "outputs": [],
   "source": [
    "df = pd.concat([df1,df2])\n",
    "del df1,df2\n",
    "df = pd.concat([df,df3])\n",
    "del df3\n",
    "df = pd.concat([df,df4])\n",
    "del df4\n",
    "df = pd.concat([df,df5])\n",
    "del df5\n",
    "df = pd.concat([df,df7])\n",
    "del df7\n",
    "df = pd.concat([df,df8])\n",
    "del df8"
   ]
  },
  {
   "cell_type": "code",
   "execution_count": 180,
   "metadata": {},
   "outputs": [
    {
     "name": "stdout",
     "output_type": "stream",
     "text": [
      "<class 'pandas.core.frame.DataFrame'>\n",
      "Int64Index: 2660377 entries, 0 to 692702\n",
      "Data columns (total 85 columns):\n",
      " #   Column                        Dtype  \n",
      "---  ------                        -----  \n",
      " 0   Flow ID                       object \n",
      " 1    Source IP                    object \n",
      " 2    Source Port                  int64  \n",
      " 3    Destination IP               object \n",
      " 4    Destination Port             int64  \n",
      " 5    Protocol                     int64  \n",
      " 6    Timestamp                    object \n",
      " 7    Flow Duration                int64  \n",
      " 8    Total Fwd Packets            int64  \n",
      " 9    Total Backward Packets       int64  \n",
      " 10  Total Length of Fwd Packets   float64\n",
      " 11   Total Length of Bwd Packets  float64\n",
      " 12   Fwd Packet Length Max        float64\n",
      " 13   Fwd Packet Length Min        float64\n",
      " 14   Fwd Packet Length Mean       float64\n",
      " 15   Fwd Packet Length Std        float64\n",
      " 16  Bwd Packet Length Max         float64\n",
      " 17   Bwd Packet Length Min        float64\n",
      " 18   Bwd Packet Length Mean       float64\n",
      " 19   Bwd Packet Length Std        float64\n",
      " 20  Flow Bytes/s                  float64\n",
      " 21   Flow Packets/s               float64\n",
      " 22   Flow IAT Mean                float64\n",
      " 23   Flow IAT Std                 float64\n",
      " 24   Flow IAT Max                 float64\n",
      " 25   Flow IAT Min                 float64\n",
      " 26  Fwd IAT Total                 float64\n",
      " 27   Fwd IAT Mean                 float64\n",
      " 28   Fwd IAT Std                  float64\n",
      " 29   Fwd IAT Max                  float64\n",
      " 30   Fwd IAT Min                  float64\n",
      " 31  Bwd IAT Total                 float64\n",
      " 32   Bwd IAT Mean                 float64\n",
      " 33   Bwd IAT Std                  float64\n",
      " 34   Bwd IAT Max                  float64\n",
      " 35   Bwd IAT Min                  float64\n",
      " 36  Fwd PSH Flags                 int64  \n",
      " 37   Bwd PSH Flags                int64  \n",
      " 38   Fwd URG Flags                int64  \n",
      " 39   Bwd URG Flags                int64  \n",
      " 40   Fwd Header Length            int64  \n",
      " 41   Bwd Header Length            int64  \n",
      " 42  Fwd Packets/s                 float64\n",
      " 43   Bwd Packets/s                float64\n",
      " 44   Min Packet Length            float64\n",
      " 45   Max Packet Length            float64\n",
      " 46   Packet Length Mean           float64\n",
      " 47   Packet Length Std            float64\n",
      " 48   Packet Length Variance       float64\n",
      " 49  FIN Flag Count                int64  \n",
      " 50   SYN Flag Count               int64  \n",
      " 51   RST Flag Count               int64  \n",
      " 52   PSH Flag Count               int64  \n",
      " 53   ACK Flag Count               int64  \n",
      " 54   URG Flag Count               int64  \n",
      " 55   CWE Flag Count               int64  \n",
      " 56   ECE Flag Count               int64  \n",
      " 57   Down/Up Ratio                float64\n",
      " 58   Average Packet Size          float64\n",
      " 59   Avg Fwd Segment Size         float64\n",
      " 60   Avg Bwd Segment Size         float64\n",
      " 61   Fwd Header Length.1          int64  \n",
      " 62  Fwd Avg Bytes/Bulk            int64  \n",
      " 63   Fwd Avg Packets/Bulk         int64  \n",
      " 64   Fwd Avg Bulk Rate            int64  \n",
      " 65   Bwd Avg Bytes/Bulk           int64  \n",
      " 66   Bwd Avg Packets/Bulk         int64  \n",
      " 67  Bwd Avg Bulk Rate             int64  \n",
      " 68  Subflow Fwd Packets           int64  \n",
      " 69   Subflow Fwd Bytes            int64  \n",
      " 70   Subflow Bwd Packets          int64  \n",
      " 71   Subflow Bwd Bytes            int64  \n",
      " 72  Init_Win_bytes_forward        int64  \n",
      " 73   Init_Win_bytes_backward      int64  \n",
      " 74   act_data_pkt_fwd             int64  \n",
      " 75   min_seg_size_forward         int64  \n",
      " 76  Active Mean                   float64\n",
      " 77   Active Std                   float64\n",
      " 78   Active Max                   float64\n",
      " 79   Active Min                   float64\n",
      " 80  Idle Mean                     float64\n",
      " 81   Idle Std                     float64\n",
      " 82   Idle Max                     float64\n",
      " 83   Idle Min                     float64\n",
      " 84   Label                        object \n",
      "dtypes: float64(45), int64(35), object(5)\n",
      "memory usage: 1.7+ GB\n"
     ]
    }
   ],
   "source": [
    "df.info()"
   ]
  },
  {
   "cell_type": "code",
   "execution_count": 181,
   "metadata": {},
   "outputs": [
    {
     "data": {
      "text/html": [
       "<div>\n",
       "<style scoped>\n",
       "    .dataframe tbody tr th:only-of-type {\n",
       "        vertical-align: middle;\n",
       "    }\n",
       "\n",
       "    .dataframe tbody tr th {\n",
       "        vertical-align: top;\n",
       "    }\n",
       "\n",
       "    .dataframe thead th {\n",
       "        text-align: right;\n",
       "    }\n",
       "</style>\n",
       "<table border=\"1\" class=\"dataframe\">\n",
       "  <thead>\n",
       "    <tr style=\"text-align: right;\">\n",
       "      <th></th>\n",
       "      <th>0</th>\n",
       "    </tr>\n",
       "  </thead>\n",
       "  <tbody>\n",
       "    <tr>\n",
       "      <th>Flow Bytes/s</th>\n",
       "      <td>0.000503</td>\n",
       "    </tr>\n",
       "    <tr>\n",
       "      <th>Flow ID</th>\n",
       "      <td>0.000000</td>\n",
       "    </tr>\n",
       "    <tr>\n",
       "      <th>Fwd Avg Bulk Rate</th>\n",
       "      <td>0.000000</td>\n",
       "    </tr>\n",
       "    <tr>\n",
       "      <th>Fwd Avg Bytes/Bulk</th>\n",
       "      <td>0.000000</td>\n",
       "    </tr>\n",
       "    <tr>\n",
       "      <th>Fwd Header Length.1</th>\n",
       "      <td>0.000000</td>\n",
       "    </tr>\n",
       "    <tr>\n",
       "      <th>...</th>\n",
       "      <td>...</td>\n",
       "    </tr>\n",
       "    <tr>\n",
       "      <th>Fwd IAT Mean</th>\n",
       "      <td>0.000000</td>\n",
       "    </tr>\n",
       "    <tr>\n",
       "      <th>Fwd IAT Total</th>\n",
       "      <td>0.000000</td>\n",
       "    </tr>\n",
       "    <tr>\n",
       "      <th>Flow IAT Min</th>\n",
       "      <td>0.000000</td>\n",
       "    </tr>\n",
       "    <tr>\n",
       "      <th>Flow IAT Max</th>\n",
       "      <td>0.000000</td>\n",
       "    </tr>\n",
       "    <tr>\n",
       "      <th>Label</th>\n",
       "      <td>0.000000</td>\n",
       "    </tr>\n",
       "  </tbody>\n",
       "</table>\n",
       "<p>85 rows × 1 columns</p>\n",
       "</div>"
      ],
      "text/plain": [
       "                             0\n",
       "Flow Bytes/s          0.000503\n",
       "Flow ID               0.000000\n",
       " Fwd Avg Bulk Rate    0.000000\n",
       "Fwd Avg Bytes/Bulk    0.000000\n",
       " Fwd Header Length.1  0.000000\n",
       "...                        ...\n",
       " Fwd IAT Mean         0.000000\n",
       "Fwd IAT Total         0.000000\n",
       " Flow IAT Min         0.000000\n",
       " Flow IAT Max         0.000000\n",
       " Label                0.000000\n",
       "\n",
       "[85 rows x 1 columns]"
      ]
     },
     "execution_count": 181,
     "metadata": {},
     "output_type": "execute_result"
    }
   ],
   "source": [
    "pd.DataFrame(df.isnull().sum()/df.shape[0]).sort_values(ascending=0,by=[0])"
   ]
  },
  {
   "attachments": {},
   "cell_type": "markdown",
   "metadata": {},
   "source": [
    "Elimino righe con Flow Byts/s null"
   ]
  },
  {
   "cell_type": "code",
   "execution_count": 182,
   "metadata": {},
   "outputs": [],
   "source": [
    "rows = df.loc[df['Flow Bytes/s'].isnull()]\n",
    "df.drop(labels=rows.index,axis=0,inplace=True)"
   ]
  },
  {
   "cell_type": "code",
   "execution_count": 183,
   "metadata": {},
   "outputs": [
    {
     "data": {
      "text/plain": [
       "(2652969, 85)"
      ]
     },
     "execution_count": 183,
     "metadata": {},
     "output_type": "execute_result"
    }
   ],
   "source": [
    "df.shape"
   ]
  },
  {
   "attachments": {},
   "cell_type": "markdown",
   "metadata": {},
   "source": [
    "Drop valori che sono infinito o -infinito"
   ]
  },
  {
   "cell_type": "code",
   "execution_count": 184,
   "metadata": {},
   "outputs": [],
   "source": [
    "rows = df.loc[np.isinf(df.select_dtypes(exclude=object)).any(1)]\n",
    "df.drop(labels=rows.index,axis=0,inplace=True)\n"
   ]
  },
  {
   "cell_type": "code",
   "execution_count": 185,
   "metadata": {},
   "outputs": [
    {
     "data": {
      "text/plain": [
       "(2645598, 85)"
      ]
     },
     "execution_count": 185,
     "metadata": {},
     "output_type": "execute_result"
    }
   ],
   "source": [
    "df.shape"
   ]
  },
  {
   "cell_type": "code",
   "execution_count": 186,
   "metadata": {},
   "outputs": [
    {
     "data": {
      "text/html": [
       "<div>\n",
       "<style scoped>\n",
       "    .dataframe tbody tr th:only-of-type {\n",
       "        vertical-align: middle;\n",
       "    }\n",
       "\n",
       "    .dataframe tbody tr th {\n",
       "        vertical-align: top;\n",
       "    }\n",
       "\n",
       "    .dataframe thead th {\n",
       "        text-align: right;\n",
       "    }\n",
       "</style>\n",
       "<table border=\"1\" class=\"dataframe\">\n",
       "  <thead>\n",
       "    <tr style=\"text-align: right;\">\n",
       "      <th></th>\n",
       "      <th>Source Port</th>\n",
       "      <th>Destination Port</th>\n",
       "      <th>Protocol</th>\n",
       "      <th>Flow Duration</th>\n",
       "      <th>Total Fwd Packets</th>\n",
       "      <th>Total Backward Packets</th>\n",
       "      <th>Total Length of Fwd Packets</th>\n",
       "      <th>Total Length of Bwd Packets</th>\n",
       "      <th>Fwd Packet Length Max</th>\n",
       "      <th>Fwd Packet Length Min</th>\n",
       "      <th>...</th>\n",
       "      <th>act_data_pkt_fwd</th>\n",
       "      <th>min_seg_size_forward</th>\n",
       "      <th>Active Mean</th>\n",
       "      <th>Active Std</th>\n",
       "      <th>Active Max</th>\n",
       "      <th>Active Min</th>\n",
       "      <th>Idle Mean</th>\n",
       "      <th>Idle Std</th>\n",
       "      <th>Idle Max</th>\n",
       "      <th>Idle Min</th>\n",
       "    </tr>\n",
       "  </thead>\n",
       "  <tbody>\n",
       "    <tr>\n",
       "      <th>count</th>\n",
       "      <td>2.645598e+06</td>\n",
       "      <td>2.645598e+06</td>\n",
       "      <td>2.645598e+06</td>\n",
       "      <td>2.645598e+06</td>\n",
       "      <td>2.645598e+06</td>\n",
       "      <td>2.645598e+06</td>\n",
       "      <td>2.645598e+06</td>\n",
       "      <td>2.645598e+06</td>\n",
       "      <td>2.645598e+06</td>\n",
       "      <td>2.645598e+06</td>\n",
       "      <td>...</td>\n",
       "      <td>2.645598e+06</td>\n",
       "      <td>2.645598e+06</td>\n",
       "      <td>2.645598e+06</td>\n",
       "      <td>2.645598e+06</td>\n",
       "      <td>2.645598e+06</td>\n",
       "      <td>2.645598e+06</td>\n",
       "      <td>2.645598e+06</td>\n",
       "      <td>2.645598e+06</td>\n",
       "      <td>2.645598e+06</td>\n",
       "      <td>2.645598e+06</td>\n",
       "    </tr>\n",
       "    <tr>\n",
       "      <th>mean</th>\n",
       "      <td>4.119495e+04</td>\n",
       "      <td>8.074466e+03</td>\n",
       "      <td>9.797346e+00</td>\n",
       "      <td>1.494462e+07</td>\n",
       "      <td>9.012956e+00</td>\n",
       "      <td>9.932867e+00</td>\n",
       "      <td>5.491804e+02</td>\n",
       "      <td>1.521742e+04</td>\n",
       "      <td>2.102181e+02</td>\n",
       "      <td>1.848443e+01</td>\n",
       "      <td>...</td>\n",
       "      <td>5.015315e+00</td>\n",
       "      <td>-2.903644e+03</td>\n",
       "      <td>8.204000e+04</td>\n",
       "      <td>4.081138e+04</td>\n",
       "      <td>1.525342e+05</td>\n",
       "      <td>5.882103e+04</td>\n",
       "      <td>8.619543e+06</td>\n",
       "      <td>5.274688e+05</td>\n",
       "      <td>9.017417e+06</td>\n",
       "      <td>8.207746e+06</td>\n",
       "    </tr>\n",
       "    <tr>\n",
       "      <th>std</th>\n",
       "      <td>2.218952e+04</td>\n",
       "      <td>1.827980e+04</td>\n",
       "      <td>5.235527e+00</td>\n",
       "      <td>3.376377e+07</td>\n",
       "      <td>7.211856e+02</td>\n",
       "      <td>9.594596e+02</td>\n",
       "      <td>1.014595e+04</td>\n",
       "      <td>2.169947e+06</td>\n",
       "      <td>7.301311e+02</td>\n",
       "      <td>6.151993e+01</td>\n",
       "      <td>...</td>\n",
       "      <td>5.987986e+02</td>\n",
       "      <td>1.121127e+06</td>\n",
       "      <td>6.476965e+05</td>\n",
       "      <td>3.949956e+05</td>\n",
       "      <td>1.026140e+06</td>\n",
       "      <td>5.748674e+05</td>\n",
       "      <td>2.413247e+07</td>\n",
       "      <td>4.724851e+06</td>\n",
       "      <td>2.488675e+07</td>\n",
       "      <td>2.386314e+07</td>\n",
       "    </tr>\n",
       "    <tr>\n",
       "      <th>min</th>\n",
       "      <td>0.000000e+00</td>\n",
       "      <td>0.000000e+00</td>\n",
       "      <td>0.000000e+00</td>\n",
       "      <td>-1.300000e+01</td>\n",
       "      <td>1.000000e+00</td>\n",
       "      <td>0.000000e+00</td>\n",
       "      <td>0.000000e+00</td>\n",
       "      <td>0.000000e+00</td>\n",
       "      <td>0.000000e+00</td>\n",
       "      <td>0.000000e+00</td>\n",
       "      <td>...</td>\n",
       "      <td>0.000000e+00</td>\n",
       "      <td>-5.368707e+08</td>\n",
       "      <td>0.000000e+00</td>\n",
       "      <td>0.000000e+00</td>\n",
       "      <td>0.000000e+00</td>\n",
       "      <td>0.000000e+00</td>\n",
       "      <td>0.000000e+00</td>\n",
       "      <td>0.000000e+00</td>\n",
       "      <td>0.000000e+00</td>\n",
       "      <td>0.000000e+00</td>\n",
       "    </tr>\n",
       "    <tr>\n",
       "      <th>25%</th>\n",
       "      <td>3.297400e+04</td>\n",
       "      <td>5.300000e+01</td>\n",
       "      <td>6.000000e+00</td>\n",
       "      <td>1.520000e+02</td>\n",
       "      <td>2.000000e+00</td>\n",
       "      <td>1.000000e+00</td>\n",
       "      <td>6.000000e+00</td>\n",
       "      <td>0.000000e+00</td>\n",
       "      <td>6.000000e+00</td>\n",
       "      <td>0.000000e+00</td>\n",
       "      <td>...</td>\n",
       "      <td>0.000000e+00</td>\n",
       "      <td>2.000000e+01</td>\n",
       "      <td>0.000000e+00</td>\n",
       "      <td>0.000000e+00</td>\n",
       "      <td>0.000000e+00</td>\n",
       "      <td>0.000000e+00</td>\n",
       "      <td>0.000000e+00</td>\n",
       "      <td>0.000000e+00</td>\n",
       "      <td>0.000000e+00</td>\n",
       "      <td>0.000000e+00</td>\n",
       "    </tr>\n",
       "    <tr>\n",
       "      <th>50%</th>\n",
       "      <td>5.094900e+04</td>\n",
       "      <td>8.000000e+01</td>\n",
       "      <td>6.000000e+00</td>\n",
       "      <td>3.132700e+04</td>\n",
       "      <td>2.000000e+00</td>\n",
       "      <td>2.000000e+00</td>\n",
       "      <td>6.200000e+01</td>\n",
       "      <td>1.220000e+02</td>\n",
       "      <td>3.700000e+01</td>\n",
       "      <td>2.000000e+00</td>\n",
       "      <td>...</td>\n",
       "      <td>1.000000e+00</td>\n",
       "      <td>2.400000e+01</td>\n",
       "      <td>0.000000e+00</td>\n",
       "      <td>0.000000e+00</td>\n",
       "      <td>0.000000e+00</td>\n",
       "      <td>0.000000e+00</td>\n",
       "      <td>0.000000e+00</td>\n",
       "      <td>0.000000e+00</td>\n",
       "      <td>0.000000e+00</td>\n",
       "      <td>0.000000e+00</td>\n",
       "    </tr>\n",
       "    <tr>\n",
       "      <th>75%</th>\n",
       "      <td>5.833400e+04</td>\n",
       "      <td>4.430000e+02</td>\n",
       "      <td>1.700000e+01</td>\n",
       "      <td>3.416831e+06</td>\n",
       "      <td>5.000000e+00</td>\n",
       "      <td>4.000000e+00</td>\n",
       "      <td>1.960000e+02</td>\n",
       "      <td>5.100000e+02</td>\n",
       "      <td>8.600000e+01</td>\n",
       "      <td>3.600000e+01</td>\n",
       "      <td>...</td>\n",
       "      <td>2.000000e+00</td>\n",
       "      <td>3.200000e+01</td>\n",
       "      <td>0.000000e+00</td>\n",
       "      <td>0.000000e+00</td>\n",
       "      <td>0.000000e+00</td>\n",
       "      <td>0.000000e+00</td>\n",
       "      <td>0.000000e+00</td>\n",
       "      <td>0.000000e+00</td>\n",
       "      <td>0.000000e+00</td>\n",
       "      <td>0.000000e+00</td>\n",
       "    </tr>\n",
       "    <tr>\n",
       "      <th>max</th>\n",
       "      <td>6.553500e+04</td>\n",
       "      <td>6.553500e+04</td>\n",
       "      <td>1.700000e+01</td>\n",
       "      <td>1.200000e+08</td>\n",
       "      <td>2.197590e+05</td>\n",
       "      <td>2.919220e+05</td>\n",
       "      <td>1.290000e+07</td>\n",
       "      <td>6.554530e+08</td>\n",
       "      <td>2.482000e+04</td>\n",
       "      <td>2.325000e+03</td>\n",
       "      <td>...</td>\n",
       "      <td>2.135570e+05</td>\n",
       "      <td>1.380000e+02</td>\n",
       "      <td>1.070000e+08</td>\n",
       "      <td>7.420000e+07</td>\n",
       "      <td>1.070000e+08</td>\n",
       "      <td>1.070000e+08</td>\n",
       "      <td>1.200000e+08</td>\n",
       "      <td>7.690000e+07</td>\n",
       "      <td>1.200000e+08</td>\n",
       "      <td>1.200000e+08</td>\n",
       "    </tr>\n",
       "  </tbody>\n",
       "</table>\n",
       "<p>8 rows × 80 columns</p>\n",
       "</div>"
      ],
      "text/plain": [
       "        Source Port   Destination Port      Protocol   Flow Duration  \\\n",
       "count  2.645598e+06       2.645598e+06  2.645598e+06    2.645598e+06   \n",
       "mean   4.119495e+04       8.074466e+03  9.797346e+00    1.494462e+07   \n",
       "std    2.218952e+04       1.827980e+04  5.235527e+00    3.376377e+07   \n",
       "min    0.000000e+00       0.000000e+00  0.000000e+00   -1.300000e+01   \n",
       "25%    3.297400e+04       5.300000e+01  6.000000e+00    1.520000e+02   \n",
       "50%    5.094900e+04       8.000000e+01  6.000000e+00    3.132700e+04   \n",
       "75%    5.833400e+04       4.430000e+02  1.700000e+01    3.416831e+06   \n",
       "max    6.553500e+04       6.553500e+04  1.700000e+01    1.200000e+08   \n",
       "\n",
       "        Total Fwd Packets   Total Backward Packets  \\\n",
       "count        2.645598e+06             2.645598e+06   \n",
       "mean         9.012956e+00             9.932867e+00   \n",
       "std          7.211856e+02             9.594596e+02   \n",
       "min          1.000000e+00             0.000000e+00   \n",
       "25%          2.000000e+00             1.000000e+00   \n",
       "50%          2.000000e+00             2.000000e+00   \n",
       "75%          5.000000e+00             4.000000e+00   \n",
       "max          2.197590e+05             2.919220e+05   \n",
       "\n",
       "       Total Length of Fwd Packets   Total Length of Bwd Packets  \\\n",
       "count                 2.645598e+06                  2.645598e+06   \n",
       "mean                  5.491804e+02                  1.521742e+04   \n",
       "std                   1.014595e+04                  2.169947e+06   \n",
       "min                   0.000000e+00                  0.000000e+00   \n",
       "25%                   6.000000e+00                  0.000000e+00   \n",
       "50%                   6.200000e+01                  1.220000e+02   \n",
       "75%                   1.960000e+02                  5.100000e+02   \n",
       "max                   1.290000e+07                  6.554530e+08   \n",
       "\n",
       "        Fwd Packet Length Max   Fwd Packet Length Min  ...   act_data_pkt_fwd  \\\n",
       "count            2.645598e+06            2.645598e+06  ...       2.645598e+06   \n",
       "mean             2.102181e+02            1.848443e+01  ...       5.015315e+00   \n",
       "std              7.301311e+02            6.151993e+01  ...       5.987986e+02   \n",
       "min              0.000000e+00            0.000000e+00  ...       0.000000e+00   \n",
       "25%              6.000000e+00            0.000000e+00  ...       0.000000e+00   \n",
       "50%              3.700000e+01            2.000000e+00  ...       1.000000e+00   \n",
       "75%              8.600000e+01            3.600000e+01  ...       2.000000e+00   \n",
       "max              2.482000e+04            2.325000e+03  ...       2.135570e+05   \n",
       "\n",
       "        min_seg_size_forward   Active Mean    Active Std    Active Max  \\\n",
       "count           2.645598e+06  2.645598e+06  2.645598e+06  2.645598e+06   \n",
       "mean           -2.903644e+03  8.204000e+04  4.081138e+04  1.525342e+05   \n",
       "std             1.121127e+06  6.476965e+05  3.949956e+05  1.026140e+06   \n",
       "min            -5.368707e+08  0.000000e+00  0.000000e+00  0.000000e+00   \n",
       "25%             2.000000e+01  0.000000e+00  0.000000e+00  0.000000e+00   \n",
       "50%             2.400000e+01  0.000000e+00  0.000000e+00  0.000000e+00   \n",
       "75%             3.200000e+01  0.000000e+00  0.000000e+00  0.000000e+00   \n",
       "max             1.380000e+02  1.070000e+08  7.420000e+07  1.070000e+08   \n",
       "\n",
       "         Active Min     Idle Mean      Idle Std      Idle Max      Idle Min  \n",
       "count  2.645598e+06  2.645598e+06  2.645598e+06  2.645598e+06  2.645598e+06  \n",
       "mean   5.882103e+04  8.619543e+06  5.274688e+05  9.017417e+06  8.207746e+06  \n",
       "std    5.748674e+05  2.413247e+07  4.724851e+06  2.488675e+07  2.386314e+07  \n",
       "min    0.000000e+00  0.000000e+00  0.000000e+00  0.000000e+00  0.000000e+00  \n",
       "25%    0.000000e+00  0.000000e+00  0.000000e+00  0.000000e+00  0.000000e+00  \n",
       "50%    0.000000e+00  0.000000e+00  0.000000e+00  0.000000e+00  0.000000e+00  \n",
       "75%    0.000000e+00  0.000000e+00  0.000000e+00  0.000000e+00  0.000000e+00  \n",
       "max    1.070000e+08  1.200000e+08  7.690000e+07  1.200000e+08  1.200000e+08  \n",
       "\n",
       "[8 rows x 80 columns]"
      ]
     },
     "execution_count": 186,
     "metadata": {},
     "output_type": "execute_result"
    }
   ],
   "source": [
    "df.describe()"
   ]
  },
  {
   "attachments": {},
   "cell_type": "markdown",
   "metadata": {},
   "source": [
    "Drop colonna Flow ID poiché info contenute già in altre colonne"
   ]
  },
  {
   "cell_type": "code",
   "execution_count": 187,
   "metadata": {},
   "outputs": [
    {
     "data": {
      "text/plain": [
       "0    192.168.10.5-104.16.207.165-54865-443-6\n",
       "1      192.168.10.5-104.16.28.216-55054-80-6\n",
       "2      192.168.10.5-104.16.28.216-55055-80-6\n",
       "3    192.168.10.16-104.17.241.25-46236-443-6\n",
       "4    192.168.10.5-104.19.196.102-54863-443-6\n",
       "Name: Flow ID, dtype: object"
      ]
     },
     "execution_count": 187,
     "metadata": {},
     "output_type": "execute_result"
    }
   ],
   "source": [
    "df[\"Flow ID\"].head()"
   ]
  },
  {
   "cell_type": "code",
   "execution_count": 188,
   "metadata": {},
   "outputs": [],
   "source": [
    "df.drop([\"Flow ID\",\" Source IP\",\" Destination IP\",\" Timestamp\"],axis=1,inplace=True)\n"
   ]
  },
  {
   "cell_type": "code",
   "execution_count": 189,
   "metadata": {},
   "outputs": [
    {
     "data": {
      "text/plain": [
       "BENIGN              2094126\n",
       "DoS Hulk             229259\n",
       "PortScan             157756\n",
       "DDoS                 127156\n",
       "DoS GoldenEye         10289\n",
       "FTP-Patator            7901\n",
       "SSH-Patator            5861\n",
       "DoS slowloris          5772\n",
       "DoS Slowhttptest       5489\n",
       "Bot                    1944\n",
       "Infiltration             34\n",
       "Heartbleed               11\n",
       "Name:  Label, dtype: int64"
      ]
     },
     "execution_count": 189,
     "metadata": {},
     "output_type": "execute_result"
    }
   ],
   "source": [
    "df[\" Label\"].value_counts()"
   ]
  },
  {
   "cell_type": "code",
   "execution_count": 190,
   "metadata": {},
   "outputs": [
    {
     "data": {
      "text/plain": [
       "(551472, 81)"
      ]
     },
     "execution_count": 190,
     "metadata": {},
     "output_type": "execute_result"
    }
   ],
   "source": [
    "df_maligne = df[df[\" Label\"]!='BENIGN']\n",
    "df_maligne.shape"
   ]
  },
  {
   "cell_type": "code",
   "execution_count": 191,
   "metadata": {},
   "outputs": [],
   "source": [
    "#df_maligne[' Destination Port'].value_counts()"
   ]
  },
  {
   "cell_type": "code",
   "execution_count": 192,
   "metadata": {},
   "outputs": [
    {
     "data": {
      "text/plain": [
       "MALIGN    551472\n",
       "Name:  Label, dtype: int64"
      ]
     },
     "execution_count": 192,
     "metadata": {},
     "output_type": "execute_result"
    }
   ],
   "source": [
    "df_maligne[\" Label\"] = \"MALIGN\"\n",
    "df_maligne[\" Label\"].value_counts()"
   ]
  },
  {
   "cell_type": "code",
   "execution_count": 193,
   "metadata": {},
   "outputs": [
    {
     "data": {
      "text/plain": [
       "(553200, 81)"
      ]
     },
     "execution_count": 193,
     "metadata": {},
     "output_type": "execute_result"
    }
   ],
   "source": [
    "df_benign = df[df[\" Label\"]=='BENIGN'].sample(553200)\n",
    "df_benign.shape"
   ]
  },
  {
   "attachments": {},
   "cell_type": "markdown",
   "metadata": {},
   "source": [
    "Primo test di classificazione"
   ]
  },
  {
   "cell_type": "code",
   "execution_count": 194,
   "metadata": {},
   "outputs": [
    {
     "data": {
      "text/plain": [
       "BENIGN    553200\n",
       "MALIGN    551472\n",
       "Name:  Label, dtype: int64"
      ]
     },
     "execution_count": 194,
     "metadata": {},
     "output_type": "execute_result"
    }
   ],
   "source": [
    "df_final = pd.concat([df_benign,df_maligne])\n",
    "df_final[\" Label\"].value_counts()"
   ]
  },
  {
   "cell_type": "code",
   "execution_count": 195,
   "metadata": {},
   "outputs": [],
   "source": [
    "from sklearn.model_selection import cross_val_score\n",
    "def compute_performance(estimators, X, y, scoring_funs, cross_val=True):\n",
    "    '''\n",
    "    Compute every score function for each estimator\n",
    "    \n",
    "    Parameters:\n",
    "    ----------\n",
    "        estimators : a list of predictors\n",
    "        X : data used for computed the corss_validation_test\n",
    "        y : target values\n",
    "        scoring_fun : list of performances measures\n",
    "    \n",
    "    Returns:\n",
    "    --------\n",
    "        A dictionary containing the score of each estimator\n",
    "    '''\n",
    "    score_dict = {}\n",
    "    for e in estimators:\n",
    "        score_dict[e.__class__.__name__] = {}\n",
    "        if not cross_val:\n",
    "            # we call predict on the estimator\n",
    "            y_pred = e.predict(X)\n",
    "\n",
    "        for f in scoring_funs: \n",
    "            if cross_val:\n",
    "                score = cross_val_score(e, X ,y, cv=10 ,scoring=\"accuracy\").mean()\n",
    "                name = f\n",
    "            else:\n",
    "                _f, name = f\n",
    "                score = _f(y_pred, y)\n",
    "            score_dict[e.__class__.__name__][name] = score\n",
    "    \n",
    "    return score_dict"
   ]
  },
  {
   "cell_type": "code",
   "execution_count": 196,
   "metadata": {},
   "outputs": [
    {
     "data": {
      "text/plain": [
       "(1104672,)"
      ]
     },
     "execution_count": 196,
     "metadata": {},
     "output_type": "execute_result"
    }
   ],
   "source": [
    "from sklearn.model_selection import train_test_split\n",
    "\n",
    "\n",
    "\n",
    "y = df_final[\" Label\"]\n",
    "X = df_final.drop(columns= \" Label\")\n",
    "\n",
    "y.shape"
   ]
  },
  {
   "cell_type": "code",
   "execution_count": 197,
   "metadata": {},
   "outputs": [
    {
     "data": {
      "text/plain": [
       "(1104672, 80)"
      ]
     },
     "execution_count": 197,
     "metadata": {},
     "output_type": "execute_result"
    }
   ],
   "source": [
    "X.shape"
   ]
  },
  {
   "cell_type": "code",
   "execution_count": 198,
   "metadata": {},
   "outputs": [
    {
     "name": "stdout",
     "output_type": "stream",
     "text": [
      "(883737, 80) (883737,) (220935, 80) (220935,)\n"
     ]
    }
   ],
   "source": [
    "X_train, X_test,  y_train, y_test = train_test_split(X,y, test_size=0.2)\n",
    "print(X_train.shape, y_train.shape, X_test.shape, y_test.shape)"
   ]
  },
  {
   "cell_type": "code",
   "execution_count": 199,
   "metadata": {},
   "outputs": [
    {
     "data": {
      "text/plain": [
       "BENIGN    442414\n",
       "MALIGN    441323\n",
       "Name:  Label, dtype: int64"
      ]
     },
     "execution_count": 199,
     "metadata": {},
     "output_type": "execute_result"
    }
   ],
   "source": [
    "y_train.value_counts()"
   ]
  },
  {
   "cell_type": "code",
   "execution_count": 200,
   "metadata": {},
   "outputs": [
    {
     "name": "stdout",
     "output_type": "stream",
     "text": [
      "<class 'pandas.core.frame.DataFrame'>\n",
      "Int64Index: 2645598 entries, 0 to 692702\n",
      "Data columns (total 81 columns):\n",
      " #   Column                        Dtype  \n",
      "---  ------                        -----  \n",
      " 0    Source Port                  int64  \n",
      " 1    Destination Port             int64  \n",
      " 2    Protocol                     int64  \n",
      " 3    Flow Duration                int64  \n",
      " 4    Total Fwd Packets            int64  \n",
      " 5    Total Backward Packets       int64  \n",
      " 6   Total Length of Fwd Packets   float64\n",
      " 7    Total Length of Bwd Packets  float64\n",
      " 8    Fwd Packet Length Max        float64\n",
      " 9    Fwd Packet Length Min        float64\n",
      " 10   Fwd Packet Length Mean       float64\n",
      " 11   Fwd Packet Length Std        float64\n",
      " 12  Bwd Packet Length Max         float64\n",
      " 13   Bwd Packet Length Min        float64\n",
      " 14   Bwd Packet Length Mean       float64\n",
      " 15   Bwd Packet Length Std        float64\n",
      " 16  Flow Bytes/s                  float64\n",
      " 17   Flow Packets/s               float64\n",
      " 18   Flow IAT Mean                float64\n",
      " 19   Flow IAT Std                 float64\n",
      " 20   Flow IAT Max                 float64\n",
      " 21   Flow IAT Min                 float64\n",
      " 22  Fwd IAT Total                 float64\n",
      " 23   Fwd IAT Mean                 float64\n",
      " 24   Fwd IAT Std                  float64\n",
      " 25   Fwd IAT Max                  float64\n",
      " 26   Fwd IAT Min                  float64\n",
      " 27  Bwd IAT Total                 float64\n",
      " 28   Bwd IAT Mean                 float64\n",
      " 29   Bwd IAT Std                  float64\n",
      " 30   Bwd IAT Max                  float64\n",
      " 31   Bwd IAT Min                  float64\n",
      " 32  Fwd PSH Flags                 int64  \n",
      " 33   Bwd PSH Flags                int64  \n",
      " 34   Fwd URG Flags                int64  \n",
      " 35   Bwd URG Flags                int64  \n",
      " 36   Fwd Header Length            int64  \n",
      " 37   Bwd Header Length            int64  \n",
      " 38  Fwd Packets/s                 float64\n",
      " 39   Bwd Packets/s                float64\n",
      " 40   Min Packet Length            float64\n",
      " 41   Max Packet Length            float64\n",
      " 42   Packet Length Mean           float64\n",
      " 43   Packet Length Std            float64\n",
      " 44   Packet Length Variance       float64\n",
      " 45  FIN Flag Count                int64  \n",
      " 46   SYN Flag Count               int64  \n",
      " 47   RST Flag Count               int64  \n",
      " 48   PSH Flag Count               int64  \n",
      " 49   ACK Flag Count               int64  \n",
      " 50   URG Flag Count               int64  \n",
      " 51   CWE Flag Count               int64  \n",
      " 52   ECE Flag Count               int64  \n",
      " 53   Down/Up Ratio                float64\n",
      " 54   Average Packet Size          float64\n",
      " 55   Avg Fwd Segment Size         float64\n",
      " 56   Avg Bwd Segment Size         float64\n",
      " 57   Fwd Header Length.1          int64  \n",
      " 58  Fwd Avg Bytes/Bulk            int64  \n",
      " 59   Fwd Avg Packets/Bulk         int64  \n",
      " 60   Fwd Avg Bulk Rate            int64  \n",
      " 61   Bwd Avg Bytes/Bulk           int64  \n",
      " 62   Bwd Avg Packets/Bulk         int64  \n",
      " 63  Bwd Avg Bulk Rate             int64  \n",
      " 64  Subflow Fwd Packets           int64  \n",
      " 65   Subflow Fwd Bytes            int64  \n",
      " 66   Subflow Bwd Packets          int64  \n",
      " 67   Subflow Bwd Bytes            int64  \n",
      " 68  Init_Win_bytes_forward        int64  \n",
      " 69   Init_Win_bytes_backward      int64  \n",
      " 70   act_data_pkt_fwd             int64  \n",
      " 71   min_seg_size_forward         int64  \n",
      " 72  Active Mean                   float64\n",
      " 73   Active Std                   float64\n",
      " 74   Active Max                   float64\n",
      " 75   Active Min                   float64\n",
      " 76  Idle Mean                     float64\n",
      " 77   Idle Std                     float64\n",
      " 78   Idle Max                     float64\n",
      " 79   Idle Min                     float64\n",
      " 80   Label                        object \n",
      "dtypes: float64(45), int64(35), object(1)\n",
      "memory usage: 1.6+ GB\n"
     ]
    }
   ],
   "source": [
    "df.info()"
   ]
  },
  {
   "cell_type": "code",
   "execution_count": 211,
   "metadata": {},
   "outputs": [
    {
     "data": {
      "text/plain": [
       "{'RandomForestClassifier': {'accuracy': 0.998278899657676,\n",
       "  'recall': 0.998278899657676,\n",
       "  'precision': 0.998278899657676,\n",
       "  'f1': 0.998278899657676}}"
      ]
     },
     "execution_count": 211,
     "metadata": {},
     "output_type": "execute_result"
    }
   ],
   "source": [
    "from sklearn.ensemble import RandomForestClassifier\n",
    "rnd_clf = RandomForestClassifier(n_estimators=1, random_state=42)\n",
    "\n",
    "rnd_clf.fit(X_train,y_train)\n",
    "compute_performance([rnd_clf], X_train, y_train, scoring_funs=['accuracy', 'recall', 'precision', 'f1'])"
   ]
  },
  {
   "cell_type": "code",
   "execution_count": 215,
   "metadata": {},
   "outputs": [
    {
     "name": "stdout",
     "output_type": "stream",
     "text": [
      "Position:0: 0.11563620862464351\n",
      "Position:1: 0.038019318077121445\n",
      "Position:2: 0.0\n",
      "Position:3: 0.01918726635483687\n",
      "Position:4: 0.017251661881059487\n",
      "Position:5: 4.52621563607512e-06\n",
      "Position:6: 0.001853004616954736\n",
      "Position:7: 0.0007157558026856652\n",
      "Position:8: 0.002411237800022745\n",
      "Position:9: 0.002672071444310612\n",
      "Position:10: 0.007210270132064745\n",
      "Position:11: 0.009493533416099646\n",
      "Position:12: 0.005885920604014895\n",
      "Position:13: 0.0\n",
      "Position:14: 0.010695273370523175\n",
      "Position:15: 0.0005286021627171853\n",
      "Position:16: 0.0018647729454474504\n",
      "Position:17: 0.021054157586196613\n",
      "Position:18: 0.0010158777352265952\n",
      "Position:19: 0.0005805307564929093\n",
      "Position:20: 0.0003709581821118916\n",
      "Position:21: 0.0028504764276886885\n",
      "Position:22: 0.00034880537676860437\n",
      "Position:23: 0.0004886770526337191\n",
      "Position:24: 0.15553517052444157\n",
      "Position:25: 0.004727986512404113\n",
      "Position:26: 0.0027247549007461307\n",
      "Position:27: 0.00913265630304269\n",
      "Position:28: 0.08543180954351108\n",
      "Position:29: 3.09273797808232e-05\n",
      "Position:30: 0.0002173321217607435\n",
      "Position:31: 4.870647431707724e-05\n",
      "Position:32: 0.0\n",
      "Position:33: 0.0\n",
      "Position:34: 0.0\n",
      "Position:35: 0.0\n",
      "Position:36: 0.0021941984283254876\n",
      "Position:37: 0.0006006915883275291\n",
      "Position:38: 0.0004906290388494266\n",
      "Position:39: 0.0011011187359987176\n",
      "Position:40: 0.0009181546506192201\n",
      "Position:41: 0.18589374826254718\n",
      "Position:42: 8.336315616561095e-05\n",
      "Position:43: 0.00034551802126627775\n",
      "Position:44: 0.007208098544710791\n",
      "Position:45: 0.00044022659765749456\n",
      "Position:46: 0.0009703328688490033\n",
      "Position:47: 0.0\n",
      "Position:48: 0.00010372731047928706\n",
      "Position:49: 0.001057873624088509\n",
      "Position:50: 0.0003931703237294482\n",
      "Position:51: 0.0\n",
      "Position:52: 0.0\n",
      "Position:53: 3.0179545624659463e-06\n",
      "Position:54: 0.2146205770179109\n",
      "Position:55: 0.00035207607763644815\n",
      "Position:56: 0.0001172927357602536\n",
      "Position:57: 0.0001675384695307783\n",
      "Position:58: 0.0\n",
      "Position:59: 0.0\n",
      "Position:60: 0.0\n",
      "Position:61: 0.0\n",
      "Position:62: 0.0\n",
      "Position:63: 0.0\n",
      "Position:64: 0.002431512804807614\n",
      "Position:65: 0.011510774411341875\n",
      "Position:66: 0.0006883892172164396\n",
      "Position:67: 0.014902693868791636\n",
      "Position:68: 0.023274469132637778\n",
      "Position:69: 0.000623103043855035\n",
      "Position:70: 0.0004254203272518817\n",
      "Position:71: 0.008635604191077112\n",
      "Position:72: 4.11055106900297e-05\n",
      "Position:73: 0.00018602138835544004\n",
      "Position:74: 0.00010617632564346831\n",
      "Position:75: 4.8310478450702315e-06\n",
      "Position:76: 0.0007167849183820303\n",
      "Position:77: 0.0\n",
      "Position:78: 0.0013705322622636447\n",
      "Position:79: 3.297781756468997e-05\n"
     ]
    }
   ],
   "source": [
    "for i,x in enumerate(rnd_clf.feature_importances_):\n",
    "    print(\"Position:{}: {}\".format(i,x))"
   ]
  }
 ],
 "metadata": {
  "kernelspec": {
   "display_name": "Python 3",
   "language": "python",
   "name": "python3"
  },
  "language_info": {
   "codemirror_mode": {
    "name": "ipython",
    "version": 3
   },
   "file_extension": ".py",
   "mimetype": "text/x-python",
   "name": "python",
   "nbconvert_exporter": "python",
   "pygments_lexer": "ipython3",
   "version": "3.10.0"
  },
  "orig_nbformat": 4,
  "vscode": {
   "interpreter": {
    "hash": "b323625c1ed716612379b78d213690fb00932e5b7f08ac805d5dc3a86801cc7b"
   }
  }
 },
 "nbformat": 4,
 "nbformat_minor": 2
}
