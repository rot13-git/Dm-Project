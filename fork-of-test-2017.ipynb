{
 "cells": [
  {
   "attachments": {},
   "cell_type": "markdown",
   "id": "ed752b3a",
   "metadata": {},
   "source": [
    "# Progetto Data Mining: Intrusion Detection System \n",
    "\n",
    "**Studenti:** Miriello Raffaele (227564) e Francesco Palumbo (235805)\n",
    "\n",
    "Il seguente progetto si pone come scopo l'analisi di dati provenienti da Intrusion Detection Systems (IDSs), i quali sono i più importanti strumenti di difesa per gli attacchi sempre più sofisticati che attaccano le reti.\n",
    "\n",
    "Il dataset **CICIDS2017**, utilizzato in questo notebook, contiene attacchi benigni e comuni più recenti, che assomigliano ai dati reali (PCAP). Include inoltre il risultato dell'analisi del traffico di rete utilizzando **CICFlowMeter** i cui flussi sono etichettati con timestamp, IP sorgente e destinazione, Porta sorgente e destinazione, protocolli e attacco.\n",
    "\n",
    "Si è pensato quindi proprio di andare a fare classificazione sull'attributo **Label**, del quale verranno nel seguito mostrati i possibili valori e le sue caratteristiche."
   ]
  },
  {
   "attachments": {},
   "cell_type": "markdown",
   "id": "289073a4",
   "metadata": {},
   "source": [
    "**Link al dataset**: https://www.unb.ca/cic/datasets/ids-2017.html"
   ]
  },
  {
   "attachments": {},
   "cell_type": "markdown",
   "id": "f3295013",
   "metadata": {},
   "source": [
    "Importazione delle librerie utili alle analisi:"
   ]
  },
  {
   "cell_type": "code",
   "execution_count": 5,
   "id": "283057f9",
   "metadata": {
    "_cell_guid": "b1076dfc-b9ad-4769-8c92-a6c4dae69d19",
    "_uuid": "8f2839f25d086af736a60e9eeb907d3b93b6e0e5",
    "execution": {
     "iopub.execute_input": "2023-02-24T21:10:15.454379Z",
     "iopub.status.busy": "2023-02-24T21:10:15.453727Z",
     "iopub.status.idle": "2023-02-24T21:10:15.473788Z",
     "shell.execute_reply": "2023-02-24T21:10:15.471970Z"
    },
    "papermill": {
     "duration": 0.036955,
     "end_time": "2023-02-24T21:10:15.477599",
     "exception": false,
     "start_time": "2023-02-24T21:10:15.440644",
     "status": "completed"
    },
    "tags": []
   },
   "outputs": [],
   "source": [
    "# This Python 3 environment comes with many helpful analytics libraries installed\n",
    "# It is defined by the kaggle/python Docker image: https://github.com/kaggle/docker-python\n",
    "# For example, here's several helpful packages to load\n",
    "\n",
    "import numpy as np # linear algebra\n",
    "import pandas as pd # data processing, CSV file I/O (e.g. pd.read_csv)\n",
    "\n",
    "# Input data files are available in the read-only \"../input/\" directory\n",
    "# For example, running this (by clicking run or pressing Shift+Enter) will list all files under the input directory\n",
    "\n",
    "import os\n",
    "for dirname, _, filenames in os.walk('/kaggle/input'):\n",
    "    for filename in filenames:\n",
    "        print(os.path.join(dirname, filename))\n",
    "\n",
    "# You can write up to 20GB to the current directory (/kaggle/working/) that gets preserved as output when you create a version using \"Save & Run All\" \n",
    "# You can also write temporary files to /kaggle/temp/, but they won't be saved outside of the current session"
   ]
  },
  {
   "cell_type": "code",
   "execution_count": 6,
   "id": "1b7e6b24",
   "metadata": {},
   "outputs": [],
   "source": [
    "from sklearn.model_selection import train_test_split\n",
    "from sklearn.model_selection import cross_val_score\n",
    "import pickle\n",
    "from sklearn.pipeline import Pipeline"
   ]
  },
  {
   "cell_type": "markdown",
   "id": "e44fa41d",
   "metadata": {
    "papermill": {
     "duration": 0.008843,
     "end_time": "2023-02-24T21:10:15.495987",
     "exception": false,
     "start_time": "2023-02-24T21:10:15.487144",
     "status": "completed"
    },
    "tags": []
   },
   "source": [
    "# Loading DataSet"
   ]
  },
  {
   "attachments": {},
   "cell_type": "markdown",
   "id": "3d60247f",
   "metadata": {},
   "source": [
    "I dati sono suddivisi in più dataset ognuno per giorno in cui sono stati catturati i dati. Vengono quindi uniti in un unico dataframe per poi poter eseguire comodamente tutte le operazioni successive."
   ]
  },
  {
   "cell_type": "code",
   "execution_count": 7,
   "id": "494b7d26",
   "metadata": {
    "execution": {
     "iopub.execute_input": "2023-02-24T21:10:15.517151Z",
     "iopub.status.busy": "2023-02-24T21:10:15.516301Z",
     "iopub.status.idle": "2023-02-24T21:11:02.741926Z",
     "shell.execute_reply": "2023-02-24T21:11:02.740591Z"
    },
    "papermill": {
     "duration": 47.23962,
     "end_time": "2023-02-24T21:11:02.744807",
     "exception": false,
     "start_time": "2023-02-24T21:10:15.505187",
     "status": "completed"
    },
    "tags": []
   },
   "outputs": [],
   "source": [
    "df = pd.read_csv(\"Dm-Project/dataset/dataset/Wednesday-WorkingHours.csv\")\n",
    "df = pd.concat([df, pd.read_csv(\"Dm-Project/dataset/dataset/Thursday-WorkingHours.csv\")])\n",
    "df = pd.concat([df, pd.read_csv(\"Dm-Project/dataset/dataset/Tuesday-WorkingHours.csv\")])\n",
    "df = pd.concat([df, pd.read_csv(\"Dm-Project/dataset/dataset/Monday-WorkingHours.csv\")])\n",
    "df = pd.concat([df, pd.read_csv(\"Dm-Project/dataset/dataset/Friday-WorkingHours.csv\")])"
   ]
  },
  {
   "attachments": {},
   "cell_type": "markdown",
   "id": "55e020f1",
   "metadata": {},
   "source": [
    "Si mostra la struttura del dataset attraverso il comando **info()**"
   ]
  },
  {
   "cell_type": "code",
   "execution_count": 8,
   "id": "fc3a96c5",
   "metadata": {
    "execution": {
     "iopub.execute_input": "2023-02-24T21:11:02.799702Z",
     "iopub.status.busy": "2023-02-24T21:11:02.799139Z",
     "iopub.status.idle": "2023-02-24T21:11:02.835295Z",
     "shell.execute_reply": "2023-02-24T21:11:02.832563Z"
    },
    "papermill": {
     "duration": 0.050903,
     "end_time": "2023-02-24T21:11:02.838965",
     "exception": false,
     "start_time": "2023-02-24T21:11:02.788062",
     "status": "completed"
    },
    "tags": []
   },
   "outputs": [
    {
     "name": "stdout",
     "output_type": "stream",
     "text": [
      "<class 'pandas.core.frame.DataFrame'>\n",
      "Int64Index: 2100814 entries, 0 to 547914\n",
      "Data columns (total 84 columns):\n",
      " #   Column                      Dtype  \n",
      "---  ------                      -----  \n",
      " 0   Flow ID                     object \n",
      " 1   Src IP                      object \n",
      " 2   Src Port                    int64  \n",
      " 3   Dst IP                      object \n",
      " 4   Dst Port                    int64  \n",
      " 5   Protocol                    int64  \n",
      " 6   Timestamp                   object \n",
      " 7   Flow Duration               int64  \n",
      " 8   Total Fwd Packet            int64  \n",
      " 9   Total Bwd packets           int64  \n",
      " 10  Total Length of Fwd Packet  float64\n",
      " 11  Total Length of Bwd Packet  float64\n",
      " 12  Fwd Packet Length Max       float64\n",
      " 13  Fwd Packet Length Min       float64\n",
      " 14  Fwd Packet Length Mean      float64\n",
      " 15  Fwd Packet Length Std       float64\n",
      " 16  Bwd Packet Length Max       float64\n",
      " 17  Bwd Packet Length Min       float64\n",
      " 18  Bwd Packet Length Mean      float64\n",
      " 19  Bwd Packet Length Std       float64\n",
      " 20  Flow Bytes/s                float64\n",
      " 21  Flow Packets/s              float64\n",
      " 22  Flow IAT Mean               float64\n",
      " 23  Flow IAT Std                float64\n",
      " 24  Flow IAT Max                float64\n",
      " 25  Flow IAT Min                float64\n",
      " 26  Fwd IAT Total               float64\n",
      " 27  Fwd IAT Mean                float64\n",
      " 28  Fwd IAT Std                 float64\n",
      " 29  Fwd IAT Max                 float64\n",
      " 30  Fwd IAT Min                 float64\n",
      " 31  Bwd IAT Total               float64\n",
      " 32  Bwd IAT Mean                float64\n",
      " 33  Bwd IAT Std                 float64\n",
      " 34  Bwd IAT Max                 float64\n",
      " 35  Bwd IAT Min                 float64\n",
      " 36  Fwd PSH Flags               int64  \n",
      " 37  Bwd PSH Flags               int64  \n",
      " 38  Fwd URG Flags               int64  \n",
      " 39  Bwd URG Flags               int64  \n",
      " 40  Fwd Header Length           int64  \n",
      " 41  Bwd Header Length           int64  \n",
      " 42  Fwd Packets/s               float64\n",
      " 43  Bwd Packets/s               float64\n",
      " 44  Packet Length Min           float64\n",
      " 45  Packet Length Max           float64\n",
      " 46  Packet Length Mean          float64\n",
      " 47  Packet Length Std           float64\n",
      " 48  Packet Length Variance      float64\n",
      " 49  FIN Flag Count              int64  \n",
      " 50  SYN Flag Count              int64  \n",
      " 51  RST Flag Count              int64  \n",
      " 52  PSH Flag Count              int64  \n",
      " 53  ACK Flag Count              int64  \n",
      " 54  URG Flag Count              int64  \n",
      " 55  CWR Flag Count              int64  \n",
      " 56  ECE Flag Count              int64  \n",
      " 57  Down/Up Ratio               float64\n",
      " 58  Average Packet Size         float64\n",
      " 59  Fwd Segment Size Avg        float64\n",
      " 60  Bwd Segment Size Avg        float64\n",
      " 61  Fwd Bytes/Bulk Avg          int64  \n",
      " 62  Fwd Packet/Bulk Avg         int64  \n",
      " 63  Fwd Bulk Rate Avg           int64  \n",
      " 64  Bwd Bytes/Bulk Avg          int64  \n",
      " 65  Bwd Packet/Bulk Avg         int64  \n",
      " 66  Bwd Bulk Rate Avg           int64  \n",
      " 67  Subflow Fwd Packets         int64  \n",
      " 68  Subflow Fwd Bytes           int64  \n",
      " 69  Subflow Bwd Packets         int64  \n",
      " 70  Subflow Bwd Bytes           int64  \n",
      " 71  FWD Init Win Bytes          int64  \n",
      " 72  Bwd Init Win Bytes          int64  \n",
      " 73  Fwd Act Data Pkts           int64  \n",
      " 74  Fwd Seg Size Min            int64  \n",
      " 75  Active Mean                 float64\n",
      " 76  Active Std                  float64\n",
      " 77  Active Max                  float64\n",
      " 78  Active Min                  float64\n",
      " 79  Idle Mean                   float64\n",
      " 80  Idle Std                    float64\n",
      " 81  Idle Max                    float64\n",
      " 82  Idle Min                    float64\n",
      " 83  Label                       object \n",
      "dtypes: float64(45), int64(34), object(5)\n",
      "memory usage: 1.3+ GB\n"
     ]
    }
   ],
   "source": [
    "df.info()"
   ]
  },
  {
   "cell_type": "markdown",
   "id": "11e35d63",
   "metadata": {
    "papermill": {
     "duration": 0.009311,
     "end_time": "2023-02-24T21:11:02.858077",
     "exception": false,
     "start_time": "2023-02-24T21:11:02.848766",
     "status": "completed"
    },
    "tags": []
   },
   "source": [
    "# Cleaning DataSet"
   ]
  },
  {
   "attachments": {},
   "cell_type": "markdown",
   "id": "0e09cb59",
   "metadata": {},
   "source": [
    "Come visto tramite l'output del comando precedente abbiamo tante colonne ed anche una grossa quantità di entry. \n",
    "Procediamo ad un analisi delle colonne per eliminare eventuali valori nulli ed effettuare ulteriore pulizia su colonne non importanti allo scopo dell'analisi."
   ]
  },
  {
   "cell_type": "code",
   "execution_count": 9,
   "id": "07373006",
   "metadata": {
    "execution": {
     "iopub.execute_input": "2023-02-24T21:11:02.879873Z",
     "iopub.status.busy": "2023-02-24T21:11:02.879295Z",
     "iopub.status.idle": "2023-02-24T21:11:03.669646Z",
     "shell.execute_reply": "2023-02-24T21:11:03.667599Z"
    },
    "papermill": {
     "duration": 0.804923,
     "end_time": "2023-02-24T21:11:03.672989",
     "exception": false,
     "start_time": "2023-02-24T21:11:02.868066",
     "status": "completed"
    },
    "tags": []
   },
   "outputs": [
    {
     "data": {
      "text/html": [
       "<div>\n",
       "<style scoped>\n",
       "    .dataframe tbody tr th:only-of-type {\n",
       "        vertical-align: middle;\n",
       "    }\n",
       "\n",
       "    .dataframe tbody tr th {\n",
       "        vertical-align: top;\n",
       "    }\n",
       "\n",
       "    .dataframe thead th {\n",
       "        text-align: right;\n",
       "    }\n",
       "</style>\n",
       "<table border=\"1\" class=\"dataframe\">\n",
       "  <thead>\n",
       "    <tr style=\"text-align: right;\">\n",
       "      <th></th>\n",
       "      <th>0</th>\n",
       "    </tr>\n",
       "  </thead>\n",
       "  <tbody>\n",
       "    <tr>\n",
       "      <th>Flow Bytes/s</th>\n",
       "      <td>602</td>\n",
       "    </tr>\n",
       "    <tr>\n",
       "      <th>Flow IAT Mean</th>\n",
       "      <td>252</td>\n",
       "    </tr>\n",
       "    <tr>\n",
       "      <th>Flow IAT Std</th>\n",
       "      <td>252</td>\n",
       "    </tr>\n",
       "    <tr>\n",
       "      <th>Flow IAT Min</th>\n",
       "      <td>252</td>\n",
       "    </tr>\n",
       "    <tr>\n",
       "      <th>Flow IAT Max</th>\n",
       "      <td>252</td>\n",
       "    </tr>\n",
       "    <tr>\n",
       "      <th>...</th>\n",
       "      <td>...</td>\n",
       "    </tr>\n",
       "    <tr>\n",
       "      <th>Fwd IAT Min</th>\n",
       "      <td>0</td>\n",
       "    </tr>\n",
       "    <tr>\n",
       "      <th>Fwd IAT Max</th>\n",
       "      <td>0</td>\n",
       "    </tr>\n",
       "    <tr>\n",
       "      <th>Fwd IAT Std</th>\n",
       "      <td>0</td>\n",
       "    </tr>\n",
       "    <tr>\n",
       "      <th>Fwd IAT Mean</th>\n",
       "      <td>0</td>\n",
       "    </tr>\n",
       "    <tr>\n",
       "      <th>Label</th>\n",
       "      <td>0</td>\n",
       "    </tr>\n",
       "  </tbody>\n",
       "</table>\n",
       "<p>84 rows × 1 columns</p>\n",
       "</div>"
      ],
      "text/plain": [
       "                 0\n",
       "Flow Bytes/s   602\n",
       "Flow IAT Mean  252\n",
       "Flow IAT Std   252\n",
       "Flow IAT Min   252\n",
       "Flow IAT Max   252\n",
       "...            ...\n",
       "Fwd IAT Min      0\n",
       "Fwd IAT Max      0\n",
       "Fwd IAT Std      0\n",
       "Fwd IAT Mean     0\n",
       "Label            0\n",
       "\n",
       "[84 rows x 1 columns]"
      ]
     },
     "execution_count": 9,
     "metadata": {},
     "output_type": "execute_result"
    }
   ],
   "source": [
    "pd.DataFrame(df.isnull().sum()).sort_values(ascending=0,by=[0])"
   ]
  },
  {
   "attachments": {},
   "cell_type": "markdown",
   "id": "643aa077",
   "metadata": {},
   "source": [
    "Notiamo che in particolare la colonna *Flow Bytes/s* presenta valori nulli, i quali sono comunque in bassa percentuale rispetto al totale per cui eliminiamo direttamente le righe attraverso il metodo *drop*."
   ]
  },
  {
   "cell_type": "code",
   "execution_count": 10,
   "id": "5099a866",
   "metadata": {
    "execution": {
     "iopub.execute_input": "2023-02-24T21:11:03.696757Z",
     "iopub.status.busy": "2023-02-24T21:11:03.696268Z",
     "iopub.status.idle": "2023-02-24T21:11:07.279618Z",
     "shell.execute_reply": "2023-02-24T21:11:07.278265Z"
    },
    "papermill": {
     "duration": 3.598459,
     "end_time": "2023-02-24T21:11:07.282511",
     "exception": false,
     "start_time": "2023-02-24T21:11:03.684052",
     "status": "completed"
    },
    "tags": []
   },
   "outputs": [
    {
     "data": {
      "text/plain": [
       "(2098292, 84)"
      ]
     },
     "execution_count": 10,
     "metadata": {},
     "output_type": "execute_result"
    }
   ],
   "source": [
    "rows = df.loc[df['Flow Bytes/s'].isnull()]\n",
    "df.drop(labels=rows.index,axis=0,inplace=True)\n",
    "df.shape"
   ]
  },
  {
   "cell_type": "code",
   "execution_count": 11,
   "id": "377a13ed",
   "metadata": {
    "execution": {
     "iopub.execute_input": "2023-02-24T21:11:07.307867Z",
     "iopub.status.busy": "2023-02-24T21:11:07.306535Z",
     "iopub.status.idle": "2023-02-24T21:11:08.175216Z",
     "shell.execute_reply": "2023-02-24T21:11:08.173782Z"
    },
    "papermill": {
     "duration": 0.884789,
     "end_time": "2023-02-24T21:11:08.179038",
     "exception": false,
     "start_time": "2023-02-24T21:11:07.294249",
     "status": "completed"
    },
    "tags": []
   },
   "outputs": [
    {
     "data": {
      "text/html": [
       "<div>\n",
       "<style scoped>\n",
       "    .dataframe tbody tr th:only-of-type {\n",
       "        vertical-align: middle;\n",
       "    }\n",
       "\n",
       "    .dataframe tbody tr th {\n",
       "        vertical-align: top;\n",
       "    }\n",
       "\n",
       "    .dataframe thead th {\n",
       "        text-align: right;\n",
       "    }\n",
       "</style>\n",
       "<table border=\"1\" class=\"dataframe\">\n",
       "  <thead>\n",
       "    <tr style=\"text-align: right;\">\n",
       "      <th></th>\n",
       "      <th>0</th>\n",
       "    </tr>\n",
       "  </thead>\n",
       "  <tbody>\n",
       "    <tr>\n",
       "      <th>Flow IAT Mean</th>\n",
       "      <td>174</td>\n",
       "    </tr>\n",
       "    <tr>\n",
       "      <th>Flow IAT Min</th>\n",
       "      <td>174</td>\n",
       "    </tr>\n",
       "    <tr>\n",
       "      <th>Flow IAT Max</th>\n",
       "      <td>174</td>\n",
       "    </tr>\n",
       "    <tr>\n",
       "      <th>Flow IAT Std</th>\n",
       "      <td>174</td>\n",
       "    </tr>\n",
       "    <tr>\n",
       "      <th>Packet Length Variance</th>\n",
       "      <td>0</td>\n",
       "    </tr>\n",
       "    <tr>\n",
       "      <th>...</th>\n",
       "      <td>...</td>\n",
       "    </tr>\n",
       "    <tr>\n",
       "      <th>Fwd IAT Max</th>\n",
       "      <td>0</td>\n",
       "    </tr>\n",
       "    <tr>\n",
       "      <th>Fwd IAT Std</th>\n",
       "      <td>0</td>\n",
       "    </tr>\n",
       "    <tr>\n",
       "      <th>Fwd IAT Mean</th>\n",
       "      <td>0</td>\n",
       "    </tr>\n",
       "    <tr>\n",
       "      <th>Fwd IAT Total</th>\n",
       "      <td>0</td>\n",
       "    </tr>\n",
       "    <tr>\n",
       "      <th>Label</th>\n",
       "      <td>0</td>\n",
       "    </tr>\n",
       "  </tbody>\n",
       "</table>\n",
       "<p>84 rows × 1 columns</p>\n",
       "</div>"
      ],
      "text/plain": [
       "                          0\n",
       "Flow IAT Mean           174\n",
       "Flow IAT Min            174\n",
       "Flow IAT Max            174\n",
       "Flow IAT Std            174\n",
       "Packet Length Variance    0\n",
       "...                     ...\n",
       "Fwd IAT Max               0\n",
       "Fwd IAT Std               0\n",
       "Fwd IAT Mean              0\n",
       "Fwd IAT Total             0\n",
       "Label                     0\n",
       "\n",
       "[84 rows x 1 columns]"
      ]
     },
     "execution_count": 11,
     "metadata": {},
     "output_type": "execute_result"
    }
   ],
   "source": [
    "pd.DataFrame(df.isnull().sum()).sort_values(ascending=0,by=[0])"
   ]
  },
  {
   "cell_type": "code",
   "execution_count": 12,
   "id": "3cdc497a",
   "metadata": {
    "execution": {
     "iopub.execute_input": "2023-02-24T21:11:08.202475Z",
     "iopub.status.busy": "2023-02-24T21:11:08.201967Z",
     "iopub.status.idle": "2023-02-24T21:11:08.217679Z",
     "shell.execute_reply": "2023-02-24T21:11:08.216397Z"
    },
    "papermill": {
     "duration": 0.030619,
     "end_time": "2023-02-24T21:11:08.220562",
     "exception": false,
     "start_time": "2023-02-24T21:11:08.189943",
     "status": "completed"
    },
    "tags": []
   },
   "outputs": [
    {
     "data": {
      "text/plain": [
       "0    174\n",
       "Name: Flow Duration, dtype: int64"
      ]
     },
     "execution_count": 12,
     "metadata": {},
     "output_type": "execute_result"
    }
   ],
   "source": [
    "df[df['Flow IAT Mean'].isnull()]['Flow Duration'].value_counts()"
   ]
  },
  {
   "attachments": {},
   "cell_type": "markdown",
   "id": "1785e33a",
   "metadata": {
    "papermill": {
     "duration": 0.009849,
     "end_time": "2023-02-24T21:11:08.241857",
     "exception": false,
     "start_time": "2023-02-24T21:11:08.232008",
     "status": "completed"
    },
    "tags": []
   },
   "source": [
    "Notiamo dunque che quando l'Inter Arrival Time (IAT, il tempo che intercorre tra l'arrivo di un pacchetto e il prossimo) è nullo è poiché il flow stesso è durato 0s per cui non stiamo parlando di dati anomali ma di proprietà intrinseche dei dati."
   ]
  },
  {
   "cell_type": "markdown",
   "id": "5714a300",
   "metadata": {
    "papermill": {
     "duration": 0.009648,
     "end_time": "2023-02-24T21:11:08.261651",
     "exception": false,
     "start_time": "2023-02-24T21:11:08.252003",
     "status": "completed"
    },
    "tags": []
   },
   "source": [
    "Eliminiamo le righe che hanno valori all'infinito"
   ]
  },
  {
   "cell_type": "code",
   "execution_count": 13,
   "id": "20089909",
   "metadata": {
    "execution": {
     "iopub.execute_input": "2023-02-24T21:11:08.284417Z",
     "iopub.status.busy": "2023-02-24T21:11:08.283867Z",
     "iopub.status.idle": "2023-02-24T21:11:11.391614Z",
     "shell.execute_reply": "2023-02-24T21:11:11.389896Z"
    },
    "papermill": {
     "duration": 3.122949,
     "end_time": "2023-02-24T21:11:11.394811",
     "exception": false,
     "start_time": "2023-02-24T21:11:08.271862",
     "status": "completed"
    },
    "tags": []
   },
   "outputs": [
    {
     "name": "stderr",
     "output_type": "stream",
     "text": [
      "C:\\Users\\mirie\\AppData\\Local\\Temp\\ipykernel_12360\\854095094.py:1: FutureWarning: In a future version of pandas all arguments of DataFrame.any and Series.any will be keyword-only.\n",
      "  rows = df.loc[np.isinf(df.select_dtypes(exclude=object)).any(1)]\n"
     ]
    },
    {
     "data": {
      "text/plain": [
       "(2097341, 84)"
      ]
     },
     "execution_count": 13,
     "metadata": {},
     "output_type": "execute_result"
    }
   ],
   "source": [
    "rows = df.loc[np.isinf(df.select_dtypes(exclude=object)).any(1)]\n",
    "df.drop(labels=rows.index,axis=0,inplace=True)\n",
    "df.shape"
   ]
  },
  {
   "cell_type": "markdown",
   "id": "f8884cb9",
   "metadata": {
    "papermill": {
     "duration": 0.010826,
     "end_time": "2023-02-24T21:11:11.416401",
     "exception": false,
     "start_time": "2023-02-24T21:11:11.405575",
     "status": "completed"
    },
    "tags": []
   },
   "source": [
    "Il modello non deve imparare pattern in base agli IP e dunque eliminiamo le relative colonne (Flow ID è un'unione di altre colonne già presenti)."
   ]
  },
  {
   "cell_type": "code",
   "execution_count": 14,
   "id": "ab8d8334",
   "metadata": {
    "execution": {
     "iopub.execute_input": "2023-02-24T21:11:11.440213Z",
     "iopub.status.busy": "2023-02-24T21:11:11.439722Z",
     "iopub.status.idle": "2023-02-24T21:11:12.466633Z",
     "shell.execute_reply": "2023-02-24T21:11:12.465495Z"
    },
    "papermill": {
     "duration": 1.042227,
     "end_time": "2023-02-24T21:11:12.469471",
     "exception": false,
     "start_time": "2023-02-24T21:11:11.427244",
     "status": "completed"
    },
    "tags": []
   },
   "outputs": [],
   "source": [
    "df.drop([\"Flow ID\",\"Src IP\",\"Dst IP\",\"Timestamp\"],axis=1,inplace=True)"
   ]
  },
  {
   "cell_type": "markdown",
   "id": "6ffd65c8",
   "metadata": {
    "papermill": {
     "duration": 0.010178,
     "end_time": "2023-02-24T21:11:12.490794",
     "exception": false,
     "start_time": "2023-02-24T21:11:12.480616",
     "status": "completed"
    },
    "tags": []
   },
   "source": [
    "# Classificatore Binario (Benigno/Maligno)"
   ]
  },
  {
   "attachments": {},
   "cell_type": "markdown",
   "id": "e6ef1db4",
   "metadata": {},
   "source": [
    "Dopo aver effettuato la prima fase di preprocessing dei dati ci concentriamo ora sulla colonna **Label** la quale rappresenta l'etichetta della classe a cui il record appartiene."
   ]
  },
  {
   "cell_type": "code",
   "execution_count": 15,
   "id": "8fa145d5",
   "metadata": {
    "execution": {
     "iopub.execute_input": "2023-02-24T21:11:12.513919Z",
     "iopub.status.busy": "2023-02-24T21:11:12.513393Z",
     "iopub.status.idle": "2023-02-24T21:11:12.655765Z",
     "shell.execute_reply": "2023-02-24T21:11:12.653857Z"
    },
    "papermill": {
     "duration": 0.157783,
     "end_time": "2023-02-24T21:11:12.658927",
     "exception": false,
     "start_time": "2023-02-24T21:11:12.501144",
     "status": "completed"
    },
    "tags": []
   },
   "outputs": [
    {
     "data": {
      "text/plain": [
       "BENIGN                                  1654877\n",
       "PortScan                                 158960\n",
       "DoS Hulk                                 158196\n",
       "DDoS                                      95026\n",
       "DoS GoldenEye                              7561\n",
       "DoS slowloris                              3991\n",
       "FTP-Patator                                3962\n",
       "DoS Slowhttptest - Attempted               3363\n",
       "SSH-Patator                                2977\n",
       "DoS Slowhttptest                           1737\n",
       "DoS slowloris - Attempted                  1698\n",
       "Bot - Attempted                            1466\n",
       "Web Attack - Brute Force - Attempted       1214\n",
       "Bot                                         738\n",
       "Web Attack - XSS - Attempted                650\n",
       "DoS Hulk - Attempted                        577\n",
       "Web Attack - Brute Force                    151\n",
       "DoS GoldenEye - Attempted                    80\n",
       "Infiltration                                 32\n",
       "Web Attack - XSS                             27\n",
       "Infiltration - Attempted                     16\n",
       "Web Attack - Sql Injection                   12\n",
       "FTP-Patator - Attempted                      11\n",
       "Heartbleed                                   11\n",
       "SSH-Patator - Attempted                       8\n",
       "Name: Label, dtype: int64"
      ]
     },
     "execution_count": 15,
     "metadata": {},
     "output_type": "execute_result"
    }
   ],
   "source": [
    "df[\"Label\"].value_counts()"
   ]
  },
  {
   "attachments": {},
   "cell_type": "markdown",
   "id": "bba9a016",
   "metadata": {},
   "source": [
    "Si nota che il numero di classi è molto grande ed è caratterizzato da alcune di esse con un numero davvero molto basso di record che vi ci appartengono, questo come sappiamo non consente di effettuare una corretta classificazione avendo un dataset molto *umbalanced*. \n",
    "Per cui potremmo attuare diverse soluzioni per sopperire a questo problema, la prima che decidiamo di seguire è quella di limitarci ad effettuare la distinzione tra:\n",
    " - BENIGN\n",
    " - MALIGN\n",
    "\n",
    "Nella seconda classe andremo a collassare tutte le altre classi diverse da BENIGN"
   ]
  },
  {
   "cell_type": "code",
   "execution_count": 16,
   "id": "59f53e02",
   "metadata": {
    "execution": {
     "iopub.execute_input": "2023-02-24T21:11:12.682770Z",
     "iopub.status.busy": "2023-02-24T21:11:12.682266Z",
     "iopub.status.idle": "2023-02-24T21:11:13.257817Z",
     "shell.execute_reply": "2023-02-24T21:11:13.255964Z"
    },
    "papermill": {
     "duration": 0.591815,
     "end_time": "2023-02-24T21:11:13.261148",
     "exception": false,
     "start_time": "2023-02-24T21:11:12.669333",
     "status": "completed"
    },
    "tags": []
   },
   "outputs": [
    {
     "data": {
      "text/plain": [
       "(442464, 80)"
      ]
     },
     "execution_count": 16,
     "metadata": {},
     "output_type": "execute_result"
    }
   ],
   "source": [
    "df_maligne = df[df[\"Label\"]!='BENIGN'].copy()\n",
    "df_maligne[\"Label\"] = \"MALIGN\"\n",
    "df_maligne.shape"
   ]
  },
  {
   "attachments": {},
   "cell_type": "markdown",
   "id": "894a123f",
   "metadata": {},
   "source": [
    "Per poter compensare il minor numero di record con etichetta **MALIGN** rispetto a quelli con etichetta **BENIGN** effettuiamo un semplice sampling senza utilizzare particolari strategie, argomento che verrà ritrattato nelle sezioni successive. "
   ]
  },
  {
   "cell_type": "code",
   "execution_count": 17,
   "id": "e40bf748",
   "metadata": {
    "execution": {
     "iopub.execute_input": "2023-02-24T21:11:13.286339Z",
     "iopub.status.busy": "2023-02-24T21:11:13.285832Z",
     "iopub.status.idle": "2023-02-24T21:11:15.839022Z",
     "shell.execute_reply": "2023-02-24T21:11:15.837691Z"
    },
    "papermill": {
     "duration": 2.569397,
     "end_time": "2023-02-24T21:11:15.842053",
     "exception": false,
     "start_time": "2023-02-24T21:11:13.272656",
     "status": "completed"
    },
    "tags": []
   },
   "outputs": [
    {
     "data": {
      "text/plain": [
       "MALIGN    442464\n",
       "BENIGN    442464\n",
       "Name: Label, dtype: int64"
      ]
     },
     "execution_count": 17,
     "metadata": {},
     "output_type": "execute_result"
    }
   ],
   "source": [
    "df_bin = pd.concat([df_maligne, df[df[\"Label\"]=='BENIGN'].sample(len(df_maligne))])\n",
    "df_bin[\"Label\"].value_counts()"
   ]
  },
  {
   "attachments": {},
   "cell_type": "markdown",
   "id": "0732cbcc",
   "metadata": {},
   "source": [
    "Dopo aver quindi sistemato i record procediamo a dividere l'intero dataset in *train set* e *test set* per poter procedere all'addestramento del modello di machine learning. Il tutto viene fatto attraverso la funzione *train_test_split*, che prende in input un valore *0,2%* che corrisponde alla dimensione del test set rispetto al dataset totale."
   ]
  },
  {
   "cell_type": "code",
   "execution_count": 18,
   "id": "d952be1d",
   "metadata": {
    "execution": {
     "iopub.execute_input": "2023-02-24T21:11:15.866551Z",
     "iopub.status.busy": "2023-02-24T21:11:15.866028Z",
     "iopub.status.idle": "2023-02-24T21:11:19.658269Z",
     "shell.execute_reply": "2023-02-24T21:11:19.656363Z"
    },
    "papermill": {
     "duration": 3.808629,
     "end_time": "2023-02-24T21:11:19.661725",
     "exception": false,
     "start_time": "2023-02-24T21:11:15.853096",
     "status": "completed"
    },
    "tags": []
   },
   "outputs": [
    {
     "name": "stdout",
     "output_type": "stream",
     "text": [
      "(707942, 79) (707942,) (176986, 79) (176986,)\n"
     ]
    }
   ],
   "source": [
    "from sklearn.model_selection import train_test_split\n",
    "\n",
    "y = df_bin[\"Label\"]\n",
    "X = df_bin.drop(columns= \"Label\")\n",
    "X_train, X_test,  y_train, y_test = train_test_split(X,y, test_size=0.2)\n",
    "print(X_train.shape, y_train.shape, X_test.shape, y_test.shape)"
   ]
  },
  {
   "cell_type": "code",
   "execution_count": 19,
   "id": "7b082d88",
   "metadata": {
    "execution": {
     "iopub.execute_input": "2023-02-24T21:11:19.686942Z",
     "iopub.status.busy": "2023-02-24T21:11:19.686457Z",
     "iopub.status.idle": "2023-02-24T21:11:19.737200Z",
     "shell.execute_reply": "2023-02-24T21:11:19.736222Z"
    },
    "papermill": {
     "duration": 0.065987,
     "end_time": "2023-02-24T21:11:19.739572",
     "exception": false,
     "start_time": "2023-02-24T21:11:19.673585",
     "status": "completed"
    },
    "tags": []
   },
   "outputs": [
    {
     "data": {
      "text/plain": [
       "MALIGN    354052\n",
       "BENIGN    353890\n",
       "Name: Label, dtype: int64"
      ]
     },
     "execution_count": 19,
     "metadata": {},
     "output_type": "execute_result"
    }
   ],
   "source": [
    "y_train.value_counts()"
   ]
  },
  {
   "attachments": {},
   "cell_type": "markdown",
   "id": "5f7057b9",
   "metadata": {},
   "source": [
    "Si è scelto di utilizzare come primo classificatore **Random Forest** per poter effettuare un primo train senza andare a fare alcun tipo di *parameter tuning* e poiché da la possibilità di consultare la *feature importance*. "
   ]
  },
  {
   "cell_type": "code",
   "execution_count": 20,
   "id": "3e150b1d",
   "metadata": {
    "execution": {
     "iopub.execute_input": "2023-02-24T21:11:19.765295Z",
     "iopub.status.busy": "2023-02-24T21:11:19.764846Z",
     "iopub.status.idle": "2023-02-24T21:12:21.041625Z",
     "shell.execute_reply": "2023-02-24T21:12:21.039487Z"
    },
    "papermill": {
     "duration": 61.305647,
     "end_time": "2023-02-24T21:12:21.056609",
     "exception": false,
     "start_time": "2023-02-24T21:11:19.750962",
     "status": "completed"
    },
    "tags": []
   },
   "outputs": [],
   "source": [
    "from sklearn.ensemble import RandomForestClassifier\n",
    "\n",
    "#rnd_clf = RandomForestClassifier(n_estimators=10, random_state=42)\n",
    "#rnd_clf.fit(X_train,y_train)\n",
    "\n",
    "filename = './Model/Binary/rnd_clf.sav'\n",
    "#pickle.dump(rnd_clf, open(filename, 'wb'))\n",
    "\n",
    "\n",
    "rnd_clf = pickle.load(open(filename, 'rb'))\n",
    "y_pred = rnd_clf.predict(X_test)\n"
   ]
  },
  {
   "attachments": {},
   "cell_type": "markdown",
   "id": "b9ae5756",
   "metadata": {},
   "source": [
    "Per la valutazione dei risultati di classificazione utilizziamo la funzione *classification_report* che è fornita da sklearn la quale costruire un report testuale che mostra le principali metriche di valutazione.\n",
    "\n",
    "In particolare:\n",
    " - **Precision**: $$\\frac{tp}{(tp + fp)}$$ dove *tp* è il numero di veri positivi e *fp* è il numero di falsi positivi. Ovvero misura la capacità di un classificatore di non etichettare un record positivo come negativo.\n",
    " \n",
    " - **Recall**: $$\\frac{tp}{(tp + fn)}$$ dove *tp* è il numero di veri positivi e *fn* è il numero di falsi negativi. Ovvero misura la capacità di un classificatore di trovare tutti i record positivi.\n",
    " - **F1-score**: $$2*\\frac{precision * recall}{(precision + recall)}$$ che rappresenta una metrica che combina le due precedenti con un egual contributo. \n"
   ]
  },
  {
   "cell_type": "code",
   "execution_count": 21,
   "id": "2d404b2d",
   "metadata": {},
   "outputs": [
    {
     "name": "stdout",
     "output_type": "stream",
     "text": [
      "              precision    recall  f1-score   support\n",
      "\n",
      "      BENIGN       1.00      1.00      1.00     88574\n",
      "      MALIGN       1.00      1.00      1.00     88412\n",
      "\n",
      "    accuracy                           1.00    176986\n",
      "   macro avg       1.00      1.00      1.00    176986\n",
      "weighted avg       1.00      1.00      1.00    176986\n",
      "\n"
     ]
    }
   ],
   "source": [
    "from sklearn.metrics import classification_report\n",
    "\n",
    "print(classification_report(y_test,y_pred))"
   ]
  },
  {
   "attachments": {},
   "cell_type": "markdown",
   "id": "3a7e9b6b",
   "metadata": {},
   "source": [
    "Le metriche ci danno un risultato di *1.00* su tutto, il che ci suggerisce che il problema di stabilire se un particolare flow è maligno o benigno è troppo semplice. A tale scopo proviamo a diminuire il numero di record per scoprire se esiste una correlazione tra quest'ultimo e le ottime performance."
   ]
  },
  {
   "cell_type": "code",
   "execution_count": 22,
   "id": "09a03610",
   "metadata": {
    "execution": {
     "iopub.execute_input": "2023-02-24T21:12:21.083048Z",
     "iopub.status.busy": "2023-02-24T21:12:21.081603Z",
     "iopub.status.idle": "2023-02-24T21:12:21.170769Z",
     "shell.execute_reply": "2023-02-24T21:12:21.169000Z"
    },
    "papermill": {
     "duration": 0.105786,
     "end_time": "2023-02-24T21:12:21.173777",
     "exception": false,
     "start_time": "2023-02-24T21:12:21.067991",
     "status": "completed"
    },
    "tags": []
   },
   "outputs": [
    {
     "data": {
      "text/plain": [
       "BENIGN    10016\n",
       "MALIGN     9984\n",
       "Name: Label, dtype: int64"
      ]
     },
     "execution_count": 22,
     "metadata": {},
     "output_type": "execute_result"
    }
   ],
   "source": [
    "df_rid = df_bin.sample(20000)\n",
    "df_rid['Label'].value_counts()"
   ]
  },
  {
   "cell_type": "code",
   "execution_count": 23,
   "id": "0bed7467",
   "metadata": {
    "execution": {
     "iopub.execute_input": "2023-02-24T21:12:21.200161Z",
     "iopub.status.busy": "2023-02-24T21:12:21.199699Z",
     "iopub.status.idle": "2023-02-24T21:12:21.591629Z",
     "shell.execute_reply": "2023-02-24T21:12:21.589861Z"
    },
    "papermill": {
     "duration": 0.408367,
     "end_time": "2023-02-24T21:12:21.594636",
     "exception": false,
     "start_time": "2023-02-24T21:12:21.186269",
     "status": "completed"
    },
    "tags": []
   },
   "outputs": [],
   "source": [
    "y_rid = df_rid[\"Label\"]\n",
    "X_rid = df_rid.drop(columns= \"Label\")\n",
    "X_train, X_test,  y_train, y_test = train_test_split(X_rid,y_rid, test_size=0.2)\n",
    "rnd_clf = RandomForestClassifier(n_estimators=10, random_state=42)\n",
    "rnd_clf.fit(X_train,y_train)\n",
    "y_pred = rnd_clf.predict(X_test)"
   ]
  },
  {
   "cell_type": "code",
   "execution_count": 24,
   "id": "bba3a415",
   "metadata": {},
   "outputs": [
    {
     "name": "stdout",
     "output_type": "stream",
     "text": [
      "              precision    recall  f1-score   support\n",
      "\n",
      "      BENIGN       0.99      1.00      1.00      1979\n",
      "      MALIGN       1.00      1.00      1.00      2021\n",
      "\n",
      "    accuracy                           1.00      4000\n",
      "   macro avg       1.00      1.00      1.00      4000\n",
      "weighted avg       1.00      1.00      1.00      4000\n",
      "\n"
     ]
    }
   ],
   "source": [
    "print(classification_report(y_test,y_pred))"
   ]
  },
  {
   "attachments": {},
   "cell_type": "markdown",
   "id": "c7323491",
   "metadata": {
    "papermill": {
     "duration": 0.011636,
     "end_time": "2023-02-24T21:12:21.617844",
     "exception": false,
     "start_time": "2023-02-24T21:12:21.606208",
     "status": "completed"
    },
    "tags": []
   },
   "source": [
    "Anche con solo 20000 istanze il modello è molto performante. Proviamo allora ad eliminare le feature che hanno troppa importanza, per farlo sfruttiamo la caratteristica di *Random Forest* che ci consente di ottenere una lista ordinata di feature sulla base della loro *importance*"
   ]
  },
  {
   "cell_type": "code",
   "execution_count": 25,
   "id": "e1fbef91",
   "metadata": {
    "execution": {
     "iopub.execute_input": "2023-02-24T21:12:21.644563Z",
     "iopub.status.busy": "2023-02-24T21:12:21.643325Z",
     "iopub.status.idle": "2023-02-24T21:12:21.662087Z",
     "shell.execute_reply": "2023-02-24T21:12:21.660391Z"
    },
    "papermill": {
     "duration": 0.035063,
     "end_time": "2023-02-24T21:12:21.664831",
     "exception": false,
     "start_time": "2023-02-24T21:12:21.629768",
     "status": "completed"
    },
    "tags": []
   },
   "outputs": [
    {
     "data": {
      "text/plain": [
       "[(0.21577302936381987, 'RST Flag Count'),\n",
       " (0.12768874805172312, 'Bwd Packet Length Min'),\n",
       " (0.05004974198963932, 'Bwd Packet Length Std'),\n",
       " (0.04657124891913213, 'PSH Flag Count'),\n",
       " (0.046017665588972814, 'ACK Flag Count'),\n",
       " (0.04585370166171006, 'Packet Length Mean'),\n",
       " (0.043147831993477104, 'Bwd Packet Length Max'),\n",
       " (0.04295802295506969, 'Protocol'),\n",
       " (0.04204397187013442, 'Packet Length Std'),\n",
       " (0.03926106158671786, 'Bwd IAT Total'),\n",
       " (0.0326483561902003, 'Bwd IAT Max'),\n",
       " (0.030184561288746303, 'Total Bwd packets'),\n",
       " (0.025992040328306442, 'Fwd PSH Flags'),\n",
       " (0.01307116001001681, 'Dst Port'),\n",
       " (0.012915719096157829, 'Total Length of Fwd Packet'),\n",
       " (0.012769759206985096, 'Fwd IAT Max'),\n",
       " (0.012057500996178236, 'Fwd Header Length'),\n",
       " (0.011046787755806602, 'Fwd IAT Total'),\n",
       " (0.009141542294417356, 'Bwd Init Win Bytes'),\n",
       " (0.008536642416186287, 'SYN Flag Count'),\n",
       " (0.008309174216174078, 'Packet Length Variance'),\n",
       " (0.0074126100940806626, 'Fwd Seg Size Min'),\n",
       " (0.007354838140287609, 'Bwd IAT Std'),\n",
       " (0.007217555946860815, 'Bwd IAT Mean'),\n",
       " (0.006297613813183974, 'Bwd Packets/s'),\n",
       " (0.006234129579528973, 'Src Port'),\n",
       " (0.005891211699817557, 'Flow IAT Mean'),\n",
       " (0.004854879526941869, 'Fwd Packet Length Max'),\n",
       " (0.004844674304589488, 'Flow IAT Min'),\n",
       " (0.004719269138854172, 'Bwd Header Length'),\n",
       " (0.004388013402826561, 'Flow Duration'),\n",
       " (0.004219835248012444, 'Flow Packets/s'),\n",
       " (0.0041716248458046985, 'FWD Init Win Bytes'),\n",
       " (0.003662851037360614, 'Bwd Packet Length Mean'),\n",
       " (0.0036395469923245103, 'Active Mean'),\n",
       " (0.0035781659508749264, 'Fwd Packets/s'),\n",
       " (0.002728687188175842, 'Active Min'),\n",
       " (0.002660508952417598, 'Total Length of Bwd Packet'),\n",
       " (0.0026369149999914097, 'FIN Flag Count'),\n",
       " (0.002623014130000785, 'Subflow Fwd Bytes'),\n",
       " (0.0026086264224565664, 'Average Packet Size'),\n",
       " (0.0025993155618163517, 'Subflow Bwd Bytes'),\n",
       " (0.0025198208893437, 'Bwd Segment Size Avg'),\n",
       " (0.0024579410598553767, 'Fwd IAT Std'),\n",
       " (0.00225060946207672, 'Flow IAT Max'),\n",
       " (0.0021971623030250364, 'Fwd Bytes/Bulk Avg'),\n",
       " (0.00217297232816833, 'Flow IAT Std'),\n",
       " (0.0018218804554347955, 'Down/Up Ratio'),\n",
       " (0.0018100459748474837, 'Idle Max'),\n",
       " (0.0015154446087314835, 'Total Fwd Packet'),\n",
       " (0.0014099646762093117, 'Bwd PSH Flags'),\n",
       " (0.0014034939303798257, 'Fwd Packet/Bulk Avg'),\n",
       " (0.0013216219478817794, 'Idle Min'),\n",
       " (0.0010679911086511524, 'Fwd IAT Mean'),\n",
       " (0.0010612531884591446, 'Fwd Act Data Pkts'),\n",
       " (0.0008954924126349042, 'Idle Mean'),\n",
       " (0.0008352080806873432, 'Fwd IAT Min'),\n",
       " (0.0007513131523333545, 'Active Max'),\n",
       " (0.0006993494323601628, 'Active Std'),\n",
       " (0.0005838987514209426, 'Fwd Packet Length Mean'),\n",
       " (0.0005035915746444061, 'Bwd IAT Min'),\n",
       " (0.0004576981988615307, 'Idle Std'),\n",
       " (0.00044286123256885134, 'Bwd Bulk Rate Avg'),\n",
       " (0.00036890827349717926, 'Fwd Packet Length Std'),\n",
       " (0.00024135359452591873, 'Fwd Segment Size Avg'),\n",
       " (0.00022034714877609344, 'Packet Length Max'),\n",
       " (0.00016904641464898706, 'Bwd Bytes/Bulk Avg'),\n",
       " (0.0001654511178853625, 'Subflow Fwd Packets'),\n",
       " (0.00010846430108727501, 'Fwd Packet Length Min'),\n",
       " (5.816790707105539e-05, 'Flow Bytes/s'),\n",
       " (5.725738917908419e-05, 'Fwd Bulk Rate Avg'),\n",
       " (4.9234328974183056e-05, 'Bwd Packet/Bulk Avg'),\n",
       " (0.0, 'URG Flag Count'),\n",
       " (0.0, 'Subflow Bwd Packets'),\n",
       " (0.0, 'Packet Length Min'),\n",
       " (0.0, 'Fwd URG Flags'),\n",
       " (0.0, 'ECE Flag Count'),\n",
       " (0.0, 'CWR Flag Count'),\n",
       " (0.0, 'Bwd URG Flags')]"
      ]
     },
     "execution_count": 25,
     "metadata": {},
     "output_type": "execute_result"
    }
   ],
   "source": [
    "fi = sorted(zip(rnd_clf.feature_importances_, list(X.columns)), reverse=True)\n",
    "fi"
   ]
  },
  {
   "cell_type": "code",
   "execution_count": 26,
   "id": "ef5c13d7",
   "metadata": {
    "execution": {
     "iopub.execute_input": "2023-02-24T21:12:21.690787Z",
     "iopub.status.busy": "2023-02-24T21:12:21.690248Z",
     "iopub.status.idle": "2023-02-24T21:12:21.698959Z",
     "shell.execute_reply": "2023-02-24T21:12:21.697905Z"
    },
    "papermill": {
     "duration": 0.024462,
     "end_time": "2023-02-24T21:12:21.701191",
     "exception": false,
     "start_time": "2023-02-24T21:12:21.676729",
     "status": "completed"
    },
    "tags": []
   },
   "outputs": [
    {
     "data": {
      "text/plain": [
       "[(0.00024135359452591873, 'Fwd Segment Size Avg'),\n",
       " (0.00022034714877609344, 'Packet Length Max'),\n",
       " (0.00016904641464898706, 'Bwd Bytes/Bulk Avg'),\n",
       " (0.0001654511178853625, 'Subflow Fwd Packets'),\n",
       " (0.00010846430108727501, 'Fwd Packet Length Min'),\n",
       " (5.816790707105539e-05, 'Flow Bytes/s'),\n",
       " (5.725738917908419e-05, 'Fwd Bulk Rate Avg'),\n",
       " (4.9234328974183056e-05, 'Bwd Packet/Bulk Avg'),\n",
       " (0.0, 'URG Flag Count'),\n",
       " (0.0, 'Subflow Bwd Packets')]"
      ]
     },
     "execution_count": 26,
     "metadata": {},
     "output_type": "execute_result"
    }
   ],
   "source": [
    "fi[-15:-5]"
   ]
  },
  {
   "cell_type": "code",
   "execution_count": 27,
   "id": "24c1ec93",
   "metadata": {
    "execution": {
     "iopub.execute_input": "2023-02-24T21:12:21.728151Z",
     "iopub.status.busy": "2023-02-24T21:12:21.727732Z",
     "iopub.status.idle": "2023-02-24T21:12:33.061741Z",
     "shell.execute_reply": "2023-02-24T21:12:33.060281Z"
    },
    "papermill": {
     "duration": 11.351445,
     "end_time": "2023-02-24T21:12:33.065011",
     "exception": false,
     "start_time": "2023-02-24T21:12:21.713566",
     "status": "completed"
    },
    "tags": []
   },
   "outputs": [
    {
     "name": "stdout",
     "output_type": "stream",
     "text": [
      "<class 'pandas.core.frame.DataFrame'>\n",
      "Int64Index: 884928 entries, 9594 to 396637\n",
      "Data columns (total 10 columns):\n",
      " #   Column                 Non-Null Count   Dtype  \n",
      "---  ------                 --------------   -----  \n",
      " 0   Fwd Packet Length Min  884928 non-null  float64\n",
      " 1   Flow Bytes/s           884928 non-null  float64\n",
      " 2   Packet Length Max      884928 non-null  float64\n",
      " 3   URG Flag Count         884928 non-null  int64  \n",
      " 4   Fwd Segment Size Avg   884928 non-null  float64\n",
      " 5   Fwd Bulk Rate Avg      884928 non-null  int64  \n",
      " 6   Bwd Bytes/Bulk Avg     884928 non-null  int64  \n",
      " 7   Bwd Packet/Bulk Avg    884928 non-null  int64  \n",
      " 8   Subflow Fwd Packets    884928 non-null  int64  \n",
      " 9   Subflow Bwd Packets    884928 non-null  int64  \n",
      "dtypes: float64(4), int64(6)\n",
      "memory usage: 74.3 MB\n"
     ]
    }
   ],
   "source": [
    "for _, col in fi[:-15]+fi[-5:]:\n",
    "    X = X.drop(col, axis=1)\n",
    "X.info()"
   ]
  },
  {
   "cell_type": "code",
   "execution_count": 28,
   "id": "f89fbac0",
   "metadata": {
    "execution": {
     "iopub.execute_input": "2023-02-24T21:12:33.092328Z",
     "iopub.status.busy": "2023-02-24T21:12:33.091849Z",
     "iopub.status.idle": "2023-02-24T21:12:56.977767Z",
     "shell.execute_reply": "2023-02-24T21:12:56.975065Z"
    },
    "papermill": {
     "duration": 23.903785,
     "end_time": "2023-02-24T21:12:56.981793",
     "exception": false,
     "start_time": "2023-02-24T21:12:33.078008",
     "status": "completed"
    },
    "tags": []
   },
   "outputs": [],
   "source": [
    "X_train, X_test,  y_train, y_test = train_test_split(X,y, test_size=0.2)\n",
    "rnd_clf = RandomForestClassifier(n_estimators=10, random_state=42)\n",
    "rnd_clf.fit(X_train,y_train)\n",
    "y_pred = rnd_clf.predict(X_test)"
   ]
  },
  {
   "cell_type": "code",
   "execution_count": 29,
   "id": "d97fe470",
   "metadata": {},
   "outputs": [
    {
     "name": "stdout",
     "output_type": "stream",
     "text": [
      "              precision    recall  f1-score   support\n",
      "\n",
      "      BENIGN       0.99      0.94      0.96     88433\n",
      "      MALIGN       0.94      0.99      0.97     88553\n",
      "\n",
      "    accuracy                           0.97    176986\n",
      "   macro avg       0.97      0.97      0.97    176986\n",
      "weighted avg       0.97      0.97      0.97    176986\n",
      "\n"
     ]
    }
   ],
   "source": [
    "print(classification_report(y_test,y_pred))"
   ]
  },
  {
   "cell_type": "markdown",
   "id": "5931b157",
   "metadata": {
    "papermill": {
     "duration": 0.013825,
     "end_time": "2023-02-24T21:12:57.011714",
     "exception": false,
     "start_time": "2023-02-24T21:12:56.997889",
     "status": "completed"
    },
    "tags": []
   },
   "source": [
    "Dal momento che anche con solo 10 colonne tra le meno importanti il rendimento del modello è molto elevato si può dedurre che il problema di distinguere tra una connesione benevola e una maligna è troppo semplice."
   ]
  },
  {
   "attachments": {},
   "cell_type": "markdown",
   "id": "15ecbe52",
   "metadata": {},
   "source": [
    "# MultiClass Classification\n",
    "Dopo aver constatato che il problema di classificazione binaria è troppo semplice e non ci da molte informazioni sul flow di rete, optiamo per una classificazione di tipo **multi class**, ovvero in cui non esistono solo due opzioni, ma bensì *n* opzioni.\n",
    "\n",
    "In scikit learn tutti i classificatori possono effettuare questo tipo di classificazione, ma prima di procedere ci dobbiamo occupare del forte sbilanciamento delle classi all'interno del dataset che porterebbe a risultati non ottimi.\n"
   ]
  },
  {
   "attachments": {},
   "cell_type": "markdown",
   "id": "42d7d680",
   "metadata": {
    "papermill": {
     "duration": 0.011282,
     "end_time": "2023-02-24T21:12:57.034968",
     "exception": false,
     "start_time": "2023-02-24T21:12:57.023686",
     "status": "completed"
    },
    "tags": []
   },
   "source": [
    "## Under/Over Sampling"
   ]
  },
  {
   "cell_type": "code",
   "execution_count": 30,
   "id": "d168ab03",
   "metadata": {
    "execution": {
     "iopub.execute_input": "2023-02-24T21:12:57.083798Z",
     "iopub.status.busy": "2023-02-24T21:12:57.083304Z",
     "iopub.status.idle": "2023-02-24T21:12:57.226709Z",
     "shell.execute_reply": "2023-02-24T21:12:57.225730Z"
    },
    "papermill": {
     "duration": 0.15931,
     "end_time": "2023-02-24T21:12:57.229191",
     "exception": false,
     "start_time": "2023-02-24T21:12:57.069881",
     "status": "completed"
    },
    "tags": []
   },
   "outputs": [
    {
     "data": {
      "text/plain": [
       "BENIGN                                  1654877\n",
       "PortScan                                 158960\n",
       "DoS Hulk                                 158196\n",
       "DDoS                                      95026\n",
       "DoS GoldenEye                              7561\n",
       "DoS slowloris                              3991\n",
       "FTP-Patator                                3962\n",
       "DoS Slowhttptest - Attempted               3363\n",
       "SSH-Patator                                2977\n",
       "DoS Slowhttptest                           1737\n",
       "DoS slowloris - Attempted                  1698\n",
       "Bot - Attempted                            1466\n",
       "Web Attack - Brute Force - Attempted       1214\n",
       "Bot                                         738\n",
       "Web Attack - XSS - Attempted                650\n",
       "DoS Hulk - Attempted                        577\n",
       "Web Attack - Brute Force                    151\n",
       "DoS GoldenEye - Attempted                    80\n",
       "Infiltration                                 32\n",
       "Web Attack - XSS                             27\n",
       "Infiltration - Attempted                     16\n",
       "Web Attack - Sql Injection                   12\n",
       "FTP-Patator - Attempted                      11\n",
       "Heartbleed                                   11\n",
       "SSH-Patator - Attempted                       8\n",
       "Name: Label, dtype: int64"
      ]
     },
     "execution_count": 30,
     "metadata": {},
     "output_type": "execute_result"
    }
   ],
   "source": [
    "df[\"Label\"].value_counts()"
   ]
  },
  {
   "attachments": {},
   "cell_type": "markdown",
   "id": "37d232e3",
   "metadata": {},
   "source": [
    "Notiamo come visto anche nelle prime sezioni che abbiamo un grosso numero di classi nel dataset, alcune delle quali hanno pochi elementi per essere considerate nel processo di classificazione, a tal proposito decidiamo di selezionare le prime **4 classi** per numero di valori. \n",
    " - BENIGN\n",
    " - PortScan\n",
    " - DoS Hulk\n",
    " - DDos\n",
    "\n",
    "Procediamo ad effettuare un under sampling sulle tuple con label *Bening* e successivamente un over sampling sulle restanti label cercando di raggrupparle sotto macro categorie per effettuare una classificazione multiclass."
   ]
  },
  {
   "cell_type": "code",
   "execution_count": 31,
   "id": "1dcbcdee",
   "metadata": {
    "execution": {
     "iopub.execute_input": "2023-02-24T21:12:57.279980Z",
     "iopub.status.busy": "2023-02-24T21:12:57.279325Z",
     "iopub.status.idle": "2023-02-24T21:12:58.925041Z",
     "shell.execute_reply": "2023-02-24T21:12:58.923516Z"
    },
    "papermill": {
     "duration": 1.66356,
     "end_time": "2023-02-24T21:12:58.928401",
     "exception": false,
     "start_time": "2023-02-24T21:12:57.264841",
     "status": "completed"
    },
    "tags": []
   },
   "outputs": [],
   "source": [
    "df_topC = df[(df[\"Label\"] == \"BENIGN\") | (df[\"Label\"] == \"PortScan\") | (df[\"Label\"] == \"DoS Hulk\") | (df[\"Label\"] == \"DDoS\")]"
   ]
  },
  {
   "cell_type": "code",
   "execution_count": 32,
   "id": "89675f39",
   "metadata": {
    "execution": {
     "iopub.execute_input": "2023-02-24T21:12:58.955020Z",
     "iopub.status.busy": "2023-02-24T21:12:58.954555Z",
     "iopub.status.idle": "2023-02-24T21:12:59.096278Z",
     "shell.execute_reply": "2023-02-24T21:12:59.095047Z"
    },
    "papermill": {
     "duration": 0.157722,
     "end_time": "2023-02-24T21:12:59.098644",
     "exception": false,
     "start_time": "2023-02-24T21:12:58.940922",
     "status": "completed"
    },
    "tags": []
   },
   "outputs": [
    {
     "data": {
      "text/plain": [
       "BENIGN      1654877\n",
       "PortScan     158960\n",
       "DoS Hulk     158196\n",
       "DDoS          95026\n",
       "Name: Label, dtype: int64"
      ]
     },
     "execution_count": 32,
     "metadata": {},
     "output_type": "execute_result"
    }
   ],
   "source": [
    "df_topC[\"Label\"].value_counts()"
   ]
  },
  {
   "attachments": {},
   "cell_type": "markdown",
   "id": "c466d19e",
   "metadata": {
    "papermill": {
     "duration": 0.011571,
     "end_time": "2023-02-24T21:12:59.121919",
     "exception": false,
     "start_time": "2023-02-24T21:12:59.110348",
     "status": "completed"
    },
    "tags": []
   },
   "source": [
    "Dopo aver selezionato le entry relative alle classi prescelte procediamo a suddividere il dataset in *train* e *test* set, poiché le operazioni di under e over sampling verranno effettuate esclusivamente sul *train set*."
   ]
  },
  {
   "cell_type": "code",
   "execution_count": 33,
   "id": "ca9be49c",
   "metadata": {
    "execution": {
     "iopub.execute_input": "2023-02-24T21:12:59.148058Z",
     "iopub.status.busy": "2023-02-24T21:12:59.147554Z",
     "iopub.status.idle": "2023-02-24T21:13:04.684896Z",
     "shell.execute_reply": "2023-02-24T21:13:04.683121Z"
    },
    "papermill": {
     "duration": 5.554287,
     "end_time": "2023-02-24T21:13:04.688064",
     "exception": false,
     "start_time": "2023-02-24T21:12:59.133777",
     "status": "completed"
    },
    "tags": []
   },
   "outputs": [],
   "source": [
    "y = df_topC[\"Label\"]\n",
    "X = df_topC.drop(columns= \"Label\")\n",
    "X_train, X_test, y_train, y_test = train_test_split(X, y, test_size=0.2, random_state=100)"
   ]
  },
  {
   "cell_type": "code",
   "execution_count": 34,
   "id": "261fb9fb",
   "metadata": {
    "execution": {
     "iopub.execute_input": "2023-02-24T21:13:04.715250Z",
     "iopub.status.busy": "2023-02-24T21:13:04.714755Z",
     "iopub.status.idle": "2023-02-24T21:13:05.100197Z",
     "shell.execute_reply": "2023-02-24T21:13:05.098789Z"
    },
    "papermill": {
     "duration": 0.402666,
     "end_time": "2023-02-24T21:13:05.102780",
     "exception": false,
     "start_time": "2023-02-24T21:13:04.700114",
     "status": "completed"
    },
    "tags": []
   },
   "outputs": [
    {
     "data": {
      "image/png": "[encoded data removed]",
      "text/plain": [
       "<Figure size 640x480 with 1 Axes>"
      ]
     },
     "metadata": {},
     "output_type": "display_data"
    }
   ],
   "source": [
    "import matplotlib.pyplot as plt\n",
    "count = y_train.value_counts()\n",
    "count.plot.bar()\n",
    "plt.ylabel('Number of records')\n",
    "plt.xlabel('Target Class')\n",
    "plt.show()"
   ]
  },
  {
   "attachments": {},
   "cell_type": "markdown",
   "id": "bbf3acdd",
   "metadata": {},
   "source": [
    "Notiamo come appunto la classe Benigna sia sbilanciata rispetto alle altre, per cui inizieremo ad effettuare un *undersampling* proprio su questa portandola a circa il numero di elementi contenuti nella seconda classe per numero *PortScan*.\n",
    "\n",
    "E' stata utilizzata la libreria imblearn che fornisce molti metodi, tra cui quello utilizzato per questo undersampling:\n",
    "- **NearMiss**: come riportato sul sito ufficiale, *NearMiss-1* seleziona i campioni positivi per i quali la distanza media dai campioni più vicini della classe negativa è minima.\n",
    "<img src=\"Images/nearmiss.png\" style=\"display: block;margin-left: auto;margin-right: auto;width: 30%; margin-top:2%;\">\n"
   ]
  },
  {
   "cell_type": "code",
   "execution_count": 35,
   "id": "d3db18cb",
   "metadata": {
    "execution": {
     "iopub.execute_input": "2023-02-24T21:13:05.131605Z",
     "iopub.status.busy": "2023-02-24T21:13:05.131128Z",
     "iopub.status.idle": "2023-02-24T21:48:41.198695Z",
     "shell.execute_reply": "2023-02-24T21:48:41.197279Z"
    },
    "papermill": {
     "duration": 2136.085775,
     "end_time": "2023-02-24T21:48:41.201974",
     "exception": false,
     "start_time": "2023-02-24T21:13:05.116199",
     "status": "completed"
    },
    "tags": []
   },
   "outputs": [],
   "source": [
    "from imblearn.under_sampling import NearMiss\n",
    "\n",
    "cc = NearMiss(sampling_strategy={\"BENIGN\":127000},version=1)\n",
    "\n",
    "#X_under, y_under = cc.fit_resample(X_train, y_train)\n",
    "\n",
    "filename1 = './Data/X_under_near.sav'\n",
    "filename2 = './Data/y_under_near.sav'\n",
    "#pickle.dump(X_under, open(filename1, 'wb'))\n",
    "#pickle.dump(y_under, open(filename2, 'wb'))\n",
    "\n",
    "X_under = pickle.load(open(filename1, 'rb'))\n",
    "y_under = pickle.load(open(filename2, 'rb'))"
   ]
  },
  {
   "cell_type": "code",
   "execution_count": 36,
   "id": "0a551a5d",
   "metadata": {
    "execution": {
     "iopub.execute_input": "2023-02-24T21:48:41.229854Z",
     "iopub.status.busy": "2023-02-24T21:48:41.229364Z",
     "iopub.status.idle": "2023-02-24T21:48:41.263878Z",
     "shell.execute_reply": "2023-02-24T21:48:41.262674Z"
    },
    "papermill": {
     "duration": 0.05119,
     "end_time": "2023-02-24T21:48:41.266411",
     "exception": false,
     "start_time": "2023-02-24T21:48:41.215221",
     "status": "completed"
    },
    "tags": []
   },
   "outputs": [
    {
     "data": {
      "text/plain": [
       "PortScan    127122\n",
       "BENIGN      127000\n",
       "DoS Hulk    126542\n",
       "DDoS         75993\n",
       "Name: Label, dtype: int64"
      ]
     },
     "execution_count": 36,
     "metadata": {},
     "output_type": "execute_result"
    }
   ],
   "source": [
    "y_under.value_counts()"
   ]
  },
  {
   "attachments": {},
   "cell_type": "markdown",
   "id": "dff4f9a9",
   "metadata": {},
   "source": [
    "Lanciamo un esecuzione di prova su Random Forest per confrontare i suoi risultati prima e dopo l'oversampling di Dos e DDos"
   ]
  },
  {
   "cell_type": "code",
   "execution_count": 37,
   "id": "79c754f7",
   "metadata": {},
   "outputs": [
    {
     "name": "stdout",
     "output_type": "stream",
     "text": [
      "              precision    recall  f1-score   support\n",
      "\n",
      "      BENIGN       1.00      0.44      0.61    330887\n",
      "        DDoS       0.98      1.00      0.99     19033\n",
      "    DoS Hulk       0.67      1.00      0.80     31654\n",
      "    PortScan       0.16      1.00      0.27     31838\n",
      "\n",
      "    accuracy                           0.55    413412\n",
      "   macro avg       0.70      0.86      0.67    413412\n",
      "weighted avg       0.91      0.55      0.62    413412\n",
      "\n"
     ]
    }
   ],
   "source": [
    "#rnd_clf = RandomForestClassifier(random_state=42,n_jobs=-1)\n",
    "#rnd_clf.fit(X_under,y_under)\n",
    "\n",
    "filename = './Model/MultiClass/rnd_clf.sav'\n",
    "#pickle.dump(rnd_clf, open(filename, 'wb'))\n",
    "rnd_clf = pickle.load(open(filename, 'rb'))\n",
    "\n",
    "y_pred = rnd_clf.predict(X_test)\n",
    "print(classification_report(y_test,y_pred))"
   ]
  },
  {
   "attachments": {},
   "cell_type": "markdown",
   "id": "b1656496",
   "metadata": {},
   "source": [
    "Per l'operazione di over sampling utilizziamo sempre un metodo offerto dalla libreria *imblearn*, in particolare:\n",
    "- **SMOTE**: al contrario di un sampling randomico in cui determinati sample vengono duplicati a partire dalla classe minoritaria, questo metodo genera dei nuovi elementi a partire da quelli esistenti. \n",
    "\n",
    "Per farlo prima seleziona casualmente un'istanza di classe di minoranza (**a**) e trova i suoi *k* vicini di classe più vicini. L'istanza sintetica viene creata scegliendo casualmente uno dei k vicini (**b**) e connettendoli con un segmento nello spazio delle feature. Le istanze sintetiche sono generate da una combinazione convessa delle due istanze scelte *a* e *b*.\n",
    "\n",
    "<img src=\"Images/smote.png\" style=\"display: block;margin-left: auto;margin-right: auto;width: 30%; margin-top:2%;\">"
   ]
  },
  {
   "cell_type": "code",
   "execution_count": 38,
   "id": "578495e8",
   "metadata": {},
   "outputs": [],
   "source": [
    "from imblearn.over_sampling import SMOTE\n",
    "sm = SMOTE(n_jobs=-1)\n",
    "#X_under, y_under = sm.fit_resample(X_under, y_under)\n",
    "\n",
    "filename1 = './Data/X_under_smote.sav'\n",
    "#pickle.dump(X_under, open(filename1, 'wb'))\n",
    "filename2 = './Data/y_under_smote.sav'\n",
    "#pickle.dump(y_under, open(filename2, 'wb'))\n",
    "\n",
    "X_under = pickle.load(open(filename1, 'rb'))\n",
    "y_under = pickle.load(open(filename2, 'rb'))"
   ]
  },
  {
   "cell_type": "code",
   "execution_count": 39,
   "id": "31a67a8b",
   "metadata": {},
   "outputs": [
    {
     "data": {
      "text/plain": [
       "BENIGN      127122\n",
       "DDoS        127122\n",
       "DoS Hulk    127122\n",
       "PortScan    127122\n",
       "Name: Label, dtype: int64"
      ]
     },
     "execution_count": 39,
     "metadata": {},
     "output_type": "execute_result"
    }
   ],
   "source": [
    "y_under.value_counts()"
   ]
  },
  {
   "attachments": {},
   "cell_type": "markdown",
   "id": "a8a2e40a",
   "metadata": {},
   "source": [
    "In seguito a queste operazioni ora il dataset è perfettamente bilanciato, per cui possiamo procedere a verificare se le performance sono migliorate."
   ]
  },
  {
   "cell_type": "code",
   "execution_count": 40,
   "id": "11a07b90",
   "metadata": {},
   "outputs": [
    {
     "name": "stdout",
     "output_type": "stream",
     "text": [
      "              precision    recall  f1-score   support\n",
      "\n",
      "      BENIGN       1.00      0.44      0.61    330887\n",
      "        DDoS       0.98      1.00      0.99     19033\n",
      "    DoS Hulk       0.62      1.00      0.77     31654\n",
      "    PortScan       0.16      1.00      0.28     31838\n",
      "\n",
      "    accuracy                           0.55    413412\n",
      "   macro avg       0.69      0.86      0.66    413412\n",
      "weighted avg       0.91      0.55      0.61    413412\n",
      "\n"
     ]
    }
   ],
   "source": [
    "#rnd_clf.fit(X_under,y_under)\n",
    "\n",
    "filename = './Model/MultiClass/rnd_clf_1.sav'\n",
    "#pickle.dump(rnd_clf, open(filename, 'wb'))\n",
    "rnd_clf = pickle.load(open(filename, 'rb'))\n",
    "\n",
    "y_pred = rnd_clf.predict(X_test)\n",
    "print(classification_report(y_test,y_pred))"
   ]
  },
  {
   "attachments": {},
   "cell_type": "markdown",
   "id": "4fb8637f",
   "metadata": {},
   "source": [
    "Non notiamo alcuna miglioria, ma ci siamo soffermati solo su un classificatore per cui il prossimo step è provarne un altro con alcune annesse migliorie ai dati."
   ]
  },
  {
   "attachments": {},
   "cell_type": "markdown",
   "id": "c5b15c84",
   "metadata": {},
   "source": [
    "### Test SGD con e senza scaler\n",
    "Il prossimo algoritmo di classificazione che utilizziamo è **SGD** (*Stochastic Gradient Descent*) il quale è un metodo di ottimizzazione per problemi di ottimizzazione non vincolati.\n",
    "In sklearn abbiamo la classe *SGDClassifier* che implementa una routine di apprendimento SGD di primo ordine. \n",
    "\n",
    "L'algoritmo itera sul training set e per ogni elemento aggiorna i parametri del modello seguendo la seguente regola:\n",
    "$$ w \\leftarrow w - \\eta \\left[\\alpha \\frac{\\partial R(w)}{\\partial w}\n",
    "+ \\frac{\\partial L(w^T x_i + b, y_i)}{\\partial w}\\right] $$\n",
    "dove $\\eta$ è il *learning rate* che può essere costante o adattivo."
   ]
  },
  {
   "cell_type": "code",
   "execution_count": 41,
   "id": "03bc1564",
   "metadata": {},
   "outputs": [],
   "source": [
    "from sklearn.linear_model import SGDClassifier\n",
    "sgd = SGDClassifier(max_iter=500,random_state=42,tol=0,n_jobs=-1)"
   ]
  },
  {
   "cell_type": "code",
   "execution_count": 42,
   "id": "699374b5",
   "metadata": {},
   "outputs": [
    {
     "name": "stdout",
     "output_type": "stream",
     "text": [
      "              precision    recall  f1-score   support\n",
      "\n",
      "      BENIGN       0.99      0.40      0.57    330887\n",
      "        DDoS       0.49      0.97      0.65     19033\n",
      "    DoS Hulk       0.21      0.95      0.34     31654\n",
      "    PortScan       0.32      1.00      0.48     31838\n",
      "\n",
      "    accuracy                           0.51    413412\n",
      "   macro avg       0.50      0.83      0.51    413412\n",
      "weighted avg       0.86      0.51      0.55    413412\n",
      "\n"
     ]
    }
   ],
   "source": [
    "#sgd.fit(X_under,y_under)\n",
    "\n",
    "filename = './Model/MultiClass/sgd_noscaler.sav'\n",
    "#pickle.dump(sgd, open(filename, 'wb'))\n",
    "sgd = pickle.load(open(filename, 'rb'))\n",
    "\n",
    "y_pred = sgd.predict(X_test)\n",
    "\n",
    "print(classification_report(y_test,y_pred))"
   ]
  },
  {
   "attachments": {},
   "cell_type": "markdown",
   "id": "d1fa0dfd",
   "metadata": {},
   "source": [
    "I risultati ottenuti anche se peccano su **f1-score medio** sono in realtà ottimi, poiché in particolare ciò che vogliamo che sia vicino ad 1 sono la *precision* per quanto rigurda i sample benigni e la *recall* prossima ad 1 per quanto riguarda gli altri.\n",
    "\n",
    "Nel primo caso vuol dire che tra tutti i record benigni la percentuale di coloro che sono realmente benigni è molto alta. Ovvero non stiamo facendo passare un attacco maligno per benigno.\n",
    "\n",
    "Nel secondo caso vuol dire che tra tutti i record maligni la percentuale di coloro che erroneamente vengono classificati come benigni è molto bassa."
   ]
  },
  {
   "attachments": {},
   "cell_type": "markdown",
   "id": "4bbdda4d",
   "metadata": {},
   "source": [
    "Nonostante ciò si può ancora migliorare di gran lunga la performance globale del classificatore, prima di procedere all'esecuzione di altri algoritmi con annesso tuning dei parametri, proviamo ad effettuare lo *scaling* delle feature nel dataset.\n",
    "\n",
    "La **standardizzazione** di un dataset è un requisito che hanno molti algoritmi di machine learning, altrimenti le loro performance potrebbero essere influenzate negativamente. La libreria *sklearn* mette e disposizione diverse classi di utilità, in particolare vogliamo utilizzare:\n",
    "- **Standard Scaler**: effettua la standardizzazione delle feature portano la media a 0 e la varianza ad 1\n",
    "- **MaxMin Scaler**: effettua la standardizzazione andando a scalare le feature all'interno di un valore minimo e massimo che vengono forniti. Solitamente questi valori sono rispettivamente 0 ed 1.\n",
    "\n",
    "Per comodità creiamo due Pipeline, un costrutto che permette di eseguire trasformazioni una dopo l'altra e come step finale l'estimatore. Così facendo potremo modificare esclusivamente il classificatore e mettere a confronto i due scaler.  "
   ]
  },
  {
   "cell_type": "code",
   "execution_count": 43,
   "id": "61fdba9e",
   "metadata": {},
   "outputs": [],
   "source": [
    "from sklearn.preprocessing import MinMaxScaler,StandardScaler\n",
    "\n",
    "p_minmax = Pipeline([('scaler', MinMaxScaler()),('classifier' , sgd)]) \n",
    "p_standard = Pipeline([('scaler', StandardScaler()),('classifier' , sgd)]) \n"
   ]
  },
  {
   "attachments": {},
   "cell_type": "markdown",
   "id": "2fc8807d",
   "metadata": {},
   "source": [
    "Esecuzione con standard scaler"
   ]
  },
  {
   "cell_type": "code",
   "execution_count": 44,
   "id": "23e44b98",
   "metadata": {},
   "outputs": [
    {
     "name": "stdout",
     "output_type": "stream",
     "text": [
      "              precision    recall  f1-score   support\n",
      "\n",
      "      BENIGN       1.00      0.66      0.80    330887\n",
      "        DDoS       0.62      1.00      0.77     19033\n",
      "    DoS Hulk       0.43      1.00      0.60     31654\n",
      "    PortScan       0.36      1.00      0.53     31838\n",
      "\n",
      "    accuracy                           0.73    413412\n",
      "   macro avg       0.60      0.92      0.67    413412\n",
      "weighted avg       0.89      0.73      0.76    413412\n",
      "\n"
     ]
    }
   ],
   "source": [
    "#p_standard.fit(X_under,y_under)\n",
    "\n",
    "filename = './Model/MultiClass/sgd_p_standard.sav'\n",
    "#pickle.dump(p_standard, open(filename, 'wb'))\n",
    "p_standard = pickle.load(open(filename, 'rb'))\n",
    "\n",
    "y_pred = p_standard.predict(X_test)\n",
    "\n",
    "print(classification_report(y_test,y_pred))"
   ]
  },
  {
   "attachments": {},
   "cell_type": "markdown",
   "id": "90105a64",
   "metadata": {},
   "source": [
    "Esecuzione con minmax scaler"
   ]
  },
  {
   "cell_type": "code",
   "execution_count": 45,
   "id": "b2978aa1",
   "metadata": {},
   "outputs": [
    {
     "name": "stdout",
     "output_type": "stream",
     "text": [
      "              precision    recall  f1-score   support\n",
      "\n",
      "      BENIGN       1.00      0.86      0.93    330887\n",
      "        DDoS       0.64      1.00      0.78     19033\n",
      "    DoS Hulk       0.65      0.99      0.78     31654\n",
      "    PortScan       0.63      1.00      0.78     31838\n",
      "\n",
      "    accuracy                           0.89    413412\n",
      "   macro avg       0.73      0.96      0.82    413412\n",
      "weighted avg       0.93      0.89      0.90    413412\n",
      "\n"
     ]
    }
   ],
   "source": [
    "#p_minmax.fit(X_under,y_under)\n",
    "\n",
    "filename = './Model/MultiClass/sgd_p_minmax.sav'\n",
    "#pickle.dump(p_minmax, open(filename, 'wb'))\n",
    "p_minmax = pickle.load(open(filename, 'rb'))\n",
    "\n",
    "y_pred = p_minmax.predict(X_test)\n",
    "\n",
    "print(classification_report(y_test,y_pred))"
   ]
  },
  {
   "attachments": {},
   "cell_type": "markdown",
   "id": "93ba89c4",
   "metadata": {},
   "source": [
    "Notiamo che la pipeline con in cima il *MinMax Scalere* ottiene risultati notevolemente superiori al semplice *Standard Scaler*, questo ci suggerisce che probabilmente in generale fornirà performance migliori. Verificheremo tutto ciò nella prossima sezione in cui effettueremo il vero e proprio tuning dei parametri dei modelli al fine di ottenere le migliori performance."
   ]
  },
  {
   "attachments": {},
   "cell_type": "markdown",
   "id": "ff2cdc9a",
   "metadata": {
    "tags": [
     "tuningModelli"
    ]
   },
   "source": [
    "## Hyper-parameters tuning\n",
    "\n",
    "In questa fase andremo ad effettuare il tuning dei parametri di alcuni algoritmi selezioni quali rappresentativi della classe di appartenenza, in particolare:\n",
    "- **Classificatori Bayesiani**: sono un insieme di algoritmi di apprendimento supervisionato basati sull'applicazione del teorema di Bayes, con l'assunzione *naive* dell'indipendenza tra ogni coppia di valori dato il valore della classe.\n",
    "- **Classificatori Lineari**: sono un insieme di algoritmi di apprendimento supervisionato basati dalla caratteristica di assegnare la classe ad un dato record sulla base di una combinazione lineare delle feature.\n",
    "- **Classificatori k-neighbors based**: sono un insieme di algoritmi di apprendimento che non hanno come obiettivo quello di creare un modello generale ma semplicemente utilizzano i dati di training per assegnare l'etichetta ad un nuovo record sulla base del suo vicinato.\n",
    "\n",
    "Per il tuning dei parametri utilizzeremo **GridSearchCV**, metodo messo a disposizione dalla libreria *sklearn* il quale consente di effettuare il tuning degli hyper-parameters. Questi sono dei parametri del modello che non vengono appresi direttamente nella fase di fit.\n",
    "\n",
    "La ricerca a griglia fornita da GridSearchCV genera in modo esaustivo i candidati da una griglia di valori dei parametri specificati con il parametro *param_grid*. \n",
    "Un parametro di vitale importanza per il metodo di ricerca è lo **scoring**, il quale indica una strategia per valutare le performance del modello sul test set per ciascuno dei parametri. \n",
    "\n",
    "Nel nostro caso tra tutte le possibili scelte utilizzeremo la strategia **f1_macro**, la quale calcola l'f1-score per ogni label per poi effettuare la media non ponderata."
   ]
  },
  {
   "attachments": {},
   "cell_type": "markdown",
   "id": "ca4e9f41",
   "metadata": {},
   "source": [
    "### Classificatori Bayesiani: Gaussian Naive Bayes\n",
    "Come rappresentativo di questa categoria è stato scelto **GaussianNB**, il quale assume che ogni parametro ha una capacità indipendente (*indipendenza condizionale*) di predirre l'output della label.\n",
    "\n",
    "Si assume che la probabilità delle singole feauture in questo caso sia Gaussiana: \n",
    "$$P(x_i \\mid y) = \\frac{1}{\\sqrt{2\\pi\\sigma^2_y}} \\exp\\left(-\\frac{(x_i - \\mu_y)^2}{2\\sigma^2_y}\\right)$$"
   ]
  },
  {
   "cell_type": "code",
   "execution_count": 46,
   "id": "a1e75610",
   "metadata": {},
   "outputs": [],
   "source": [
    "from sklearn.naive_bayes import GaussianNB\n",
    "from sklearn.model_selection import GridSearchCV\n",
    "gnb = GaussianNB()\n",
    "\n",
    "#gnb.fit(X_under,y_under)\n",
    "\n",
    "filename = './Model/MultiClass/gnb_no_scaler.sav'\n",
    "#pickle.dump(gnb, open(filename, 'wb'))\n",
    "gnb = pickle.load(open(filename, 'rb'))\n",
    "\n",
    "y_pred = gnb.predict(X_test)"
   ]
  },
  {
   "cell_type": "code",
   "execution_count": 47,
   "id": "ae9032c0",
   "metadata": {},
   "outputs": [
    {
     "name": "stdout",
     "output_type": "stream",
     "text": [
      "              precision    recall  f1-score   support\n",
      "\n",
      "      BENIGN       1.00      0.38      0.55    330887\n",
      "        DDoS       0.42      0.99      0.59     19033\n",
      "    DoS Hulk       0.35      1.00      0.52     31654\n",
      "    PortScan       0.21      1.00      0.34     31838\n",
      "\n",
      "    accuracy                           0.50    413412\n",
      "   macro avg       0.49      0.84      0.50    413412\n",
      "weighted avg       0.86      0.50      0.53    413412\n",
      "\n"
     ]
    }
   ],
   "source": [
    "print(classification_report(y_test,y_pred))"
   ]
  },
  {
   "attachments": {},
   "cell_type": "markdown",
   "id": "88dfa586",
   "metadata": {},
   "source": [
    "Da una prima esecuzione con i parametri standard notiamo che bensì i risultati siano ottimi ancora c'è un margine di miglioramento. Per cui utilizziamo lo scaler come per sgd e vediamo se ci sono miglioramenti."
   ]
  },
  {
   "cell_type": "code",
   "execution_count": 48,
   "id": "7f0446d7",
   "metadata": {},
   "outputs": [
    {
     "data": {
      "text/html": [
       "<style>#sk-container-id-1 {color: black;background-color: white;}#sk-container-id-1 pre{padding: 0;}#sk-container-id-1 div.sk-toggleable {background-color: white;}#sk-container-id-1 label.sk-toggleable__label {cursor: pointer;display: block;width: 100%;margin-bottom: 0;padding: 0.3em;box-sizing: border-box;text-align: center;}#sk-container-id-1 label.sk-toggleable__label-arrow:before {content: \"▸\";float: left;margin-right: 0.25em;color: #696969;}#sk-container-id-1 label.sk-toggleable__label-arrow:hover:before {color: black;}#sk-container-id-1 div.sk-estimator:hover label.sk-toggleable__label-arrow:before {color: black;}#sk-container-id-1 div.sk-toggleable__content {max-height: 0;max-width: 0;overflow: hidden;text-align: left;background-color: #f0f8ff;}#sk-container-id-1 div.sk-toggleable__content pre {margin: 0.2em;color: black;border-radius: 0.25em;background-color: #f0f8ff;}#sk-container-id-1 input.sk-toggleable__control:checked~div.sk-toggleable__content {max-height: 200px;max-width: 100%;overflow: auto;}#sk-container-id-1 input.sk-toggleable__control:checked~label.sk-toggleable__label-arrow:before {content: \"▾\";}#sk-container-id-1 div.sk-estimator input.sk-toggleable__control:checked~label.sk-toggleable__label {background-color: #d4ebff;}#sk-container-id-1 div.sk-label input.sk-toggleable__control:checked~label.sk-toggleable__label {background-color: #d4ebff;}#sk-container-id-1 input.sk-hidden--visually {border: 0;clip: rect(1px 1px 1px 1px);clip: rect(1px, 1px, 1px, 1px);height: 1px;margin: -1px;overflow: hidden;padding: 0;position: absolute;width: 1px;}#sk-container-id-1 div.sk-estimator {font-family: monospace;background-color: #f0f8ff;border: 1px dotted black;border-radius: 0.25em;box-sizing: border-box;margin-bottom: 0.5em;}#sk-container-id-1 div.sk-estimator:hover {background-color: #d4ebff;}#sk-container-id-1 div.sk-parallel-item::after {content: \"\";width: 100%;border-bottom: 1px solid gray;flex-grow: 1;}#sk-container-id-1 div.sk-label:hover label.sk-toggleable__label {background-color: #d4ebff;}#sk-container-id-1 div.sk-serial::before {content: \"\";position: absolute;border-left: 1px solid gray;box-sizing: border-box;top: 0;bottom: 0;left: 50%;z-index: 0;}#sk-container-id-1 div.sk-serial {display: flex;flex-direction: column;align-items: center;background-color: white;padding-right: 0.2em;padding-left: 0.2em;position: relative;}#sk-container-id-1 div.sk-item {position: relative;z-index: 1;}#sk-container-id-1 div.sk-parallel {display: flex;align-items: stretch;justify-content: center;background-color: white;position: relative;}#sk-container-id-1 div.sk-item::before, #sk-container-id-1 div.sk-parallel-item::before {content: \"\";position: absolute;border-left: 1px solid gray;box-sizing: border-box;top: 0;bottom: 0;left: 50%;z-index: -1;}#sk-container-id-1 div.sk-parallel-item {display: flex;flex-direction: column;z-index: 1;position: relative;background-color: white;}#sk-container-id-1 div.sk-parallel-item:first-child::after {align-self: flex-end;width: 50%;}#sk-container-id-1 div.sk-parallel-item:last-child::after {align-self: flex-start;width: 50%;}#sk-container-id-1 div.sk-parallel-item:only-child::after {width: 0;}#sk-container-id-1 div.sk-dashed-wrapped {border: 1px dashed gray;margin: 0 0.4em 0.5em 0.4em;box-sizing: border-box;padding-bottom: 0.4em;background-color: white;}#sk-container-id-1 div.sk-label label {font-family: monospace;font-weight: bold;display: inline-block;line-height: 1.2em;}#sk-container-id-1 div.sk-label-container {text-align: center;}#sk-container-id-1 div.sk-container {/* jupyter's `normalize.less` sets `[hidden] { display: none; }` but bootstrap.min.css set `[hidden] { display: none !important; }` so we also need the `!important` here to be able to override the default hidden behavior on the sphinx rendered scikit-learn.org. See: https://github.com/scikit-learn/scikit-learn/issues/21755 */display: inline-block !important;position: relative;}#sk-container-id-1 div.sk-text-repr-fallback {display: none;}</style><div id=\"sk-container-id-1\" class=\"sk-top-container\"><div class=\"sk-text-repr-fallback\"><pre>Pipeline(steps=[(&#x27;scaler&#x27;, MinMaxScaler()), (&#x27;classifier&#x27;, GaussianNB())])</pre><b>In a Jupyter environment, please rerun this cell to show the HTML representation or trust the notebook. <br />On GitHub, the HTML representation is unable to render, please try loading this page with nbviewer.org.</b></div><div class=\"sk-container\" hidden><div class=\"sk-item sk-dashed-wrapped\"><div class=\"sk-label-container\"><div class=\"sk-label sk-toggleable\"><input class=\"sk-toggleable__control sk-hidden--visually\" id=\"sk-estimator-id-1\" type=\"checkbox\" ><label for=\"sk-estimator-id-1\" class=\"sk-toggleable__label sk-toggleable__label-arrow\">Pipeline</label><div class=\"sk-toggleable__content\"><pre>Pipeline(steps=[(&#x27;scaler&#x27;, MinMaxScaler()), (&#x27;classifier&#x27;, GaussianNB())])</pre></div></div></div><div class=\"sk-serial\"><div class=\"sk-item\"><div class=\"sk-estimator sk-toggleable\"><input class=\"sk-toggleable__control sk-hidden--visually\" id=\"sk-estimator-id-2\" type=\"checkbox\" ><label for=\"sk-estimator-id-2\" class=\"sk-toggleable__label sk-toggleable__label-arrow\">MinMaxScaler</label><div class=\"sk-toggleable__content\"><pre>MinMaxScaler()</pre></div></div></div><div class=\"sk-item\"><div class=\"sk-estimator sk-toggleable\"><input class=\"sk-toggleable__control sk-hidden--visually\" id=\"sk-estimator-id-3\" type=\"checkbox\" ><label for=\"sk-estimator-id-3\" class=\"sk-toggleable__label sk-toggleable__label-arrow\">GaussianNB</label><div class=\"sk-toggleable__content\"><pre>GaussianNB()</pre></div></div></div></div></div></div></div>"
      ],
      "text/plain": [
       "Pipeline(steps=[('scaler', MinMaxScaler()), ('classifier', GaussianNB())])"
      ]
     },
     "execution_count": 48,
     "metadata": {},
     "output_type": "execute_result"
    }
   ],
   "source": [
    "p_standard.set_params(**{'classifier':gnb})\n",
    "p_minmax.set_params(**{'classifier':gnb})\n"
   ]
  },
  {
   "attachments": {},
   "cell_type": "markdown",
   "id": "bc9adebf",
   "metadata": {},
   "source": [
    "Iniziamo con lo standard"
   ]
  },
  {
   "cell_type": "code",
   "execution_count": 49,
   "id": "66290830",
   "metadata": {},
   "outputs": [
    {
     "name": "stdout",
     "output_type": "stream",
     "text": [
      "              precision    recall  f1-score   support\n",
      "\n",
      "      BENIGN       1.00      0.67      0.80    330887\n",
      "        DDoS       1.00      1.00      1.00     19033\n",
      "    DoS Hulk       0.31      1.00      0.47     31654\n",
      "    PortScan       0.45      1.00      0.62     31838\n",
      "\n",
      "    accuracy                           0.74    413412\n",
      "   macro avg       0.69      0.92      0.72    413412\n",
      "weighted avg       0.90      0.74      0.77    413412\n",
      "\n"
     ]
    }
   ],
   "source": [
    "#p_standard.fit(X_under,y_under)\n",
    "\n",
    "filename = './Model/MultiClass/gnb_p_standard.sav'\n",
    "#pickle.dump(p_standard, open(filename, 'wb'))\n",
    "p_standard = pickle.load(open(filename, 'rb'))\n",
    "\n",
    "y_pred = p_standard.predict(X_test)\n",
    "\n",
    "print(classification_report(y_test,y_pred))"
   ]
  },
  {
   "cell_type": "code",
   "execution_count": 50,
   "id": "31ca6782",
   "metadata": {},
   "outputs": [
    {
     "name": "stdout",
     "output_type": "stream",
     "text": [
      "              precision    recall  f1-score   support\n",
      "\n",
      "      BENIGN       1.00      0.69      0.82    330887\n",
      "        DDoS       0.95      1.00      0.97     19033\n",
      "    DoS Hulk       0.31      1.00      0.47     31654\n",
      "    PortScan       0.52      1.00      0.68     31838\n",
      "\n",
      "    accuracy                           0.75    413412\n",
      "   macro avg       0.69      0.92      0.74    413412\n",
      "weighted avg       0.91      0.75      0.79    413412\n",
      "\n"
     ]
    }
   ],
   "source": [
    "#p_minmax.fit(X_under,y_under)\n",
    "\n",
    "filename = './Model/MultiClass/gnb_p_minmax.sav'\n",
    "#pickle.dump(p_minmax, open(filename, 'wb'))\n",
    "p_minmax = pickle.load(open(filename, 'rb'))\n",
    "\n",
    "y_pred = p_minmax.predict(X_test)\n",
    "\n",
    "print(classification_report(y_test,y_pred))"
   ]
  },
  {
   "attachments": {},
   "cell_type": "markdown",
   "id": "1b1b2752",
   "metadata": {},
   "source": [
    "Anche in questo caso scegliamo di utilizzare il minmax scaler avendo delle prestazioni migliori e proseguiamo con un tuning dei parametri."
   ]
  },
  {
   "cell_type": "code",
   "execution_count": 51,
   "id": "ed48d707",
   "metadata": {},
   "outputs": [
    {
     "data": {
      "text/plain": [
       "{'memory': None,\n",
       " 'steps': [('scaler', MinMaxScaler()), ('classifier', GaussianNB())],\n",
       " 'verbose': False,\n",
       " 'scaler': MinMaxScaler(),\n",
       " 'classifier': GaussianNB(),\n",
       " 'scaler__clip': False,\n",
       " 'scaler__copy': True,\n",
       " 'scaler__feature_range': (0, 1),\n",
       " 'classifier__priors': None,\n",
       " 'classifier__var_smoothing': 1e-09}"
      ]
     },
     "execution_count": 51,
     "metadata": {},
     "output_type": "execute_result"
    }
   ],
   "source": [
    "p_minmax.get_params()"
   ]
  },
  {
   "attachments": {},
   "cell_type": "markdown",
   "id": "a8bd63b7",
   "metadata": {},
   "source": [
    "Il classificatore GuassianNB ha due parametri che possono essere modificati:\n",
    "- *priors*: un array contenente le probabilità a priori delle classe, se non specificato vengono dedotte dai dati.\n",
    "- *var_smoothing*: aggiunge artificialmente un valore definito dall'utente alla varianza della distribuzione (il cui valore predefinito è derivato dal set di dati di addestramento).\n",
    "\n",
    "Nel nostro caso andremo a fare del tuning esclusivamente su *var_smoothing* facendola variare in un intervallo di ricerca."
   ]
  },
  {
   "cell_type": "code",
   "execution_count": 52,
   "id": "8dcb7527",
   "metadata": {},
   "outputs": [
    {
     "data": {
      "text/plain": [
       "{'classifier__var_smoothing': 2.4420530945486497e-07}"
      ]
     },
     "execution_count": 52,
     "metadata": {},
     "output_type": "execute_result"
    }
   ],
   "source": [
    "param_grid_nb = {\n",
    "    'classifier__var_smoothing': np.logspace(0,-9, num=50)\n",
    "}\n",
    "nbModel_grid = GridSearchCV(p_minmax, param_grid=param_grid_nb,scoring='f1_macro', verbose=3, cv=10, n_jobs=-1)\n",
    "#nbModel_grid.fit(X_under, y_under)\n",
    "\n",
    "filename = './Model/MultiClass/gnb_best.sav'\n",
    "#pickle.dump(nbModel_grid, open(filename, 'wb'))\n",
    "nbModel_grid = pickle.load(open(filename, 'rb'))\n",
    "\n",
    "nbModel_grid.best_params_"
   ]
  },
  {
   "cell_type": "code",
   "execution_count": 53,
   "id": "b73ffa67",
   "metadata": {},
   "outputs": [
    {
     "name": "stdout",
     "output_type": "stream",
     "text": [
      "              precision    recall  f1-score   support\n",
      "\n",
      "      BENIGN       1.00      0.70      0.82    330887\n",
      "        DDoS       0.94      1.00      0.97     19033\n",
      "    DoS Hulk       0.29      1.00      0.45     31654\n",
      "    PortScan       0.60      1.00      0.75     31838\n",
      "\n",
      "    accuracy                           0.76    413412\n",
      "   macro avg       0.71      0.92      0.75    413412\n",
      "weighted avg       0.91      0.76      0.79    413412\n",
      "\n"
     ]
    }
   ],
   "source": [
    "y_pred = nbModel_grid.best_estimator_.predict(X_test)\n",
    "print(classification_report(y_test,y_pred))"
   ]
  },
  {
   "attachments": {},
   "cell_type": "markdown",
   "id": "4d392c2e",
   "metadata": {},
   "source": [
    "Dopo l'esecuzione di grid search il parametro che ha ottenuto il maggiore score è $2.4420530945486497e-07$ che però non migliora di tantissimo le performance del metodo che di per sé sono già ottime."
   ]
  },
  {
   "attachments": {},
   "cell_type": "markdown",
   "id": "7a8aa976",
   "metadata": {},
   "source": [
    "### Classificatori Lineari: Stochastic Gradient Descent Classifier (SGDC)\n",
    "Questo classificatore è stato utilizzato nella sezione precedente in cui sono state già introdotte le sue particolarità e di cui già sappiamo le sue ottime performance in seguito a scaling, per cui vogliamo andare ad effettuare una migliore analisi dei suoi hyper-parameter per spingerlo fino alle sue \"massime\" prestazioni."
   ]
  },
  {
   "attachments": {},
   "cell_type": "markdown",
   "id": "e9a8d339",
   "metadata": {},
   "source": [
    "Sappiamo già che le migliori performance le otteniamo con il *min-max scaler* per cui partiamo già con il suo utilizzo."
   ]
  },
  {
   "cell_type": "code",
   "execution_count": 54,
   "id": "9bc903b6",
   "metadata": {},
   "outputs": [
    {
     "name": "stdout",
     "output_type": "stream",
     "text": [
      "              precision    recall  f1-score   support\n",
      "\n",
      "      BENIGN       1.00      0.86      0.93    330887\n",
      "        DDoS       0.64      1.00      0.78     19033\n",
      "    DoS Hulk       0.65      0.99      0.78     31654\n",
      "    PortScan       0.63      1.00      0.78     31838\n",
      "\n",
      "    accuracy                           0.89    413412\n",
      "   macro avg       0.73      0.96      0.82    413412\n",
      "weighted avg       0.93      0.89      0.90    413412\n",
      "\n"
     ]
    }
   ],
   "source": [
    "#p_minmax.fit(X_under,y_under)\n",
    "filename = './Model/MultiClass/sgd_p_minmax.sav'\n",
    "p_minmax = pickle.load(open(filename, 'rb'))\n",
    "\n",
    "y_pred = p_minmax.predict(X_test)\n",
    "print(classification_report(y_test,y_pred))"
   ]
  },
  {
   "attachments": {},
   "cell_type": "markdown",
   "id": "917f5a3f",
   "metadata": {},
   "source": [
    "Facciamo parameter tuning"
   ]
  },
  {
   "cell_type": "code",
   "execution_count": 55,
   "id": "cb8343eb",
   "metadata": {},
   "outputs": [
    {
     "data": {
      "text/plain": [
       "{'memory': None,\n",
       " 'steps': [('scaler', MinMaxScaler()),\n",
       "  ('classifier',\n",
       "   SGDClassifier(max_iter=500, n_jobs=-1, random_state=42, tol=0))],\n",
       " 'verbose': False,\n",
       " 'scaler': MinMaxScaler(),\n",
       " 'classifier': SGDClassifier(max_iter=500, n_jobs=-1, random_state=42, tol=0),\n",
       " 'scaler__clip': False,\n",
       " 'scaler__copy': True,\n",
       " 'scaler__feature_range': (0, 1),\n",
       " 'classifier__alpha': 0.0001,\n",
       " 'classifier__average': False,\n",
       " 'classifier__class_weight': None,\n",
       " 'classifier__early_stopping': False,\n",
       " 'classifier__epsilon': 0.1,\n",
       " 'classifier__eta0': 0.0,\n",
       " 'classifier__fit_intercept': True,\n",
       " 'classifier__l1_ratio': 0.15,\n",
       " 'classifier__learning_rate': 'optimal',\n",
       " 'classifier__loss': 'hinge',\n",
       " 'classifier__max_iter': 500,\n",
       " 'classifier__n_iter_no_change': 5,\n",
       " 'classifier__n_jobs': -1,\n",
       " 'classifier__penalty': 'l2',\n",
       " 'classifier__power_t': 0.5,\n",
       " 'classifier__random_state': 42,\n",
       " 'classifier__shuffle': True,\n",
       " 'classifier__tol': 0,\n",
       " 'classifier__validation_fraction': 0.1,\n",
       " 'classifier__verbose': 0,\n",
       " 'classifier__warm_start': False}"
      ]
     },
     "execution_count": 55,
     "metadata": {},
     "output_type": "execute_result"
    }
   ],
   "source": [
    "p_minmax.get_params()"
   ]
  },
  {
   "attachments": {},
   "cell_type": "markdown",
   "id": "f3cee034",
   "metadata": {},
   "source": [
    "Questo classificatore al contrario di quanto visto con GaussianNB ha molti parametri su cui poter andare a fare delle analisi, ma vogliamo concentrarci su alcuni di essi in particolare i quali compongono il *training error* che viene minimizzato dal modello in fase di learning:\n",
    "$$E(w,b) = \\frac{1}{n}\\sum_{i=1}^{n} L(y_i, f(x_i)) + \\alpha R(w)$$\n",
    "- **loss**: corrisponde nella formula a $L(y_i, f(x_i))$ e rappresenta la *loss function* la quale misura il (mis)fit del modello;\n",
    "- **penalty**: corrisponde nella formula a $R(w)$ il quale penalizza la complessità del modello;\n",
    "- **alpha**: è una costante che controlla la regolarizzazione."
   ]
  },
  {
   "cell_type": "code",
   "execution_count": 56,
   "id": "6807ce8d",
   "metadata": {},
   "outputs": [],
   "source": [
    "sgdc_params = {\n",
    "    'classifier__loss': ['hinge','log_loss','squared_hinge'],\n",
    "    'classifier__penalty':['elasticnet'],\n",
    "    'classifier__alpha':np.logspace(-4, 4, 10)\n",
    "}\n",
    "\n",
    "sgdc_model = GridSearchCV(p_minmax,param_grid=sgdc_params,scoring='f1_macro',verbose=10, n_jobs=8)\n",
    "#sgdc_model.fit(X_under,y_under)\n",
    "\n",
    "filename = './Model/MultiClass/sgd_best.sav'\n",
    "#pickle.dump(sgdc_model, open(filename, 'wb'))\n",
    "sgdc_model = pickle.load(open(filename, 'rb'))\n",
    "\n"
   ]
  },
  {
   "cell_type": "code",
   "execution_count": 57,
   "id": "16d187f3",
   "metadata": {},
   "outputs": [
    {
     "data": {
      "text/plain": [
       "{'classifier__alpha': 0.0001,\n",
       " 'classifier__loss': 'hinge',\n",
       " 'classifier__penalty': 'elasticnet'}"
      ]
     },
     "execution_count": 57,
     "metadata": {},
     "output_type": "execute_result"
    }
   ],
   "source": [
    "sgdc_model.best_params_"
   ]
  },
  {
   "attachments": {},
   "cell_type": "markdown",
   "id": "f1c338cf",
   "metadata": {},
   "source": [
    "In seguito alla ricerca i migliori parametri riscontrati sono:\n",
    "- $alpha = 0.0001$\n",
    "- $loss = hinge$, la quale da un SVM lineare\n",
    "- $penalty = elasticnet$"
   ]
  },
  {
   "cell_type": "code",
   "execution_count": 58,
   "id": "948abe89",
   "metadata": {},
   "outputs": [
    {
     "name": "stdout",
     "output_type": "stream",
     "text": [
      "              precision    recall  f1-score   support\n",
      "\n",
      "      BENIGN       1.00      0.87      0.93    330887\n",
      "        DDoS       0.69      1.00      0.82     19033\n",
      "    DoS Hulk       0.66      0.99      0.79     31654\n",
      "    PortScan       0.64      1.00      0.78     31838\n",
      "\n",
      "    accuracy                           0.90    413412\n",
      "   macro avg       0.75      0.97      0.83    413412\n",
      "weighted avg       0.93      0.90      0.91    413412\n",
      "\n"
     ]
    }
   ],
   "source": [
    "y_pred = sgdc_model.best_estimator_.predict(X_test)\n",
    "print(classification_report(y_test,y_pred))"
   ]
  },
  {
   "attachments": {},
   "cell_type": "markdown",
   "id": "866bc2fc",
   "metadata": {},
   "source": [
    "Notiamo che abbiamo avuto un leggero miglioramento sulle performance di un algoritmo che già senza tuning ne aveva di ottime."
   ]
  },
  {
   "attachments": {},
   "cell_type": "markdown",
   "id": "629f6943",
   "metadata": {},
   "source": [
    "### Classificatori k-neighbors based: KNeighbors Classifier \n",
    "Per questa classe di classificatori abbiamo selezionato *KNeighbors*, il quale implementa il learning basandoni su i *k* vicini di ogni *query point*, dove questo k è specificato in input dall'utente.\n",
    "Questa categoria di algoritmi possono essere visti come meccanismi di voto in cui la classe di un particolare punto è determinata sulla base del suo vicinato, poiché si suppone che esso sia *simile* a loro."
   ]
  },
  {
   "attachments": {},
   "cell_type": "markdown",
   "id": "6fff8824",
   "metadata": {},
   "source": [
    "Anche in questo caso effettuiamo una prima esecuzione senza alcuno scaling o scelta dei parametri per poter valutare le differenze in prestazioni."
   ]
  },
  {
   "cell_type": "code",
   "execution_count": 59,
   "id": "9b9c5005",
   "metadata": {},
   "outputs": [
    {
     "name": "stdout",
     "output_type": "stream",
     "text": [
      "              precision    recall  f1-score   support\n",
      "\n",
      "      BENIGN       1.00      0.51      0.68    330887\n",
      "        DDoS       0.51      0.99      0.67     19033\n",
      "    DoS Hulk       0.24      1.00      0.39     31654\n",
      "    PortScan       0.41      1.00      0.58     31838\n",
      "\n",
      "    accuracy                           0.61    413412\n",
      "   macro avg       0.54      0.88      0.58    413412\n",
      "weighted avg       0.87      0.61      0.65    413412\n",
      "\n"
     ]
    }
   ],
   "source": [
    "from sklearn.neighbors import KNeighborsClassifier\n",
    "neigh_imprv = KNeighborsClassifier(n_jobs = -1)\n",
    "#neigh_imprv.fit(X_under,y_under)\n",
    "\n",
    "filename = './Model/MultiClass/neigh_imprv.sav'\n",
    "#pickle.dump(neigh_imprv, open(filename, 'wb'))\n",
    "neigh_imprv = pickle.load(open(filename, 'rb'))\n",
    "\n",
    "y_pred = neigh_imprv.predict(X_test)\n",
    "\n",
    "print(classification_report(y_test,y_pred))"
   ]
  },
  {
   "attachments": {},
   "cell_type": "markdown",
   "id": "3ebeb8fc",
   "metadata": {},
   "source": [
    "Eseguiamo i due tipi di scaling"
   ]
  },
  {
   "cell_type": "code",
   "execution_count": 60,
   "id": "9db795ca",
   "metadata": {},
   "outputs": [
    {
     "data": {
      "text/html": [
       "<style>#sk-container-id-2 {color: black;background-color: white;}#sk-container-id-2 pre{padding: 0;}#sk-container-id-2 div.sk-toggleable {background-color: white;}#sk-container-id-2 label.sk-toggleable__label {cursor: pointer;display: block;width: 100%;margin-bottom: 0;padding: 0.3em;box-sizing: border-box;text-align: center;}#sk-container-id-2 label.sk-toggleable__label-arrow:before {content: \"▸\";float: left;margin-right: 0.25em;color: #696969;}#sk-container-id-2 label.sk-toggleable__label-arrow:hover:before {color: black;}#sk-container-id-2 div.sk-estimator:hover label.sk-toggleable__label-arrow:before {color: black;}#sk-container-id-2 div.sk-toggleable__content {max-height: 0;max-width: 0;overflow: hidden;text-align: left;background-color: #f0f8ff;}#sk-container-id-2 div.sk-toggleable__content pre {margin: 0.2em;color: black;border-radius: 0.25em;background-color: #f0f8ff;}#sk-container-id-2 input.sk-toggleable__control:checked~div.sk-toggleable__content {max-height: 200px;max-width: 100%;overflow: auto;}#sk-container-id-2 input.sk-toggleable__control:checked~label.sk-toggleable__label-arrow:before {content: \"▾\";}#sk-container-id-2 div.sk-estimator input.sk-toggleable__control:checked~label.sk-toggleable__label {background-color: #d4ebff;}#sk-container-id-2 div.sk-label input.sk-toggleable__control:checked~label.sk-toggleable__label {background-color: #d4ebff;}#sk-container-id-2 input.sk-hidden--visually {border: 0;clip: rect(1px 1px 1px 1px);clip: rect(1px, 1px, 1px, 1px);height: 1px;margin: -1px;overflow: hidden;padding: 0;position: absolute;width: 1px;}#sk-container-id-2 div.sk-estimator {font-family: monospace;background-color: #f0f8ff;border: 1px dotted black;border-radius: 0.25em;box-sizing: border-box;margin-bottom: 0.5em;}#sk-container-id-2 div.sk-estimator:hover {background-color: #d4ebff;}#sk-container-id-2 div.sk-parallel-item::after {content: \"\";width: 100%;border-bottom: 1px solid gray;flex-grow: 1;}#sk-container-id-2 div.sk-label:hover label.sk-toggleable__label {background-color: #d4ebff;}#sk-container-id-2 div.sk-serial::before {content: \"\";position: absolute;border-left: 1px solid gray;box-sizing: border-box;top: 0;bottom: 0;left: 50%;z-index: 0;}#sk-container-id-2 div.sk-serial {display: flex;flex-direction: column;align-items: center;background-color: white;padding-right: 0.2em;padding-left: 0.2em;position: relative;}#sk-container-id-2 div.sk-item {position: relative;z-index: 1;}#sk-container-id-2 div.sk-parallel {display: flex;align-items: stretch;justify-content: center;background-color: white;position: relative;}#sk-container-id-2 div.sk-item::before, #sk-container-id-2 div.sk-parallel-item::before {content: \"\";position: absolute;border-left: 1px solid gray;box-sizing: border-box;top: 0;bottom: 0;left: 50%;z-index: -1;}#sk-container-id-2 div.sk-parallel-item {display: flex;flex-direction: column;z-index: 1;position: relative;background-color: white;}#sk-container-id-2 div.sk-parallel-item:first-child::after {align-self: flex-end;width: 50%;}#sk-container-id-2 div.sk-parallel-item:last-child::after {align-self: flex-start;width: 50%;}#sk-container-id-2 div.sk-parallel-item:only-child::after {width: 0;}#sk-container-id-2 div.sk-dashed-wrapped {border: 1px dashed gray;margin: 0 0.4em 0.5em 0.4em;box-sizing: border-box;padding-bottom: 0.4em;background-color: white;}#sk-container-id-2 div.sk-label label {font-family: monospace;font-weight: bold;display: inline-block;line-height: 1.2em;}#sk-container-id-2 div.sk-label-container {text-align: center;}#sk-container-id-2 div.sk-container {/* jupyter's `normalize.less` sets `[hidden] { display: none; }` but bootstrap.min.css set `[hidden] { display: none !important; }` so we also need the `!important` here to be able to override the default hidden behavior on the sphinx rendered scikit-learn.org. See: https://github.com/scikit-learn/scikit-learn/issues/21755 */display: inline-block !important;position: relative;}#sk-container-id-2 div.sk-text-repr-fallback {display: none;}</style><div id=\"sk-container-id-2\" class=\"sk-top-container\"><div class=\"sk-text-repr-fallback\"><pre>Pipeline(steps=[(&#x27;scaler&#x27;, MinMaxScaler()),\n",
       "                (&#x27;classifier&#x27;, KNeighborsClassifier(n_jobs=-1))])</pre><b>In a Jupyter environment, please rerun this cell to show the HTML representation or trust the notebook. <br />On GitHub, the HTML representation is unable to render, please try loading this page with nbviewer.org.</b></div><div class=\"sk-container\" hidden><div class=\"sk-item sk-dashed-wrapped\"><div class=\"sk-label-container\"><div class=\"sk-label sk-toggleable\"><input class=\"sk-toggleable__control sk-hidden--visually\" id=\"sk-estimator-id-4\" type=\"checkbox\" ><label for=\"sk-estimator-id-4\" class=\"sk-toggleable__label sk-toggleable__label-arrow\">Pipeline</label><div class=\"sk-toggleable__content\"><pre>Pipeline(steps=[(&#x27;scaler&#x27;, MinMaxScaler()),\n",
       "                (&#x27;classifier&#x27;, KNeighborsClassifier(n_jobs=-1))])</pre></div></div></div><div class=\"sk-serial\"><div class=\"sk-item\"><div class=\"sk-estimator sk-toggleable\"><input class=\"sk-toggleable__control sk-hidden--visually\" id=\"sk-estimator-id-5\" type=\"checkbox\" ><label for=\"sk-estimator-id-5\" class=\"sk-toggleable__label sk-toggleable__label-arrow\">MinMaxScaler</label><div class=\"sk-toggleable__content\"><pre>MinMaxScaler()</pre></div></div></div><div class=\"sk-item\"><div class=\"sk-estimator sk-toggleable\"><input class=\"sk-toggleable__control sk-hidden--visually\" id=\"sk-estimator-id-6\" type=\"checkbox\" ><label for=\"sk-estimator-id-6\" class=\"sk-toggleable__label sk-toggleable__label-arrow\">KNeighborsClassifier</label><div class=\"sk-toggleable__content\"><pre>KNeighborsClassifier(n_jobs=-1)</pre></div></div></div></div></div></div></div>"
      ],
      "text/plain": [
       "Pipeline(steps=[('scaler', MinMaxScaler()),\n",
       "                ('classifier', KNeighborsClassifier(n_jobs=-1))])"
      ]
     },
     "execution_count": 60,
     "metadata": {},
     "output_type": "execute_result"
    }
   ],
   "source": [
    "p_standard.set_params(**{'classifier':neigh_imprv})\n",
    "p_minmax.set_params(**{'classifier':neigh_imprv})"
   ]
  },
  {
   "cell_type": "code",
   "execution_count": 61,
   "id": "340fce5d",
   "metadata": {},
   "outputs": [
    {
     "name": "stdout",
     "output_type": "stream",
     "text": [
      "              precision    recall  f1-score   support\n",
      "\n",
      "      BENIGN       1.00      0.73      0.85    330887\n",
      "        DDoS       0.88      1.00      0.94     19033\n",
      "    DoS Hulk       0.42      1.00      0.60     31654\n",
      "    PortScan       0.43      1.00      0.60     31838\n",
      "\n",
      "    accuracy                           0.79    413412\n",
      "   macro avg       0.68      0.93      0.74    413412\n",
      "weighted avg       0.91      0.79      0.81    413412\n",
      "\n"
     ]
    }
   ],
   "source": [
    "#p_standard.fit(X_under,y_under)\n",
    "\n",
    "filename = './Model/MultiClass/neigh_p_standard.sav'\n",
    "#pickle.dump(p_standard, open(filename, 'wb'))\n",
    "p_standard = pickle.load(open(filename, 'rb'))\n",
    "\n",
    "y_pred = p_standard.predict(X_test)\n",
    "print(classification_report(y_test,y_pred))"
   ]
  },
  {
   "cell_type": "code",
   "execution_count": 62,
   "id": "ccd995a7",
   "metadata": {},
   "outputs": [
    {
     "name": "stdout",
     "output_type": "stream",
     "text": [
      "              precision    recall  f1-score   support\n",
      "\n",
      "      BENIGN       1.00      0.79      0.88    330887\n",
      "        DDoS       0.55      1.00      0.71     19033\n",
      "    DoS Hulk       0.69      1.00      0.82     31654\n",
      "    PortScan       0.43      1.00      0.60     31838\n",
      "\n",
      "    accuracy                           0.83    413412\n",
      "   macro avg       0.67      0.95      0.75    413412\n",
      "weighted avg       0.91      0.83      0.85    413412\n",
      "\n"
     ]
    }
   ],
   "source": [
    "#p_minmax.fit(X_under,y_under)\n",
    "\n",
    "filename = './Model/MultiClass/neigh_p_minmax.sav'\n",
    "#pickle.dump(p_minmax, open(filename, 'wb'))\n",
    "p_minmax = pickle.load(open(filename, 'rb'))\n",
    "\n",
    "y_pred = p_minmax.predict(X_test)\n",
    "print(classification_report(y_test,y_pred))"
   ]
  },
  {
   "attachments": {},
   "cell_type": "markdown",
   "id": "8bfaf3d4",
   "metadata": {},
   "source": [
    "Notiamo come anche in questo caso con il min max scaler ottiene ottime prestazioni rispetto agli altri, anche se comparato con SGD rimane ancora il migliore tra quelli visti.\n",
    "\n",
    "Eseguiamo il tuning dei parametri anche per questo algoritmo, per cui l'hyper-parameter su cui effettuiamo l'analisi è **k** il numero di vicini che vengono utilizzati per stabilire la label di un record."
   ]
  },
  {
   "cell_type": "code",
   "execution_count": 63,
   "id": "aff0b77a",
   "metadata": {},
   "outputs": [],
   "source": [
    "k_range = list(range(1, 10))\n",
    "param_grid = dict(classifier__n_neighbors=k_range)\n",
    "\n",
    "knn_model = GridSearchCV (p_minmax,param_grid,scoring='f1_macro',n_jobs=8,verbose=10)\n",
    "#knn_model.fit(X_under,y_under)\n",
    "\n",
    "filename = './Model/MultiClass/knn_best.sav'\n",
    "#pickle.dump(knn_model, open(filename, 'wb'))\n",
    "knn_model = pickle.load(open(filename, 'rb'))"
   ]
  },
  {
   "cell_type": "code",
   "execution_count": 64,
   "id": "f1b48d0d",
   "metadata": {},
   "outputs": [
    {
     "data": {
      "text/plain": [
       "{'classifier__n_neighbors': 1}"
      ]
     },
     "execution_count": 64,
     "metadata": {},
     "output_type": "execute_result"
    }
   ],
   "source": [
    "knn_model.best_params_"
   ]
  },
  {
   "cell_type": "code",
   "execution_count": 65,
   "id": "ad12cad8",
   "metadata": {},
   "outputs": [
    {
     "name": "stdout",
     "output_type": "stream",
     "text": [
      "              precision    recall  f1-score   support\n",
      "\n",
      "      BENIGN       1.00      0.77      0.87    330887\n",
      "        DDoS       0.56      1.00      0.72     19033\n",
      "    DoS Hulk       0.70      1.00      0.82     31654\n",
      "    PortScan       0.40      1.00      0.58     31838\n",
      "\n",
      "    accuracy                           0.82    413412\n",
      "   macro avg       0.67      0.94      0.75    413412\n",
      "weighted avg       0.91      0.82      0.84    413412\n",
      "\n"
     ]
    }
   ],
   "source": [
    "y_pred = knn_model.best_estimator_.predict(X_test)\n",
    "\n",
    "print(classification_report(y_test,y_pred))"
   ]
  },
  {
   "attachments": {},
   "cell_type": "markdown",
   "id": "6bf62779",
   "metadata": {},
   "source": [
    "Non otteniamo particolari miglioramenti dall'utilizzo di un diverso numero di vicini."
   ]
  },
  {
   "attachments": {},
   "cell_type": "markdown",
   "id": "f91bc0d4",
   "metadata": {},
   "source": [
    "### RANDOM FOREST\n",
    "Fa parte degli algoritmi di classificazione *ensemble* ed in particolare combina l'output di più alberi decisionali per ottenere un singolo output.\n",
    "\n",
    "In RandomForestClassifier ogni albero è costruito a partire da un sottoinsieme dell'intero training set, con la tecnica del rimpiazzo. Ad ogni split inoltre l'insieme delle feature su cui è possibile farlo può essere anch'esso limitato tramite il parametro *max features*. Lo scopo dell'aggiunta di queste due fonti di randomicità è quello di diminuire la varianza dell'estimatore complessivo, al contrario di un singolo estimatore che è più soggetto a varianza ed a overfitting.\n",
    "\n"
   ]
  },
  {
   "cell_type": "code",
   "execution_count": 66,
   "id": "f0a9b9c0",
   "metadata": {},
   "outputs": [
    {
     "name": "stdout",
     "output_type": "stream",
     "text": [
      "              precision    recall  f1-score   support\n",
      "\n",
      "      BENIGN       1.00      0.44      0.61    330887\n",
      "        DDoS       0.98      1.00      0.99     19033\n",
      "    DoS Hulk       0.62      1.00      0.77     31654\n",
      "    PortScan       0.16      1.00      0.28     31838\n",
      "\n",
      "    accuracy                           0.55    413412\n",
      "   macro avg       0.69      0.86      0.66    413412\n",
      "weighted avg       0.91      0.55      0.61    413412\n",
      "\n"
     ]
    }
   ],
   "source": [
    "rnd_clf = RandomForestClassifier(random_state=42,n_jobs=-1)\n",
    "rnd_clf.fit(X_under,y_under)\n",
    "y_pred = rnd_clf.predict(X_test)\n",
    "\n",
    "print(classification_report(y_test,y_pred))"
   ]
  },
  {
   "attachments": {},
   "cell_type": "markdown",
   "id": "eaa3546c",
   "metadata": {},
   "source": [
    "Le performance di una prima esecucuzione con i parametri di default non è paragonabile a quella degli altri algoritmi visti fino ad ora, effettuiamo anche per questo un tuning degli hyper-parameter.\n",
    "\n",
    "In particolare ci concentriamo su:\n",
    "- *n_estimators*: il numero di alberi all'interno della foresta\n",
    "- *max_features*: il numero di feature da considerare in ogni split\n",
    "- *max_depth*: la massima profondità dell'alberto\n",
    "- *criterion*: la funziona che misura la qualità dello split"
   ]
  },
  {
   "cell_type": "code",
   "execution_count": 67,
   "id": "271765a8",
   "metadata": {},
   "outputs": [],
   "source": [
    "param_grid = { \n",
    "    'n_estimators': [200, 300],\n",
    "    'max_features': ['auto', 'sqrt', 'log2'],\n",
    "    'max_depth' : [5,7,9,11],\n",
    "    'criterion' :['gini', 'entropy']\n",
    "}"
   ]
  },
  {
   "cell_type": "code",
   "execution_count": 68,
   "id": "8622d50c",
   "metadata": {},
   "outputs": [
    {
     "data": {
      "text/plain": [
       "{'criterion': 'entropy',\n",
       " 'max_depth': 7,\n",
       " 'max_features': 'auto',\n",
       " 'n_estimators': 200}"
      ]
     },
     "execution_count": 68,
     "metadata": {},
     "output_type": "execute_result"
    }
   ],
   "source": [
    "#rnd_model = GridSearchCV (rnd_clf,param_grid,scoring='f1_macro',n_jobs=8,verbose=25)\n",
    "#rnd_model.fit(X_under,y_under)\n",
    "\n",
    "filename = './Model/MultiClass/rnd_best.sav'\n",
    "#pickle.dump(rnd_model, open(filename, 'wb'))\n",
    "rnd_model = pickle.load(open(filename, 'rb'))\n",
    "\n",
    "rnd_model.best_params_"
   ]
  },
  {
   "cell_type": "code",
   "execution_count": 69,
   "id": "7e124054",
   "metadata": {},
   "outputs": [
    {
     "name": "stdout",
     "output_type": "stream",
     "text": [
      "              precision    recall  f1-score   support\n",
      "\n",
      "      BENIGN       1.00      0.44      0.61    330887\n",
      "        DDoS       0.98      1.00      0.99     19033\n",
      "    DoS Hulk       0.63      1.00      0.77     31654\n",
      "    PortScan       0.16      1.00      0.28     31838\n",
      "\n",
      "    accuracy                           0.55    413412\n",
      "   macro avg       0.69      0.86      0.66    413412\n",
      "weighted avg       0.91      0.55      0.61    413412\n",
      "\n"
     ]
    }
   ],
   "source": [
    "y_pred = rnd_model.best_estimator_.predict(X_test)\n",
    "print(classification_report(y_test,y_pred))"
   ]
  },
  {
   "attachments": {},
   "cell_type": "markdown",
   "id": "18db581f",
   "metadata": {},
   "source": [
    "In seguito al tuning dei parametri non notiamo alcun miglioramento, il che rende questo algoritmo come performance il peggiore tra quelli visti non riuscendo a generalizzare bene il modello."
   ]
  },
  {
   "attachments": {},
   "cell_type": "markdown",
   "id": "a449d7fc",
   "metadata": {},
   "source": [
    "## NEURAL NETWORK\n",
    "A scopo dimostrativo viene implementata una rete neurale per poter analizzare le sue performance sul dataset di interesse. Una **rete neurale** è una simulazione astratta del nostro sistema nervoso ed è composta da:\n",
    "- un insieme di nodi detti *neuroni*\n",
    "- un insieme di *pesi* associati ai collegamenti\n",
    "- un insieme di *soglie* di attivazione\n",
    "\n",
    "La struttura generale di una rete neurale contiene un *input layer* il quale contiene tanti nodi quante sono le feature, un *output layer* il quale contiene tanti nodi quante sono le possibili etichette di classe ed un insieme di altri livelli di mezzo che prendono il nome di *hidden layer*.\n",
    "\n",
    "<img src=\"Images/neural.png\" style=\"display: block;margin-left: auto;margin-right: auto;width: 30%; margin-top:2%;\">\n",
    "\n",
    "In *sklearn* abbiamo a disposizione una classe chiamata **MLPClassifier** che implementa un algoritmo multi-strato (*MLP*) utilizzando la retropropagazione.\n",
    "Quello che fa questo algoritmo è allenare una funzione $f(\\cdot): R^m \\rightarrow R^o$ su un dataset, dove $m$ è la dimensione di input e $o$ è la dimensione di output.\n",
    "\n"
   ]
  },
  {
   "attachments": {},
   "cell_type": "markdown",
   "id": "20341249",
   "metadata": {},
   "source": [
    "Alleniamo inizialmente utilizzando i parametri di default, dove in particolare abbiamo un solo hidden layer composto da 100 neuroni."
   ]
  },
  {
   "cell_type": "code",
   "execution_count": 70,
   "id": "b7196948",
   "metadata": {},
   "outputs": [],
   "source": [
    "from sklearn.neural_network import *\n",
    "\n",
    "mlpc = MLPClassifier(max_iter=2000,random_state=42)\n",
    "#p_minmax.set_params(**{\"classifier\":mlpc})\n",
    "#p_minmax.fit(X_under,y_under)\n",
    "\n",
    "filename = './Model/MultiClass/mlpc_p_minmax.sav'\n",
    "#pickle.dump(p_minmax, open(filename, 'wb'))\n",
    "p_minmax = pickle.load(open(filename, 'rb'))"
   ]
  },
  {
   "cell_type": "code",
   "execution_count": 71,
   "id": "9a509f2b",
   "metadata": {},
   "outputs": [
    {
     "name": "stdout",
     "output_type": "stream",
     "text": [
      "              precision    recall  f1-score   support\n",
      "\n",
      "      BENIGN       1.00      0.76      0.86    330887\n",
      "        DDoS       0.58      1.00      0.73     19033\n",
      "    DoS Hulk       0.72      1.00      0.84     31654\n",
      "    PortScan       0.37      1.00      0.54     31838\n",
      "\n",
      "    accuracy                           0.81    413412\n",
      "   macro avg       0.67      0.94      0.74    413412\n",
      "weighted avg       0.91      0.81      0.83    413412\n",
      "\n"
     ]
    }
   ],
   "source": [
    "y_pred = p_minmax.predict(X_test)\n",
    "print(classification_report(y_test,y_pred))"
   ]
  },
  {
   "attachments": {},
   "cell_type": "markdown",
   "id": "0679c69e",
   "metadata": {},
   "source": [
    "Le performance sono ottime già con i parametri di default, ma anche in questo caso vogliamo effettuare una GridSearch alla scoperta della combinazione di hyper-parameter che ci offre i migliori risultati.\n",
    "Non avendo implementato *sklearn* un ottimizzazione che utilizzi la GPU come elaboratore nel training della rete la ricerca è stata effettuata esternamente poiché molto onerosa. \n",
    "\n",
    "Alla fine di questa i parametri che hanno ottenuto migliori risultati sono riportati di seguito"
   ]
  },
  {
   "cell_type": "code",
   "execution_count": 72,
   "id": "66f00167",
   "metadata": {},
   "outputs": [],
   "source": [
    "GRID = [\n",
    "    {\n",
    "     'classifier__learning_rate_init': [0.0001],\n",
    "     'classifier__hidden_layer_sizes': [(42,),(42,50,42),(30,150,30),(42,25)],\n",
    "     'classifier__activation': ['relu'],\n",
    "     'classifier__alpha': [0.0001],\n",
    "     'classifier__learning_rate':['constant']\n",
    "     }\n",
    "]\n",
    "mlpc_model = GridSearchCV(estimator=p_minmax, param_grid=GRID, \n",
    "                            scoring=\"f1_macro\",# average='macro'), \n",
    "                            n_jobs=8,verbose=100,cv=5)\n",
    "\n",
    "#mlpc_model.fit(X_under,y_under)\n",
    "\n",
    "filename = './Model/MultiClass/mlpc_best2.sav'\n",
    "#pickle.dump(mlpc_model, open(filename, 'wb'))\n",
    "mlpc_model = pickle.load(open(filename, 'rb'))\n"
   ]
  },
  {
   "cell_type": "code",
   "execution_count": 73,
   "id": "90a02c76",
   "metadata": {},
   "outputs": [
    {
     "data": {
      "text/plain": [
       "{'classifier__activation': 'relu',\n",
       " 'classifier__alpha': 0.0001,\n",
       " 'classifier__hidden_layer_sizes': (42, 50, 42),\n",
       " 'classifier__learning_rate': 'constant',\n",
       " 'classifier__learning_rate_init': 0.0001}"
      ]
     },
     "execution_count": 73,
     "metadata": {},
     "output_type": "execute_result"
    }
   ],
   "source": [
    "mlpc_model.best_params_"
   ]
  },
  {
   "cell_type": "code",
   "execution_count": 74,
   "id": "393f4248",
   "metadata": {},
   "outputs": [
    {
     "name": "stdout",
     "output_type": "stream",
     "text": [
      "              precision    recall  f1-score   support\n",
      "\n",
      "      BENIGN       1.00      0.75      0.86    330887\n",
      "        DDoS       0.53      1.00      0.69     19033\n",
      "    DoS Hulk       0.80      1.00      0.89     31654\n",
      "    PortScan       0.35      1.00      0.52     31838\n",
      "\n",
      "    accuracy                           0.80    413412\n",
      "   macro avg       0.67      0.94      0.74    413412\n",
      "weighted avg       0.91      0.80      0.83    413412\n",
      "\n"
     ]
    }
   ],
   "source": [
    "y_pred = mlpc_model.predict(X_test)\n",
    "print(classification_report(y_test,y_pred))"
   ]
  },
  {
   "attachments": {},
   "cell_type": "markdown",
   "id": "28834885",
   "metadata": {},
   "source": [
    "Proviamo ad utilizzare come numero di neuroni potenze di $2^n$, poiché questo potrebbe aumentare le performance in fase di addestramento della rete neurale"
   ]
  },
  {
   "cell_type": "code",
   "execution_count": 79,
   "id": "a32dc9a3",
   "metadata": {},
   "outputs": [],
   "source": [
    "mlpc_model.best_estimator_.set_params(**{'classifier__hidden_layer_sizes':(32,16,8)})\n",
    "filename = './Model/MultiClass/mlpc_best_8.sav'\n",
    "\n",
    "#mlpc_model.best_estimator_ = pickle.load(open(filename, 'rb'))\n",
    "mlpc_model.best_estimator_.fit(X_under,y_under)\n",
    "pickle.dump(mlpc_model.best_estimator_, open(filename, 'wb'))"
   ]
  },
  {
   "cell_type": "code",
   "execution_count": 80,
   "id": "0225a7cf",
   "metadata": {},
   "outputs": [
    {
     "name": "stdout",
     "output_type": "stream",
     "text": [
      "              precision    recall  f1-score   support\n",
      "\n",
      "      BENIGN       1.00      0.76      0.87    330887\n",
      "        DDoS       0.51      1.00      0.68     19033\n",
      "    DoS Hulk       0.71      1.00      0.83     31654\n",
      "    PortScan       0.40      1.00      0.57     31838\n",
      "\n",
      "    accuracy                           0.81    413412\n",
      "   macro avg       0.66      0.94      0.74    413412\n",
      "weighted avg       0.91      0.81      0.83    413412\n",
      "\n"
     ]
    }
   ],
   "source": [
    "y_pred = mlpc_model.best_estimator_.predict(X_test)\n",
    "print(classification_report(y_test,y_pred))"
   ]
  },
  {
   "attachments": {},
   "cell_type": "markdown",
   "id": "5578faf9",
   "metadata": {},
   "source": [
    "Notiamo un leggero miglioramento nell'utilizzo di questo numero di neuoroni per cui siamo soddisfatti dei risultati ottenuti, i quali potrebbero essere migliorati ulteriormente avendo a disposizione ulteriore potenza di calcolo."
   ]
  },
  {
   "attachments": {},
   "cell_type": "markdown",
   "id": "c5e190a8",
   "metadata": {},
   "source": [
    "## METODI ENSEMBLE\n",
    "I metodi ensemble, di cui anche RandomForest fa parte, hanno come obiettivo quello di combinare più estimatori costruiti con algoritmi anche differenti per migliorare la generalizzazione rispetto al singolo estimatore.\n",
    "\n",
    "Dopo aver effettuato il tuning di alcuni modelli abbiamo selezionato quelli che hanno ottenuto migliori performance e a tal proposito utilizzero un metodo di ensemble per cercare di ottenere un risultato migliore dalla loro combinazione.\n",
    "\n",
    "In particolare andremo ad utilizzare il **Voting Classifier** offerto da *sklearn* il quale combina differenti algoritmi ed usa un meccanismo di voto per predirre la label in output andando a sopperire alle singole limitazioni dei singoli estimatori.\n",
    "\n",
    "Esistono due meccanismi di voto:\n",
    "- *Hard Voting*: la label per un particolare record è data dalla label che in maggioranza è stata predetta da tutti gli estimatori che compongono il classificatore. In caso di parità verrà assegnata in base ad ordine stabilito.\n",
    "- *Soft Voting*: al contrario dell'hard voting in questo caso la label è data dall'argmax della somma delle probabilità previste. Per fare ciò ogni estimatore restituirà per ogni record la probabilità che esso faccia parte di ogni label di classe. E' possibile assegnare un peso ad ogni classificatore, il quale viene moltiplicato nella somma delle singole probabilità. \n",
    "Di seguito un esempio, come riporta la documentazione ufficiale di *sklearn*:\n",
    "<img src=\"Images/voting_soft.png\" style=\"display: block;margin-left: auto;margin-right: auto;width: 20%; margin-top:2%;\">\n",
    "In questo caso la label predetta sarebbe *2*"
   ]
  },
  {
   "attachments": {},
   "cell_type": "markdown",
   "id": "9d7bd156",
   "metadata": {},
   "source": [
    "Gli algoritmi selezionati a far parte del classificatore sono: *GaussianNB*, *SGDClassifier* e *KNeighboorClassifier*. \n",
    "\n",
    "Iniziamo con l'esecuzione dell'hard voting:"
   ]
  },
  {
   "cell_type": "code",
   "execution_count": 87,
   "id": "34b69247",
   "metadata": {},
   "outputs": [
    {
     "name": "stdout",
     "output_type": "stream",
     "text": [
      "              precision    recall  f1-score   support\n",
      "\n",
      "      BENIGN       1.00      0.86      0.92    330887\n",
      "        DDoS       0.76      1.00      0.86     19033\n",
      "    DoS Hulk       0.58      1.00      0.73     31654\n",
      "    PortScan       0.65      1.00      0.78     31838\n",
      "\n",
      "    accuracy                           0.89    413412\n",
      "   macro avg       0.75      0.96      0.83    413412\n",
      "weighted avg       0.93      0.89      0.90    413412\n",
      "\n"
     ]
    }
   ],
   "source": [
    "from sklearn.ensemble import VotingClassifier\n",
    "eclf = VotingClassifier(estimators=[(\"gs\",nbModel_grid.best_estimator_),(\"sgd\",sgdc_model.best_estimator_),(\"knn\",knn_model.best_estimator_)])\n",
    "\n",
    "eclf.fit(X_under,y_under)\n",
    "\n",
    "filename = './Model/MultiClass/voting_clf_hard.sav'\n",
    "pickle.dump(eclf, open(filename, 'wb'))\n",
    "#eclf = pickle.load(open(filename, 'rb'))\n",
    "\n",
    "y_pred = eclf.predict(X_test)\n",
    "print(classification_report(y_test,y_pred))"
   ]
  },
  {
   "attachments": {},
   "cell_type": "markdown",
   "id": "dae7d12c",
   "metadata": {},
   "source": [
    "I risultati ottenuti sono ottimi ed in linea con i risultati di SGD, il migliore algoritmo trainato.\n",
    "\n",
    "Effettuiamo ora anche il soft voting per poter confrontare i risultati, per farlo siamo costretti ad utilizzare *log_loss* come funzione di *loss* per SGD la quale è in grado di gestire le label con la probabilità associata."
   ]
  },
  {
   "cell_type": "code",
   "execution_count": 88,
   "id": "fe4b38c2",
   "metadata": {},
   "outputs": [
    {
     "data": {
      "text/html": [
       "<style>#sk-container-id-6 {color: black;background-color: white;}#sk-container-id-6 pre{padding: 0;}#sk-container-id-6 div.sk-toggleable {background-color: white;}#sk-container-id-6 label.sk-toggleable__label {cursor: pointer;display: block;width: 100%;margin-bottom: 0;padding: 0.3em;box-sizing: border-box;text-align: center;}#sk-container-id-6 label.sk-toggleable__label-arrow:before {content: \"▸\";float: left;margin-right: 0.25em;color: #696969;}#sk-container-id-6 label.sk-toggleable__label-arrow:hover:before {color: black;}#sk-container-id-6 div.sk-estimator:hover label.sk-toggleable__label-arrow:before {color: black;}#sk-container-id-6 div.sk-toggleable__content {max-height: 0;max-width: 0;overflow: hidden;text-align: left;background-color: #f0f8ff;}#sk-container-id-6 div.sk-toggleable__content pre {margin: 0.2em;color: black;border-radius: 0.25em;background-color: #f0f8ff;}#sk-container-id-6 input.sk-toggleable__control:checked~div.sk-toggleable__content {max-height: 200px;max-width: 100%;overflow: auto;}#sk-container-id-6 input.sk-toggleable__control:checked~label.sk-toggleable__label-arrow:before {content: \"▾\";}#sk-container-id-6 div.sk-estimator input.sk-toggleable__control:checked~label.sk-toggleable__label {background-color: #d4ebff;}#sk-container-id-6 div.sk-label input.sk-toggleable__control:checked~label.sk-toggleable__label {background-color: #d4ebff;}#sk-container-id-6 input.sk-hidden--visually {border: 0;clip: rect(1px 1px 1px 1px);clip: rect(1px, 1px, 1px, 1px);height: 1px;margin: -1px;overflow: hidden;padding: 0;position: absolute;width: 1px;}#sk-container-id-6 div.sk-estimator {font-family: monospace;background-color: #f0f8ff;border: 1px dotted black;border-radius: 0.25em;box-sizing: border-box;margin-bottom: 0.5em;}#sk-container-id-6 div.sk-estimator:hover {background-color: #d4ebff;}#sk-container-id-6 div.sk-parallel-item::after {content: \"\";width: 100%;border-bottom: 1px solid gray;flex-grow: 1;}#sk-container-id-6 div.sk-label:hover label.sk-toggleable__label {background-color: #d4ebff;}#sk-container-id-6 div.sk-serial::before {content: \"\";position: absolute;border-left: 1px solid gray;box-sizing: border-box;top: 0;bottom: 0;left: 50%;z-index: 0;}#sk-container-id-6 div.sk-serial {display: flex;flex-direction: column;align-items: center;background-color: white;padding-right: 0.2em;padding-left: 0.2em;position: relative;}#sk-container-id-6 div.sk-item {position: relative;z-index: 1;}#sk-container-id-6 div.sk-parallel {display: flex;align-items: stretch;justify-content: center;background-color: white;position: relative;}#sk-container-id-6 div.sk-item::before, #sk-container-id-6 div.sk-parallel-item::before {content: \"\";position: absolute;border-left: 1px solid gray;box-sizing: border-box;top: 0;bottom: 0;left: 50%;z-index: -1;}#sk-container-id-6 div.sk-parallel-item {display: flex;flex-direction: column;z-index: 1;position: relative;background-color: white;}#sk-container-id-6 div.sk-parallel-item:first-child::after {align-self: flex-end;width: 50%;}#sk-container-id-6 div.sk-parallel-item:last-child::after {align-self: flex-start;width: 50%;}#sk-container-id-6 div.sk-parallel-item:only-child::after {width: 0;}#sk-container-id-6 div.sk-dashed-wrapped {border: 1px dashed gray;margin: 0 0.4em 0.5em 0.4em;box-sizing: border-box;padding-bottom: 0.4em;background-color: white;}#sk-container-id-6 div.sk-label label {font-family: monospace;font-weight: bold;display: inline-block;line-height: 1.2em;}#sk-container-id-6 div.sk-label-container {text-align: center;}#sk-container-id-6 div.sk-container {/* jupyter's `normalize.less` sets `[hidden] { display: none; }` but bootstrap.min.css set `[hidden] { display: none !important; }` so we also need the `!important` here to be able to override the default hidden behavior on the sphinx rendered scikit-learn.org. See: https://github.com/scikit-learn/scikit-learn/issues/21755 */display: inline-block !important;position: relative;}#sk-container-id-6 div.sk-text-repr-fallback {display: none;}</style><div id=\"sk-container-id-6\" class=\"sk-top-container\"><div class=\"sk-text-repr-fallback\"><pre>VotingClassifier(estimators=[(&#x27;gs&#x27;,\n",
       "                              Pipeline(steps=[(&#x27;scaler&#x27;, MinMaxScaler()),\n",
       "                                              (&#x27;classifier&#x27;,\n",
       "                                               GaussianNB(var_smoothing=2.4420530945486497e-07))])),\n",
       "                             (&#x27;sgd&#x27;,\n",
       "                              Pipeline(steps=[(&#x27;scaler&#x27;, MinMaxScaler()),\n",
       "                                              (&#x27;classifier&#x27;,\n",
       "                                               SGDClassifier(loss=&#x27;log_loss&#x27;,\n",
       "                                                             max_iter=500,\n",
       "                                                             n_jobs=-1,\n",
       "                                                             penalty=&#x27;elasticnet&#x27;,\n",
       "                                                             random_state=42,\n",
       "                                                             tol=0))])),\n",
       "                             (&#x27;knn&#x27;,\n",
       "                              Pipeline(steps=[(&#x27;scaler&#x27;, MinMaxScaler()),\n",
       "                                              (&#x27;classifier&#x27;,\n",
       "                                               KNeighborsClassifier(n_jobs=-1,\n",
       "                                                                    n_neighbors=1))]))],\n",
       "                 verbose=True, voting=&#x27;soft&#x27;)</pre><b>In a Jupyter environment, please rerun this cell to show the HTML representation or trust the notebook. <br />On GitHub, the HTML representation is unable to render, please try loading this page with nbviewer.org.</b></div><div class=\"sk-container\" hidden><div class=\"sk-item sk-dashed-wrapped\"><div class=\"sk-label-container\"><div class=\"sk-label sk-toggleable\"><input class=\"sk-toggleable__control sk-hidden--visually\" id=\"sk-estimator-id-16\" type=\"checkbox\" ><label for=\"sk-estimator-id-16\" class=\"sk-toggleable__label sk-toggleable__label-arrow\">VotingClassifier</label><div class=\"sk-toggleable__content\"><pre>VotingClassifier(estimators=[(&#x27;gs&#x27;,\n",
       "                              Pipeline(steps=[(&#x27;scaler&#x27;, MinMaxScaler()),\n",
       "                                              (&#x27;classifier&#x27;,\n",
       "                                               GaussianNB(var_smoothing=2.4420530945486497e-07))])),\n",
       "                             (&#x27;sgd&#x27;,\n",
       "                              Pipeline(steps=[(&#x27;scaler&#x27;, MinMaxScaler()),\n",
       "                                              (&#x27;classifier&#x27;,\n",
       "                                               SGDClassifier(loss=&#x27;log_loss&#x27;,\n",
       "                                                             max_iter=500,\n",
       "                                                             n_jobs=-1,\n",
       "                                                             penalty=&#x27;elasticnet&#x27;,\n",
       "                                                             random_state=42,\n",
       "                                                             tol=0))])),\n",
       "                             (&#x27;knn&#x27;,\n",
       "                              Pipeline(steps=[(&#x27;scaler&#x27;, MinMaxScaler()),\n",
       "                                              (&#x27;classifier&#x27;,\n",
       "                                               KNeighborsClassifier(n_jobs=-1,\n",
       "                                                                    n_neighbors=1))]))],\n",
       "                 verbose=True, voting=&#x27;soft&#x27;)</pre></div></div></div><div class=\"sk-parallel\"><div class=\"sk-parallel-item\"><div class=\"sk-item\"><div class=\"sk-label-container\"><div class=\"sk-label sk-toggleable\"><label>gs</label></div></div><div class=\"sk-serial\"><div class=\"sk-item\"><div class=\"sk-serial\"><div class=\"sk-item\"><div class=\"sk-estimator sk-toggleable\"><input class=\"sk-toggleable__control sk-hidden--visually\" id=\"sk-estimator-id-17\" type=\"checkbox\" ><label for=\"sk-estimator-id-17\" class=\"sk-toggleable__label sk-toggleable__label-arrow\">MinMaxScaler</label><div class=\"sk-toggleable__content\"><pre>MinMaxScaler()</pre></div></div></div><div class=\"sk-item\"><div class=\"sk-estimator sk-toggleable\"><input class=\"sk-toggleable__control sk-hidden--visually\" id=\"sk-estimator-id-18\" type=\"checkbox\" ><label for=\"sk-estimator-id-18\" class=\"sk-toggleable__label sk-toggleable__label-arrow\">GaussianNB</label><div class=\"sk-toggleable__content\"><pre>GaussianNB(var_smoothing=2.4420530945486497e-07)</pre></div></div></div></div></div></div></div></div><div class=\"sk-parallel-item\"><div class=\"sk-item\"><div class=\"sk-label-container\"><div class=\"sk-label sk-toggleable\"><label>sgd</label></div></div><div class=\"sk-serial\"><div class=\"sk-item\"><div class=\"sk-serial\"><div class=\"sk-item\"><div class=\"sk-estimator sk-toggleable\"><input class=\"sk-toggleable__control sk-hidden--visually\" id=\"sk-estimator-id-19\" type=\"checkbox\" ><label for=\"sk-estimator-id-19\" class=\"sk-toggleable__label sk-toggleable__label-arrow\">MinMaxScaler</label><div class=\"sk-toggleable__content\"><pre>MinMaxScaler()</pre></div></div></div><div class=\"sk-item\"><div class=\"sk-estimator sk-toggleable\"><input class=\"sk-toggleable__control sk-hidden--visually\" id=\"sk-estimator-id-20\" type=\"checkbox\" ><label for=\"sk-estimator-id-20\" class=\"sk-toggleable__label sk-toggleable__label-arrow\">SGDClassifier</label><div class=\"sk-toggleable__content\"><pre>SGDClassifier(loss=&#x27;log_loss&#x27;, max_iter=500, n_jobs=-1, penalty=&#x27;elasticnet&#x27;,\n",
       "              random_state=42, tol=0)</pre></div></div></div></div></div></div></div></div><div class=\"sk-parallel-item\"><div class=\"sk-item\"><div class=\"sk-label-container\"><div class=\"sk-label sk-toggleable\"><label>knn</label></div></div><div class=\"sk-serial\"><div class=\"sk-item\"><div class=\"sk-serial\"><div class=\"sk-item\"><div class=\"sk-estimator sk-toggleable\"><input class=\"sk-toggleable__control sk-hidden--visually\" id=\"sk-estimator-id-21\" type=\"checkbox\" ><label for=\"sk-estimator-id-21\" class=\"sk-toggleable__label sk-toggleable__label-arrow\">MinMaxScaler</label><div class=\"sk-toggleable__content\"><pre>MinMaxScaler()</pre></div></div></div><div class=\"sk-item\"><div class=\"sk-estimator sk-toggleable\"><input class=\"sk-toggleable__control sk-hidden--visually\" id=\"sk-estimator-id-22\" type=\"checkbox\" ><label for=\"sk-estimator-id-22\" class=\"sk-toggleable__label sk-toggleable__label-arrow\">KNeighborsClassifier</label><div class=\"sk-toggleable__content\"><pre>KNeighborsClassifier(n_jobs=-1, n_neighbors=1)</pre></div></div></div></div></div></div></div></div></div></div></div></div>"
      ],
      "text/plain": [
       "VotingClassifier(estimators=[('gs',\n",
       "                              Pipeline(steps=[('scaler', MinMaxScaler()),\n",
       "                                              ('classifier',\n",
       "                                               GaussianNB(var_smoothing=2.4420530945486497e-07))])),\n",
       "                             ('sgd',\n",
       "                              Pipeline(steps=[('scaler', MinMaxScaler()),\n",
       "                                              ('classifier',\n",
       "                                               SGDClassifier(loss='log_loss',\n",
       "                                                             max_iter=500,\n",
       "                                                             n_jobs=-1,\n",
       "                                                             penalty='elasticnet',\n",
       "                                                             random_state=42,\n",
       "                                                             tol=0))])),\n",
       "                             ('knn',\n",
       "                              Pipeline(steps=[('scaler', MinMaxScaler()),\n",
       "                                              ('classifier',\n",
       "                                               KNeighborsClassifier(n_jobs=-1,\n",
       "                                                                    n_neighbors=1))]))],\n",
       "                 verbose=True, voting='soft')"
      ]
     },
     "execution_count": 88,
     "metadata": {},
     "output_type": "execute_result"
    }
   ],
   "source": [
    "eclf.set_params(**{\"voting\":\"soft\",\"verbose\":True,\"sgd__classifier__loss\":\"log_loss\"})"
   ]
  },
  {
   "cell_type": "code",
   "execution_count": 89,
   "id": "f4cf7607",
   "metadata": {},
   "outputs": [
    {
     "name": "stdout",
     "output_type": "stream",
     "text": [
      "[Voting] ....................... (1 of 3) Processing gs, total=   1.0s\n",
      "[Voting] ...................... (2 of 3) Processing sgd, total=   5.0s\n",
      "[Voting] ...................... (3 of 3) Processing knn, total=   0.5s\n",
      "              precision    recall  f1-score   support\n",
      "\n",
      "      BENIGN       1.00      0.78      0.87    330887\n",
      "        DDoS       0.68      1.00      0.81     19033\n",
      "    DoS Hulk       0.58      1.00      0.73     31654\n",
      "    PortScan       0.43      1.00      0.60     31838\n",
      "\n",
      "    accuracy                           0.82    413412\n",
      "   macro avg       0.67      0.94      0.75    413412\n",
      "weighted avg       0.91      0.82      0.84    413412\n",
      "\n"
     ]
    }
   ],
   "source": [
    "eclf.fit(X_under,y_under)\n",
    "\n",
    "filename = './Model/MultiClass/voting_clf_soft.sav'\n",
    "pickle.dump(eclf, open(filename, 'wb'))\n",
    "#eclf = pickle.load(open(filename, 'rb'))\n",
    "\n",
    "y_pred = eclf.predict(X_test)\n",
    "\n",
    "print(classification_report(y_test,y_pred))"
   ]
  },
  {
   "attachments": {},
   "cell_type": "markdown",
   "id": "cd98a6a3",
   "metadata": {},
   "source": [
    "I risultati ci portano a constatare che la versione hard-voting ha delle migliori performance che ci portano a preferirla. Notiamo che ciò che condiziona le performance globali sono gli scarsi risultati sulla *precision* di alcune label come ad esempio DDos. A tal proposito nella fase di tuning dei modelli alcuni di essi hanno dato ottimi risultati per cui proviamo a costruire un nostro VotingClassifier custom.\n",
    "\n",
    "Per farlo estendiamo la classe *VotingClassifier* andando a riscrivere la funzione di *predict*, in particolare la fase in cui viene effettivamente scelta la label di classe.\n",
    "Abbiamo preso ad esempio il classificatore bayesiano il quale ha ottime performance lato *precision* su DDos, per cui possiamo dire che quando la classe prevista da quest'ultimo estimatore corrisponde a DDos possiamo assegnarla direttamente al record, altrimenti assegnamo la classe secondo hard voting."
   ]
  },
  {
   "cell_type": "code",
   "execution_count": 90,
   "id": "cb9cbca5",
   "metadata": {},
   "outputs": [],
   "source": [
    "from sklearn.utils.validation import check_is_fitted\n",
    "class MyVoting(VotingClassifier):\n",
    "   \n",
    "   def predict(self, X):\n",
    "        check_is_fitted(self)\n",
    "        if self.voting == \"soft\":\n",
    "            maj = np.argmax(self.predict_proba(X), axis=1)\n",
    "        else:  # 'hard' voting\n",
    "            predictions = self._predict(X)\n",
    "            maj = np.apply_along_axis(\n",
    "                lambda x: 1 if x[0]==1 else ( x[0] if np.argmax(np.bincount(x, weights=self._weights_not_none)) == 1 else np.argmax(np.bincount(x, weights=self._weights_not_none))),\n",
    "                axis=1,\n",
    "                arr=predictions,\n",
    "            )\n",
    "            \n",
    "        maj = self.le_.inverse_transform(maj)\n",
    "\n",
    "        return maj\n",
    "        \n"
   ]
  },
  {
   "cell_type": "code",
   "execution_count": 91,
   "id": "6941d80c",
   "metadata": {},
   "outputs": [],
   "source": [
    "mv = MyVoting(estimators=[(\"gs\",nbModel_grid.best_estimator_),(\"sgd\",sgdc_model.best_estimator_),(\"knn\",knn_model.best_estimator_)])\n",
    "mv.fit(X_under,y_under)\n",
    "\n",
    "filename = './Model/MultiClass/myvoting_clf.sav'\n",
    "pickle.dump(mv, open(filename, 'wb'))\n",
    "#mv = pickle.load(open(filename, 'rb'))"
   ]
  },
  {
   "cell_type": "code",
   "execution_count": 92,
   "id": "1eaf83ed",
   "metadata": {},
   "outputs": [
    {
     "name": "stdout",
     "output_type": "stream",
     "text": [
      "              precision    recall  f1-score   support\n",
      "\n",
      "      BENIGN       1.00      0.85      0.92    330887\n",
      "        DDoS       0.94      1.00      0.97     19033\n",
      "    DoS Hulk       0.52      1.00      0.69     31654\n",
      "    PortScan       0.63      1.00      0.77     31838\n",
      "\n",
      "    accuracy                           0.88    413412\n",
      "   macro avg       0.77      0.96      0.84    413412\n",
      "weighted avg       0.93      0.88      0.89    413412\n",
      "\n"
     ]
    }
   ],
   "source": [
    "y_pred = mv.predict(X_test)\n",
    "print(classification_report(y_test,y_pred))"
   ]
  },
  {
   "attachments": {},
   "cell_type": "markdown",
   "id": "e567506c",
   "metadata": {},
   "source": [
    "Concludiamo che i risultati su DDos sono quelli che ci aspettavamo, riuscendo ad incrementare sostanzialmente la *precision* ma perdendo qualche punto percentuale sulla *precision* delle altre label che in ottica performance globali non cambia di molto il risultato."
   ]
  },
  {
   "attachments": {},
   "cell_type": "markdown",
   "id": "96ed4946",
   "metadata": {},
   "source": [
    "## Conclusioni"
   ]
  }
 ],
 "metadata": {
  "kernelspec": {
   "display_name": "Python 3",
   "language": "python",
   "name": "python3"
  },
  "language_info": {
   "codemirror_mode": {
    "name": "ipython",
    "version": 3
   },
   "file_extension": ".py",
   "mimetype": "text/x-python",
   "name": "python",
   "nbconvert_exporter": "python",
   "pygments_lexer": "ipython3",
   "version": "3.10.0"
  },
  "papermill": {
   "default_parameters": {},
   "duration": 2319.429668,
   "end_time": "2023-02-24T21:48:42.510246",
   "environment_variables": {},
   "exception": null,
   "input_path": "__notebook__.ipynb",
   "output_path": "__notebook__.ipynb",
   "parameters": {},
   "start_time": "2023-02-24T21:10:03.080578",
   "version": "2.3.4"
  },
  "vscode": {
   "interpreter": {
    "hash": "b323625c1ed716612379b78d213690fb00932e5b7f08ac805d5dc3a86801cc7b"
   }
  }
 },
 "nbformat": 4,
 "nbformat_minor": 5
}
