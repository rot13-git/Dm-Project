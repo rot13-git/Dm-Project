{
 "cells": [
  {
   "cell_type": "code",
   "execution_count": 1,
   "id": "283057f9",
   "metadata": {
    "_cell_guid": "b1076dfc-b9ad-4769-8c92-a6c4dae69d19",
    "_uuid": "8f2839f25d086af736a60e9eeb907d3b93b6e0e5",
    "execution": {
     "iopub.execute_input": "2023-02-24T21:10:15.454379Z",
     "iopub.status.busy": "2023-02-24T21:10:15.453727Z",
     "iopub.status.idle": "2023-02-24T21:10:15.473788Z",
     "shell.execute_reply": "2023-02-24T21:10:15.471970Z"
    },
    "papermill": {
     "duration": 0.036955,
     "end_time": "2023-02-24T21:10:15.477599",
     "exception": false,
     "start_time": "2023-02-24T21:10:15.440644",
     "status": "completed"
    },
    "tags": []
   },
   "outputs": [],
   "source": [
    "# This Python 3 environment comes with many helpful analytics libraries installed\n",
    "# It is defined by the kaggle/python Docker image: https://github.com/kaggle/docker-python\n",
    "# For example, here's several helpful packages to load\n",
    "\n",
    "import numpy as np # linear algebra\n",
    "import pandas as pd # data processing, CSV file I/O (e.g. pd.read_csv)\n",
    "\n",
    "# Input data files are available in the read-only \"../input/\" directory\n",
    "# For example, running this (by clicking run or pressing Shift+Enter) will list all files under the input directory\n",
    "\n",
    "import os\n",
    "for dirname, _, filenames in os.walk('/kaggle/input'):\n",
    "    for filename in filenames:\n",
    "        print(os.path.join(dirname, filename))\n",
    "\n",
    "# You can write up to 20GB to the current directory (/kaggle/working/) that gets preserved as output when you create a version using \"Save & Run All\" \n",
    "# You can also write temporary files to /kaggle/temp/, but they won't be saved outside of the current session"
   ]
  },
  {
   "cell_type": "markdown",
   "id": "e44fa41d",
   "metadata": {
    "papermill": {
     "duration": 0.008843,
     "end_time": "2023-02-24T21:10:15.495987",
     "exception": false,
     "start_time": "2023-02-24T21:10:15.487144",
     "status": "completed"
    },
    "tags": []
   },
   "source": [
    "# Loading DataSet"
   ]
  },
  {
   "cell_type": "code",
   "execution_count": 2,
   "id": "494b7d26",
   "metadata": {
    "execution": {
     "iopub.execute_input": "2023-02-24T21:10:15.517151Z",
     "iopub.status.busy": "2023-02-24T21:10:15.516301Z",
     "iopub.status.idle": "2023-02-24T21:11:02.741926Z",
     "shell.execute_reply": "2023-02-24T21:11:02.740591Z"
    },
    "papermill": {
     "duration": 47.23962,
     "end_time": "2023-02-24T21:11:02.744807",
     "exception": false,
     "start_time": "2023-02-24T21:10:15.505187",
     "status": "completed"
    },
    "tags": []
   },
   "outputs": [],
   "source": [
    "df = pd.read_csv(\"Dm-Project/dataset/dataset/Wednesday-WorkingHours.csv\")\n",
    "df = pd.concat([df, pd.read_csv(\"Dm-Project/dataset/dataset/Thursday-WorkingHours.csv\")])\n",
    "df = pd.concat([df, pd.read_csv(\"Dm-Project/dataset/dataset/Tuesday-WorkingHours.csv\")])\n",
    "df = pd.concat([df, pd.read_csv(\"Dm-Project/dataset/dataset/Monday-WorkingHours.csv\")])\n",
    "df = pd.concat([df, pd.read_csv(\"Dm-Project/dataset/dataset/Friday-WorkingHours.csv\")])"
   ]
  },
  {
   "cell_type": "code",
   "execution_count": 3,
   "id": "2f37f293",
   "metadata": {
    "_kg_hide-input": false,
    "execution": {
     "iopub.execute_input": "2023-02-24T21:11:02.766445Z",
     "iopub.status.busy": "2023-02-24T21:11:02.765919Z",
     "iopub.status.idle": "2023-02-24T21:11:02.776330Z",
     "shell.execute_reply": "2023-02-24T21:11:02.774986Z"
    },
    "papermill": {
     "duration": 0.024407,
     "end_time": "2023-02-24T21:11:02.778639",
     "exception": false,
     "start_time": "2023-02-24T21:11:02.754232",
     "status": "completed"
    },
    "tags": []
   },
   "outputs": [
    {
     "data": {
      "text/plain": [
       "'df = pd.concat([df1,df2])\\ndel df1,df2\\ndf = pd.concat([df,df3])\\ndel df3\\ndf = pd.concat([df,df4])\\ndel df4\\ndf = pd.concat([df,df5])\\ndel df5'"
      ]
     },
     "execution_count": 3,
     "metadata": {},
     "output_type": "execute_result"
    }
   ],
   "source": [
    "'''df = pd.concat([df1,df2])\n",
    "del df1,df2\n",
    "df = pd.concat([df,df3])\n",
    "del df3\n",
    "df = pd.concat([df,df4])\n",
    "del df4\n",
    "df = pd.concat([df,df5])\n",
    "del df5'''"
   ]
  },
  {
   "cell_type": "code",
   "execution_count": 4,
   "id": "fc3a96c5",
   "metadata": {
    "execution": {
     "iopub.execute_input": "2023-02-24T21:11:02.799702Z",
     "iopub.status.busy": "2023-02-24T21:11:02.799139Z",
     "iopub.status.idle": "2023-02-24T21:11:02.835295Z",
     "shell.execute_reply": "2023-02-24T21:11:02.832563Z"
    },
    "papermill": {
     "duration": 0.050903,
     "end_time": "2023-02-24T21:11:02.838965",
     "exception": false,
     "start_time": "2023-02-24T21:11:02.788062",
     "status": "completed"
    },
    "tags": []
   },
   "outputs": [
    {
     "name": "stdout",
     "output_type": "stream",
     "text": [
      "<class 'pandas.core.frame.DataFrame'>\n",
      "Int64Index: 2100814 entries, 0 to 547914\n",
      "Data columns (total 84 columns):\n",
      " #   Column                      Dtype  \n",
      "---  ------                      -----  \n",
      " 0   Flow ID                     object \n",
      " 1   Src IP                      object \n",
      " 2   Src Port                    int64  \n",
      " 3   Dst IP                      object \n",
      " 4   Dst Port                    int64  \n",
      " 5   Protocol                    int64  \n",
      " 6   Timestamp                   object \n",
      " 7   Flow Duration               int64  \n",
      " 8   Total Fwd Packet            int64  \n",
      " 9   Total Bwd packets           int64  \n",
      " 10  Total Length of Fwd Packet  float64\n",
      " 11  Total Length of Bwd Packet  float64\n",
      " 12  Fwd Packet Length Max       float64\n",
      " 13  Fwd Packet Length Min       float64\n",
      " 14  Fwd Packet Length Mean      float64\n",
      " 15  Fwd Packet Length Std       float64\n",
      " 16  Bwd Packet Length Max       float64\n",
      " 17  Bwd Packet Length Min       float64\n",
      " 18  Bwd Packet Length Mean      float64\n",
      " 19  Bwd Packet Length Std       float64\n",
      " 20  Flow Bytes/s                float64\n",
      " 21  Flow Packets/s              float64\n",
      " 22  Flow IAT Mean               float64\n",
      " 23  Flow IAT Std                float64\n",
      " 24  Flow IAT Max                float64\n",
      " 25  Flow IAT Min                float64\n",
      " 26  Fwd IAT Total               float64\n",
      " 27  Fwd IAT Mean                float64\n",
      " 28  Fwd IAT Std                 float64\n",
      " 29  Fwd IAT Max                 float64\n",
      " 30  Fwd IAT Min                 float64\n",
      " 31  Bwd IAT Total               float64\n",
      " 32  Bwd IAT Mean                float64\n",
      " 33  Bwd IAT Std                 float64\n",
      " 34  Bwd IAT Max                 float64\n",
      " 35  Bwd IAT Min                 float64\n",
      " 36  Fwd PSH Flags               int64  \n",
      " 37  Bwd PSH Flags               int64  \n",
      " 38  Fwd URG Flags               int64  \n",
      " 39  Bwd URG Flags               int64  \n",
      " 40  Fwd Header Length           int64  \n",
      " 41  Bwd Header Length           int64  \n",
      " 42  Fwd Packets/s               float64\n",
      " 43  Bwd Packets/s               float64\n",
      " 44  Packet Length Min           float64\n",
      " 45  Packet Length Max           float64\n",
      " 46  Packet Length Mean          float64\n",
      " 47  Packet Length Std           float64\n",
      " 48  Packet Length Variance      float64\n",
      " 49  FIN Flag Count              int64  \n",
      " 50  SYN Flag Count              int64  \n",
      " 51  RST Flag Count              int64  \n",
      " 52  PSH Flag Count              int64  \n",
      " 53  ACK Flag Count              int64  \n",
      " 54  URG Flag Count              int64  \n",
      " 55  CWR Flag Count              int64  \n",
      " 56  ECE Flag Count              int64  \n",
      " 57  Down/Up Ratio               float64\n",
      " 58  Average Packet Size         float64\n",
      " 59  Fwd Segment Size Avg        float64\n",
      " 60  Bwd Segment Size Avg        float64\n",
      " 61  Fwd Bytes/Bulk Avg          int64  \n",
      " 62  Fwd Packet/Bulk Avg         int64  \n",
      " 63  Fwd Bulk Rate Avg           int64  \n",
      " 64  Bwd Bytes/Bulk Avg          int64  \n",
      " 65  Bwd Packet/Bulk Avg         int64  \n",
      " 66  Bwd Bulk Rate Avg           int64  \n",
      " 67  Subflow Fwd Packets         int64  \n",
      " 68  Subflow Fwd Bytes           int64  \n",
      " 69  Subflow Bwd Packets         int64  \n",
      " 70  Subflow Bwd Bytes           int64  \n",
      " 71  FWD Init Win Bytes          int64  \n",
      " 72  Bwd Init Win Bytes          int64  \n",
      " 73  Fwd Act Data Pkts           int64  \n",
      " 74  Fwd Seg Size Min            int64  \n",
      " 75  Active Mean                 float64\n",
      " 76  Active Std                  float64\n",
      " 77  Active Max                  float64\n",
      " 78  Active Min                  float64\n",
      " 79  Idle Mean                   float64\n",
      " 80  Idle Std                    float64\n",
      " 81  Idle Max                    float64\n",
      " 82  Idle Min                    float64\n",
      " 83  Label                       object \n",
      "dtypes: float64(45), int64(34), object(5)\n",
      "memory usage: 1.3+ GB\n"
     ]
    }
   ],
   "source": [
    "df.info()"
   ]
  },
  {
   "cell_type": "markdown",
   "id": "11e35d63",
   "metadata": {
    "papermill": {
     "duration": 0.009311,
     "end_time": "2023-02-24T21:11:02.858077",
     "exception": false,
     "start_time": "2023-02-24T21:11:02.848766",
     "status": "completed"
    },
    "tags": []
   },
   "source": [
    "# Cleaning DataSet"
   ]
  },
  {
   "cell_type": "code",
   "execution_count": 5,
   "id": "07373006",
   "metadata": {
    "execution": {
     "iopub.execute_input": "2023-02-24T21:11:02.879873Z",
     "iopub.status.busy": "2023-02-24T21:11:02.879295Z",
     "iopub.status.idle": "2023-02-24T21:11:03.669646Z",
     "shell.execute_reply": "2023-02-24T21:11:03.667599Z"
    },
    "papermill": {
     "duration": 0.804923,
     "end_time": "2023-02-24T21:11:03.672989",
     "exception": false,
     "start_time": "2023-02-24T21:11:02.868066",
     "status": "completed"
    },
    "tags": []
   },
   "outputs": [
    {
     "data": {
      "text/html": [
       "<div>\n",
       "<style scoped>\n",
       "    .dataframe tbody tr th:only-of-type {\n",
       "        vertical-align: middle;\n",
       "    }\n",
       "\n",
       "    .dataframe tbody tr th {\n",
       "        vertical-align: top;\n",
       "    }\n",
       "\n",
       "    .dataframe thead th {\n",
       "        text-align: right;\n",
       "    }\n",
       "</style>\n",
       "<table border=\"1\" class=\"dataframe\">\n",
       "  <thead>\n",
       "    <tr style=\"text-align: right;\">\n",
       "      <th></th>\n",
       "      <th>0</th>\n",
       "    </tr>\n",
       "  </thead>\n",
       "  <tbody>\n",
       "    <tr>\n",
       "      <th>Flow Bytes/s</th>\n",
       "      <td>602</td>\n",
       "    </tr>\n",
       "    <tr>\n",
       "      <th>Flow IAT Mean</th>\n",
       "      <td>252</td>\n",
       "    </tr>\n",
       "    <tr>\n",
       "      <th>Flow IAT Std</th>\n",
       "      <td>252</td>\n",
       "    </tr>\n",
       "    <tr>\n",
       "      <th>Flow IAT Min</th>\n",
       "      <td>252</td>\n",
       "    </tr>\n",
       "    <tr>\n",
       "      <th>Flow IAT Max</th>\n",
       "      <td>252</td>\n",
       "    </tr>\n",
       "    <tr>\n",
       "      <th>...</th>\n",
       "      <td>...</td>\n",
       "    </tr>\n",
       "    <tr>\n",
       "      <th>Fwd IAT Min</th>\n",
       "      <td>0</td>\n",
       "    </tr>\n",
       "    <tr>\n",
       "      <th>Fwd IAT Max</th>\n",
       "      <td>0</td>\n",
       "    </tr>\n",
       "    <tr>\n",
       "      <th>Fwd IAT Std</th>\n",
       "      <td>0</td>\n",
       "    </tr>\n",
       "    <tr>\n",
       "      <th>Fwd IAT Mean</th>\n",
       "      <td>0</td>\n",
       "    </tr>\n",
       "    <tr>\n",
       "      <th>Label</th>\n",
       "      <td>0</td>\n",
       "    </tr>\n",
       "  </tbody>\n",
       "</table>\n",
       "<p>84 rows × 1 columns</p>\n",
       "</div>"
      ],
      "text/plain": [
       "                 0\n",
       "Flow Bytes/s   602\n",
       "Flow IAT Mean  252\n",
       "Flow IAT Std   252\n",
       "Flow IAT Min   252\n",
       "Flow IAT Max   252\n",
       "...            ...\n",
       "Fwd IAT Min      0\n",
       "Fwd IAT Max      0\n",
       "Fwd IAT Std      0\n",
       "Fwd IAT Mean     0\n",
       "Label            0\n",
       "\n",
       "[84 rows x 1 columns]"
      ]
     },
     "execution_count": 5,
     "metadata": {},
     "output_type": "execute_result"
    }
   ],
   "source": [
    "pd.DataFrame(df.isnull().sum()).sort_values(ascending=0,by=[0])"
   ]
  },
  {
   "cell_type": "code",
   "execution_count": 6,
   "id": "5099a866",
   "metadata": {
    "execution": {
     "iopub.execute_input": "2023-02-24T21:11:03.696757Z",
     "iopub.status.busy": "2023-02-24T21:11:03.696268Z",
     "iopub.status.idle": "2023-02-24T21:11:07.279618Z",
     "shell.execute_reply": "2023-02-24T21:11:07.278265Z"
    },
    "papermill": {
     "duration": 3.598459,
     "end_time": "2023-02-24T21:11:07.282511",
     "exception": false,
     "start_time": "2023-02-24T21:11:03.684052",
     "status": "completed"
    },
    "tags": []
   },
   "outputs": [
    {
     "data": {
      "text/plain": [
       "(2098292, 84)"
      ]
     },
     "execution_count": 6,
     "metadata": {},
     "output_type": "execute_result"
    }
   ],
   "source": [
    "rows = df.loc[df['Flow Bytes/s'].isnull()]\n",
    "df.drop(labels=rows.index,axis=0,inplace=True)\n",
    "df.shape"
   ]
  },
  {
   "cell_type": "code",
   "execution_count": 7,
   "id": "377a13ed",
   "metadata": {
    "execution": {
     "iopub.execute_input": "2023-02-24T21:11:07.307867Z",
     "iopub.status.busy": "2023-02-24T21:11:07.306535Z",
     "iopub.status.idle": "2023-02-24T21:11:08.175216Z",
     "shell.execute_reply": "2023-02-24T21:11:08.173782Z"
    },
    "papermill": {
     "duration": 0.884789,
     "end_time": "2023-02-24T21:11:08.179038",
     "exception": false,
     "start_time": "2023-02-24T21:11:07.294249",
     "status": "completed"
    },
    "tags": []
   },
   "outputs": [
    {
     "data": {
      "text/html": [
       "<div>\n",
       "<style scoped>\n",
       "    .dataframe tbody tr th:only-of-type {\n",
       "        vertical-align: middle;\n",
       "    }\n",
       "\n",
       "    .dataframe tbody tr th {\n",
       "        vertical-align: top;\n",
       "    }\n",
       "\n",
       "    .dataframe thead th {\n",
       "        text-align: right;\n",
       "    }\n",
       "</style>\n",
       "<table border=\"1\" class=\"dataframe\">\n",
       "  <thead>\n",
       "    <tr style=\"text-align: right;\">\n",
       "      <th></th>\n",
       "      <th>0</th>\n",
       "    </tr>\n",
       "  </thead>\n",
       "  <tbody>\n",
       "    <tr>\n",
       "      <th>Flow IAT Mean</th>\n",
       "      <td>174</td>\n",
       "    </tr>\n",
       "    <tr>\n",
       "      <th>Flow IAT Min</th>\n",
       "      <td>174</td>\n",
       "    </tr>\n",
       "    <tr>\n",
       "      <th>Flow IAT Max</th>\n",
       "      <td>174</td>\n",
       "    </tr>\n",
       "    <tr>\n",
       "      <th>Flow IAT Std</th>\n",
       "      <td>174</td>\n",
       "    </tr>\n",
       "    <tr>\n",
       "      <th>Packet Length Variance</th>\n",
       "      <td>0</td>\n",
       "    </tr>\n",
       "    <tr>\n",
       "      <th>...</th>\n",
       "      <td>...</td>\n",
       "    </tr>\n",
       "    <tr>\n",
       "      <th>Fwd IAT Max</th>\n",
       "      <td>0</td>\n",
       "    </tr>\n",
       "    <tr>\n",
       "      <th>Fwd IAT Std</th>\n",
       "      <td>0</td>\n",
       "    </tr>\n",
       "    <tr>\n",
       "      <th>Fwd IAT Mean</th>\n",
       "      <td>0</td>\n",
       "    </tr>\n",
       "    <tr>\n",
       "      <th>Fwd IAT Total</th>\n",
       "      <td>0</td>\n",
       "    </tr>\n",
       "    <tr>\n",
       "      <th>Label</th>\n",
       "      <td>0</td>\n",
       "    </tr>\n",
       "  </tbody>\n",
       "</table>\n",
       "<p>84 rows × 1 columns</p>\n",
       "</div>"
      ],
      "text/plain": [
       "                          0\n",
       "Flow IAT Mean           174\n",
       "Flow IAT Min            174\n",
       "Flow IAT Max            174\n",
       "Flow IAT Std            174\n",
       "Packet Length Variance    0\n",
       "...                     ...\n",
       "Fwd IAT Max               0\n",
       "Fwd IAT Std               0\n",
       "Fwd IAT Mean              0\n",
       "Fwd IAT Total             0\n",
       "Label                     0\n",
       "\n",
       "[84 rows x 1 columns]"
      ]
     },
     "execution_count": 7,
     "metadata": {},
     "output_type": "execute_result"
    }
   ],
   "source": [
    "pd.DataFrame(df.isnull().sum()).sort_values(ascending=0,by=[0])"
   ]
  },
  {
   "cell_type": "code",
   "execution_count": 8,
   "id": "3cdc497a",
   "metadata": {
    "execution": {
     "iopub.execute_input": "2023-02-24T21:11:08.202475Z",
     "iopub.status.busy": "2023-02-24T21:11:08.201967Z",
     "iopub.status.idle": "2023-02-24T21:11:08.217679Z",
     "shell.execute_reply": "2023-02-24T21:11:08.216397Z"
    },
    "papermill": {
     "duration": 0.030619,
     "end_time": "2023-02-24T21:11:08.220562",
     "exception": false,
     "start_time": "2023-02-24T21:11:08.189943",
     "status": "completed"
    },
    "tags": []
   },
   "outputs": [
    {
     "data": {
      "text/plain": [
       "0    174\n",
       "Name: Flow Duration, dtype: int64"
      ]
     },
     "execution_count": 8,
     "metadata": {},
     "output_type": "execute_result"
    }
   ],
   "source": [
    "df[df['Flow IAT Mean'].isnull()]['Flow Duration'].value_counts()"
   ]
  },
  {
   "cell_type": "markdown",
   "id": "1785e33a",
   "metadata": {
    "papermill": {
     "duration": 0.009849,
     "end_time": "2023-02-24T21:11:08.241857",
     "exception": false,
     "start_time": "2023-02-24T21:11:08.232008",
     "status": "completed"
    },
    "tags": []
   },
   "source": [
    "Notiamo dunque che quando l'Inter Arrival Time (IAT, il tempo che intercorre tra l'arrivo di un pacchetto e il prossimo) è nullo è poiché il flow stesso è durato 0s"
   ]
  },
  {
   "cell_type": "markdown",
   "id": "5714a300",
   "metadata": {
    "papermill": {
     "duration": 0.009648,
     "end_time": "2023-02-24T21:11:08.261651",
     "exception": false,
     "start_time": "2023-02-24T21:11:08.252003",
     "status": "completed"
    },
    "tags": []
   },
   "source": [
    "Eliminiamo le righe che hanno valori all'infinito"
   ]
  },
  {
   "cell_type": "code",
   "execution_count": 9,
   "id": "20089909",
   "metadata": {
    "execution": {
     "iopub.execute_input": "2023-02-24T21:11:08.284417Z",
     "iopub.status.busy": "2023-02-24T21:11:08.283867Z",
     "iopub.status.idle": "2023-02-24T21:11:11.391614Z",
     "shell.execute_reply": "2023-02-24T21:11:11.389896Z"
    },
    "papermill": {
     "duration": 3.122949,
     "end_time": "2023-02-24T21:11:11.394811",
     "exception": false,
     "start_time": "2023-02-24T21:11:08.271862",
     "status": "completed"
    },
    "tags": []
   },
   "outputs": [
    {
     "name": "stderr",
     "output_type": "stream",
     "text": [
      "C:\\Users\\mirie\\AppData\\Local\\Temp\\ipykernel_16456\\854095094.py:1: FutureWarning: In a future version of pandas all arguments of DataFrame.any and Series.any will be keyword-only.\n",
      "  rows = df.loc[np.isinf(df.select_dtypes(exclude=object)).any(1)]\n"
     ]
    },
    {
     "data": {
      "text/plain": [
       "(2097341, 84)"
      ]
     },
     "execution_count": 9,
     "metadata": {},
     "output_type": "execute_result"
    }
   ],
   "source": [
    "rows = df.loc[np.isinf(df.select_dtypes(exclude=object)).any(1)]\n",
    "df.drop(labels=rows.index,axis=0,inplace=True)\n",
    "df.shape"
   ]
  },
  {
   "cell_type": "markdown",
   "id": "f8884cb9",
   "metadata": {
    "papermill": {
     "duration": 0.010826,
     "end_time": "2023-02-24T21:11:11.416401",
     "exception": false,
     "start_time": "2023-02-24T21:11:11.405575",
     "status": "completed"
    },
    "tags": []
   },
   "source": [
    "Il modello non deve imparare pattern in base agli IP e dunque eliminiamo le relative colonne (Flow ID è un'unione di altre colonne già presenti)."
   ]
  },
  {
   "cell_type": "code",
   "execution_count": 10,
   "id": "ab8d8334",
   "metadata": {
    "execution": {
     "iopub.execute_input": "2023-02-24T21:11:11.440213Z",
     "iopub.status.busy": "2023-02-24T21:11:11.439722Z",
     "iopub.status.idle": "2023-02-24T21:11:12.466633Z",
     "shell.execute_reply": "2023-02-24T21:11:12.465495Z"
    },
    "papermill": {
     "duration": 1.042227,
     "end_time": "2023-02-24T21:11:12.469471",
     "exception": false,
     "start_time": "2023-02-24T21:11:11.427244",
     "status": "completed"
    },
    "tags": []
   },
   "outputs": [],
   "source": [
    "df.drop([\"Flow ID\",\"Src IP\",\"Dst IP\",\"Timestamp\"],axis=1,inplace=True)"
   ]
  },
  {
   "cell_type": "markdown",
   "id": "6ffd65c8",
   "metadata": {
    "papermill": {
     "duration": 0.010178,
     "end_time": "2023-02-24T21:11:12.490794",
     "exception": false,
     "start_time": "2023-02-24T21:11:12.480616",
     "status": "completed"
    },
    "tags": []
   },
   "source": [
    "# Classificatore Binario (Benigno/Maligno)"
   ]
  },
  {
   "cell_type": "code",
   "execution_count": 11,
   "id": "8fa145d5",
   "metadata": {
    "execution": {
     "iopub.execute_input": "2023-02-24T21:11:12.513919Z",
     "iopub.status.busy": "2023-02-24T21:11:12.513393Z",
     "iopub.status.idle": "2023-02-24T21:11:12.655765Z",
     "shell.execute_reply": "2023-02-24T21:11:12.653857Z"
    },
    "papermill": {
     "duration": 0.157783,
     "end_time": "2023-02-24T21:11:12.658927",
     "exception": false,
     "start_time": "2023-02-24T21:11:12.501144",
     "status": "completed"
    },
    "tags": []
   },
   "outputs": [
    {
     "data": {
      "text/plain": [
       "BENIGN                                  1654877\n",
       "PortScan                                 158960\n",
       "DoS Hulk                                 158196\n",
       "DDoS                                      95026\n",
       "DoS GoldenEye                              7561\n",
       "DoS slowloris                              3991\n",
       "FTP-Patator                                3962\n",
       "DoS Slowhttptest - Attempted               3363\n",
       "SSH-Patator                                2977\n",
       "DoS Slowhttptest                           1737\n",
       "DoS slowloris - Attempted                  1698\n",
       "Bot - Attempted                            1466\n",
       "Web Attack - Brute Force - Attempted       1214\n",
       "Bot                                         738\n",
       "Web Attack - XSS - Attempted                650\n",
       "DoS Hulk - Attempted                        577\n",
       "Web Attack - Brute Force                    151\n",
       "DoS GoldenEye - Attempted                    80\n",
       "Infiltration                                 32\n",
       "Web Attack - XSS                             27\n",
       "Infiltration - Attempted                     16\n",
       "Web Attack - Sql Injection                   12\n",
       "FTP-Patator - Attempted                      11\n",
       "Heartbleed                                   11\n",
       "SSH-Patator - Attempted                       8\n",
       "Name: Label, dtype: int64"
      ]
     },
     "execution_count": 11,
     "metadata": {},
     "output_type": "execute_result"
    }
   ],
   "source": [
    "df[\"Label\"].value_counts()"
   ]
  },
  {
   "cell_type": "code",
   "execution_count": 12,
   "id": "59f53e02",
   "metadata": {
    "execution": {
     "iopub.execute_input": "2023-02-24T21:11:12.682770Z",
     "iopub.status.busy": "2023-02-24T21:11:12.682266Z",
     "iopub.status.idle": "2023-02-24T21:11:13.257817Z",
     "shell.execute_reply": "2023-02-24T21:11:13.255964Z"
    },
    "papermill": {
     "duration": 0.591815,
     "end_time": "2023-02-24T21:11:13.261148",
     "exception": false,
     "start_time": "2023-02-24T21:11:12.669333",
     "status": "completed"
    },
    "tags": []
   },
   "outputs": [
    {
     "data": {
      "text/plain": [
       "(442464, 80)"
      ]
     },
     "execution_count": 12,
     "metadata": {},
     "output_type": "execute_result"
    }
   ],
   "source": [
    "df_maligne = df[df[\"Label\"]!='BENIGN'].copy()\n",
    "df_maligne[\"Label\"] = \"MALIGN\"\n",
    "df_maligne.shape"
   ]
  },
  {
   "cell_type": "code",
   "execution_count": 13,
   "id": "e40bf748",
   "metadata": {
    "execution": {
     "iopub.execute_input": "2023-02-24T21:11:13.286339Z",
     "iopub.status.busy": "2023-02-24T21:11:13.285832Z",
     "iopub.status.idle": "2023-02-24T21:11:15.839022Z",
     "shell.execute_reply": "2023-02-24T21:11:15.837691Z"
    },
    "papermill": {
     "duration": 2.569397,
     "end_time": "2023-02-24T21:11:15.842053",
     "exception": false,
     "start_time": "2023-02-24T21:11:13.272656",
     "status": "completed"
    },
    "tags": []
   },
   "outputs": [
    {
     "data": {
      "text/plain": [
       "MALIGN    442464\n",
       "BENIGN    442464\n",
       "Name: Label, dtype: int64"
      ]
     },
     "execution_count": 13,
     "metadata": {},
     "output_type": "execute_result"
    }
   ],
   "source": [
    "df_bin = pd.concat([df_maligne, df[df[\"Label\"]=='BENIGN'].sample(len(df_maligne))])\n",
    "df_bin[\"Label\"].value_counts()"
   ]
  },
  {
   "cell_type": "code",
   "execution_count": 14,
   "id": "d952be1d",
   "metadata": {
    "execution": {
     "iopub.execute_input": "2023-02-24T21:11:15.866551Z",
     "iopub.status.busy": "2023-02-24T21:11:15.866028Z",
     "iopub.status.idle": "2023-02-24T21:11:19.658269Z",
     "shell.execute_reply": "2023-02-24T21:11:19.656363Z"
    },
    "papermill": {
     "duration": 3.808629,
     "end_time": "2023-02-24T21:11:19.661725",
     "exception": false,
     "start_time": "2023-02-24T21:11:15.853096",
     "status": "completed"
    },
    "tags": []
   },
   "outputs": [
    {
     "name": "stdout",
     "output_type": "stream",
     "text": [
      "(707942, 79) (707942,) (176986, 79) (176986,)\n"
     ]
    }
   ],
   "source": [
    "from sklearn.model_selection import train_test_split\n",
    "\n",
    "y = df_bin[\"Label\"]\n",
    "X = df_bin.drop(columns= \"Label\")\n",
    "X_train, X_test,  y_train, y_test = train_test_split(X,y, test_size=0.2)\n",
    "print(X_train.shape, y_train.shape, X_test.shape, y_test.shape)"
   ]
  },
  {
   "cell_type": "code",
   "execution_count": 15,
   "id": "7b082d88",
   "metadata": {
    "execution": {
     "iopub.execute_input": "2023-02-24T21:11:19.686942Z",
     "iopub.status.busy": "2023-02-24T21:11:19.686457Z",
     "iopub.status.idle": "2023-02-24T21:11:19.737200Z",
     "shell.execute_reply": "2023-02-24T21:11:19.736222Z"
    },
    "papermill": {
     "duration": 0.065987,
     "end_time": "2023-02-24T21:11:19.739572",
     "exception": false,
     "start_time": "2023-02-24T21:11:19.673585",
     "status": "completed"
    },
    "tags": []
   },
   "outputs": [
    {
     "data": {
      "text/plain": [
       "MALIGN    354158\n",
       "BENIGN    353784\n",
       "Name: Label, dtype: int64"
      ]
     },
     "execution_count": 15,
     "metadata": {},
     "output_type": "execute_result"
    }
   ],
   "source": [
    "y_train.value_counts()"
   ]
  },
  {
   "cell_type": "code",
   "execution_count": 16,
   "id": "3e150b1d",
   "metadata": {
    "execution": {
     "iopub.execute_input": "2023-02-24T21:11:19.765295Z",
     "iopub.status.busy": "2023-02-24T21:11:19.764846Z",
     "iopub.status.idle": "2023-02-24T21:12:21.041625Z",
     "shell.execute_reply": "2023-02-24T21:12:21.039487Z"
    },
    "papermill": {
     "duration": 61.305647,
     "end_time": "2023-02-24T21:12:21.056609",
     "exception": false,
     "start_time": "2023-02-24T21:11:19.750962",
     "status": "completed"
    },
    "tags": []
   },
   "outputs": [
    {
     "name": "stdout",
     "output_type": "stream",
     "text": [
      "0.9976551817657894\n"
     ]
    }
   ],
   "source": [
    "from sklearn.ensemble import RandomForestClassifier\n",
    "\n",
    "rnd_clf = RandomForestClassifier(n_estimators=10, random_state=42)\n",
    "rnd_clf.fit(X_train,y_train)\n",
    "\n",
    "y_pred = rnd_clf.predict(X_test)\n",
    "n_correct = sum(y_pred == y_test)\n",
    "print(n_correct / len(y_pred))"
   ]
  },
  {
   "cell_type": "code",
   "execution_count": 17,
   "id": "09a03610",
   "metadata": {
    "execution": {
     "iopub.execute_input": "2023-02-24T21:12:21.083048Z",
     "iopub.status.busy": "2023-02-24T21:12:21.081603Z",
     "iopub.status.idle": "2023-02-24T21:12:21.170769Z",
     "shell.execute_reply": "2023-02-24T21:12:21.169000Z"
    },
    "papermill": {
     "duration": 0.105786,
     "end_time": "2023-02-24T21:12:21.173777",
     "exception": false,
     "start_time": "2023-02-24T21:12:21.067991",
     "status": "completed"
    },
    "tags": []
   },
   "outputs": [
    {
     "data": {
      "text/plain": [
       "MALIGN    10021\n",
       "BENIGN     9979\n",
       "Name: Label, dtype: int64"
      ]
     },
     "execution_count": 17,
     "metadata": {},
     "output_type": "execute_result"
    }
   ],
   "source": [
    "df_rid = df_bin.sample(20000)\n",
    "df_rid['Label'].value_counts()"
   ]
  },
  {
   "cell_type": "code",
   "execution_count": 18,
   "id": "0bed7467",
   "metadata": {
    "execution": {
     "iopub.execute_input": "2023-02-24T21:12:21.200161Z",
     "iopub.status.busy": "2023-02-24T21:12:21.199699Z",
     "iopub.status.idle": "2023-02-24T21:12:21.591629Z",
     "shell.execute_reply": "2023-02-24T21:12:21.589861Z"
    },
    "papermill": {
     "duration": 0.408367,
     "end_time": "2023-02-24T21:12:21.594636",
     "exception": false,
     "start_time": "2023-02-24T21:12:21.186269",
     "status": "completed"
    },
    "tags": []
   },
   "outputs": [
    {
     "name": "stdout",
     "output_type": "stream",
     "text": [
      "0.99225\n"
     ]
    }
   ],
   "source": [
    "y_rid = df_rid[\"Label\"]\n",
    "X_rid = df_rid.drop(columns= \"Label\")\n",
    "X_train, X_test,  y_train, y_test = train_test_split(X_rid,y_rid, test_size=0.2)\n",
    "rnd_clf = RandomForestClassifier(n_estimators=10, random_state=42)\n",
    "rnd_clf.fit(X_train,y_train)\n",
    "y_pred = rnd_clf.predict(X_test)\n",
    "n_correct = sum(y_pred == y_test)\n",
    "print(n_correct / len(y_pred))"
   ]
  },
  {
   "cell_type": "markdown",
   "id": "c7323491",
   "metadata": {
    "papermill": {
     "duration": 0.011636,
     "end_time": "2023-02-24T21:12:21.617844",
     "exception": false,
     "start_time": "2023-02-24T21:12:21.606208",
     "status": "completed"
    },
    "tags": []
   },
   "source": [
    "Anche con solo 20000 istanze il modello è molto performante. Proviamo ad eliminare le colonne più importanti."
   ]
  },
  {
   "cell_type": "code",
   "execution_count": 19,
   "id": "e1fbef91",
   "metadata": {
    "execution": {
     "iopub.execute_input": "2023-02-24T21:12:21.644563Z",
     "iopub.status.busy": "2023-02-24T21:12:21.643325Z",
     "iopub.status.idle": "2023-02-24T21:12:21.662087Z",
     "shell.execute_reply": "2023-02-24T21:12:21.660391Z"
    },
    "papermill": {
     "duration": 0.035063,
     "end_time": "2023-02-24T21:12:21.664831",
     "exception": false,
     "start_time": "2023-02-24T21:12:21.629768",
     "status": "completed"
    },
    "tags": []
   },
   "outputs": [
    {
     "data": {
      "text/plain": [
       "[(0.2560529711461788, 'RST Flag Count'),\n",
       " (0.12685538903786614, 'Bwd Packet Length Min'),\n",
       " (0.051507517757506525, 'Bwd Packet Length Std'),\n",
       " (0.05050943370454469, 'ACK Flag Count'),\n",
       " (0.043845997006212466, 'Packet Length Std'),\n",
       " (0.04308117022091355, 'Protocol'),\n",
       " (0.04179123039586673, 'Bwd IAT Total'),\n",
       " (0.04099795202238847, 'Bwd Packet Length Max'),\n",
       " (0.04013316006171237, 'Packet Length Mean'),\n",
       " (0.027647941770408378, 'Total Bwd packets'),\n",
       " (0.025433865365688514, 'Fwd PSH Flags'),\n",
       " (0.0249335488425974, 'PSH Flag Count'),\n",
       " (0.018466713138044273, 'Bwd Header Length'),\n",
       " (0.017561789802964196, 'Bwd IAT Max'),\n",
       " (0.015820871154231378, 'Fwd IAT Max'),\n",
       " (0.01239645624138012, 'Packet Length Variance'),\n",
       " (0.012384232841619618, 'Bwd IAT Mean'),\n",
       " (0.01187269793151514, 'Dst Port'),\n",
       " (0.008923498199533903, 'Total Length of Fwd Packet'),\n",
       " (0.008644741310377003, 'Flow IAT Min'),\n",
       " (0.006797958408159008, 'Bwd Init Win Bytes'),\n",
       " (0.006256661666764586, 'Src Port'),\n",
       " (0.00587026540728203, 'Bwd Packets/s'),\n",
       " (0.005843673680857001, 'FWD Init Win Bytes'),\n",
       " (0.005474393198719288, 'Bwd Segment Size Avg'),\n",
       " (0.005328647679786487, 'Average Packet Size'),\n",
       " (0.0051405490349899835, 'Flow IAT Max'),\n",
       " (0.005026654999178372, 'Fwd Header Length'),\n",
       " (0.0048430957513722755, 'Subflow Fwd Packets'),\n",
       " (0.003823463765581156, 'Total Length of Bwd Packet'),\n",
       " (0.00381560629444341, 'Fwd Seg Size Min'),\n",
       " (0.0036007623323821548, 'SYN Flag Count'),\n",
       " (0.0034916581720788277, 'Fwd Packet Length Max'),\n",
       " (0.0034609202293252447, 'Flow IAT Mean'),\n",
       " (0.003382207732589722, 'Active Min'),\n",
       " (0.0032569412263667385, 'Fwd Packet Length Std'),\n",
       " (0.0030516170257292047, 'Active Mean'),\n",
       " (0.0027878771715265055, 'Subflow Bwd Bytes'),\n",
       " (0.0027169678843533577, 'Total Fwd Packet'),\n",
       " (0.0026241501768243074, 'Fwd Segment Size Avg'),\n",
       " (0.002538556218776826, 'Bwd Bulk Rate Avg'),\n",
       " (0.0022803498895839717, 'Bwd PSH Flags'),\n",
       " (0.002013771968663365, 'Fwd IAT Total'),\n",
       " (0.0019966999707503553, 'Flow Packets/s'),\n",
       " (0.0019274906548325955, 'Fwd IAT Min'),\n",
       " (0.001818971398636271, 'Fwd IAT Std'),\n",
       " (0.0018088408047434268, 'Fwd Packets/s'),\n",
       " (0.0017320137632641115, 'Bwd IAT Min'),\n",
       " (0.001611762199216403, 'FIN Flag Count'),\n",
       " (0.0015597462582810314, 'Bwd Packet Length Mean'),\n",
       " (0.001348116315250611, 'Bwd Packet/Bulk Avg'),\n",
       " (0.0012920391708558137, 'Flow Bytes/s'),\n",
       " (0.0012798403641156395, 'Idle Max'),\n",
       " (0.0011148786537743924, 'Fwd Act Data Pkts'),\n",
       " (0.0010895398980692577, 'Down/Up Ratio'),\n",
       " (0.0010168362385090737, 'Fwd Packet Length Mean'),\n",
       " (0.0009433967109584789, 'Flow Duration'),\n",
       " (0.0009370082300642672, 'Fwd IAT Mean'),\n",
       " (0.0009186247215532184, 'Fwd Packet/Bulk Avg'),\n",
       " (0.0009023574776352575, 'Active Max'),\n",
       " (0.0008659644408233906, 'Flow IAT Std'),\n",
       " (0.0007990223422340438, 'Packet Length Max'),\n",
       " (0.0005842660261284704, 'Bwd Bytes/Bulk Avg'),\n",
       " (0.0005511771251578364, 'Idle Mean'),\n",
       " (0.00049875322154271, 'Subflow Fwd Bytes'),\n",
       " (0.0004523297456018302, 'Idle Min'),\n",
       " (0.0002987376712185705, 'Bwd IAT Std'),\n",
       " (0.00016883839703514905, 'Fwd Packet Length Min'),\n",
       " (0.00012389803756390744, 'Fwd Bytes/Bulk Avg'),\n",
       " (4.332413297240531e-05, 'Active Std'),\n",
       " (2.485232704484089e-05, 'ECE Flag Count'),\n",
       " (2.7458352831122283e-06, 'Idle Std'),\n",
       " (0.0, 'URG Flag Count'),\n",
       " (0.0, 'Subflow Bwd Packets'),\n",
       " (0.0, 'Packet Length Min'),\n",
       " (0.0, 'Fwd URG Flags'),\n",
       " (0.0, 'Fwd Bulk Rate Avg'),\n",
       " (0.0, 'CWR Flag Count'),\n",
       " (0.0, 'Bwd URG Flags')]"
      ]
     },
     "execution_count": 19,
     "metadata": {},
     "output_type": "execute_result"
    }
   ],
   "source": [
    "fi = sorted(zip(rnd_clf.feature_importances_, list(X.columns)), reverse=True)\n",
    "fi"
   ]
  },
  {
   "cell_type": "code",
   "execution_count": 20,
   "id": "ef5c13d7",
   "metadata": {
    "execution": {
     "iopub.execute_input": "2023-02-24T21:12:21.690787Z",
     "iopub.status.busy": "2023-02-24T21:12:21.690248Z",
     "iopub.status.idle": "2023-02-24T21:12:21.698959Z",
     "shell.execute_reply": "2023-02-24T21:12:21.697905Z"
    },
    "papermill": {
     "duration": 0.024462,
     "end_time": "2023-02-24T21:12:21.701191",
     "exception": false,
     "start_time": "2023-02-24T21:12:21.676729",
     "status": "completed"
    },
    "tags": []
   },
   "outputs": [
    {
     "data": {
      "text/plain": [
       "[(0.00049875322154271, 'Subflow Fwd Bytes'),\n",
       " (0.0004523297456018302, 'Idle Min'),\n",
       " (0.0002987376712185705, 'Bwd IAT Std'),\n",
       " (0.00016883839703514905, 'Fwd Packet Length Min'),\n",
       " (0.00012389803756390744, 'Fwd Bytes/Bulk Avg'),\n",
       " (4.332413297240531e-05, 'Active Std'),\n",
       " (2.485232704484089e-05, 'ECE Flag Count'),\n",
       " (2.7458352831122283e-06, 'Idle Std'),\n",
       " (0.0, 'URG Flag Count'),\n",
       " (0.0, 'Subflow Bwd Packets')]"
      ]
     },
     "execution_count": 20,
     "metadata": {},
     "output_type": "execute_result"
    }
   ],
   "source": [
    "fi[-15:-5]"
   ]
  },
  {
   "cell_type": "code",
   "execution_count": 21,
   "id": "24c1ec93",
   "metadata": {
    "execution": {
     "iopub.execute_input": "2023-02-24T21:12:21.728151Z",
     "iopub.status.busy": "2023-02-24T21:12:21.727732Z",
     "iopub.status.idle": "2023-02-24T21:12:33.061741Z",
     "shell.execute_reply": "2023-02-24T21:12:33.060281Z"
    },
    "papermill": {
     "duration": 11.351445,
     "end_time": "2023-02-24T21:12:33.065011",
     "exception": false,
     "start_time": "2023-02-24T21:12:21.713566",
     "status": "completed"
    },
    "tags": []
   },
   "outputs": [
    {
     "name": "stdout",
     "output_type": "stream",
     "text": [
      "<class 'pandas.core.frame.DataFrame'>\n",
      "Int64Index: 884928 entries, 9594 to 280795\n",
      "Data columns (total 10 columns):\n",
      " #   Column                 Non-Null Count   Dtype  \n",
      "---  ------                 --------------   -----  \n",
      " 0   Fwd Packet Length Min  884928 non-null  float64\n",
      " 1   Bwd IAT Std            884928 non-null  float64\n",
      " 2   URG Flag Count         884928 non-null  int64  \n",
      " 3   ECE Flag Count         884928 non-null  int64  \n",
      " 4   Fwd Bytes/Bulk Avg     884928 non-null  int64  \n",
      " 5   Subflow Fwd Bytes      884928 non-null  int64  \n",
      " 6   Subflow Bwd Packets    884928 non-null  int64  \n",
      " 7   Active Std             884928 non-null  float64\n",
      " 8   Idle Std               884928 non-null  float64\n",
      " 9   Idle Min               884928 non-null  float64\n",
      "dtypes: float64(5), int64(5)\n",
      "memory usage: 74.3 MB\n"
     ]
    }
   ],
   "source": [
    "for _, col in fi[:-15]+fi[-5:]:\n",
    "    X = X.drop(col, axis=1)\n",
    "X.info()"
   ]
  },
  {
   "cell_type": "code",
   "execution_count": 22,
   "id": "f89fbac0",
   "metadata": {
    "execution": {
     "iopub.execute_input": "2023-02-24T21:12:33.092328Z",
     "iopub.status.busy": "2023-02-24T21:12:33.091849Z",
     "iopub.status.idle": "2023-02-24T21:12:56.977767Z",
     "shell.execute_reply": "2023-02-24T21:12:56.975065Z"
    },
    "papermill": {
     "duration": 23.903785,
     "end_time": "2023-02-24T21:12:56.981793",
     "exception": false,
     "start_time": "2023-02-24T21:12:33.078008",
     "status": "completed"
    },
    "tags": []
   },
   "outputs": [
    {
     "name": "stdout",
     "output_type": "stream",
     "text": [
      "0.947193563332693\n"
     ]
    }
   ],
   "source": [
    "X_train, X_test,  y_train, y_test = train_test_split(X,y, test_size=0.2)\n",
    "rnd_clf = RandomForestClassifier(n_estimators=10, random_state=42)\n",
    "rnd_clf.fit(X_train,y_train)\n",
    "y_pred = rnd_clf.predict(X_test)\n",
    "n_correct = sum(y_pred == y_test)\n",
    "print(n_correct / len(y_pred))"
   ]
  },
  {
   "cell_type": "markdown",
   "id": "5931b157",
   "metadata": {
    "papermill": {
     "duration": 0.013825,
     "end_time": "2023-02-24T21:12:57.011714",
     "exception": false,
     "start_time": "2023-02-24T21:12:56.997889",
     "status": "completed"
    },
    "tags": []
   },
   "source": [
    "Dal momento che anche con solo 10 colonne tra le meno importanti il rendimento del modello è molto elevato si può dedurre che il problema di distinguere tra una connesione benevola e una maligna è troppo semplice."
   ]
  },
  {
   "cell_type": "markdown",
   "id": "42d7d680",
   "metadata": {
    "papermill": {
     "duration": 0.011282,
     "end_time": "2023-02-24T21:12:57.034968",
     "exception": false,
     "start_time": "2023-02-24T21:12:57.023686",
     "status": "completed"
    },
    "tags": []
   },
   "source": [
    "# Under/Over Sampling"
   ]
  },
  {
   "cell_type": "markdown",
   "id": "475b83c0",
   "metadata": {
    "papermill": {
     "duration": 0.011208,
     "end_time": "2023-02-24T21:12:57.058035",
     "exception": false,
     "start_time": "2023-02-24T21:12:57.046827",
     "status": "completed"
    },
    "tags": []
   },
   "source": [
    "Procediamo ad effettuare un under sampling sulle tuple con Label Bening e successivamente un over sampling sulle restanti label cercando di raggrupparle sotto macro categorie per effettuare una classificazione multiclass"
   ]
  },
  {
   "cell_type": "code",
   "execution_count": 23,
   "id": "d168ab03",
   "metadata": {
    "execution": {
     "iopub.execute_input": "2023-02-24T21:12:57.083798Z",
     "iopub.status.busy": "2023-02-24T21:12:57.083304Z",
     "iopub.status.idle": "2023-02-24T21:12:57.226709Z",
     "shell.execute_reply": "2023-02-24T21:12:57.225730Z"
    },
    "papermill": {
     "duration": 0.15931,
     "end_time": "2023-02-24T21:12:57.229191",
     "exception": false,
     "start_time": "2023-02-24T21:12:57.069881",
     "status": "completed"
    },
    "tags": []
   },
   "outputs": [
    {
     "data": {
      "text/plain": [
       "BENIGN                                  1654877\n",
       "PortScan                                 158960\n",
       "DoS Hulk                                 158196\n",
       "DDoS                                      95026\n",
       "DoS GoldenEye                              7561\n",
       "DoS slowloris                              3991\n",
       "FTP-Patator                                3962\n",
       "DoS Slowhttptest - Attempted               3363\n",
       "SSH-Patator                                2977\n",
       "DoS Slowhttptest                           1737\n",
       "DoS slowloris - Attempted                  1698\n",
       "Bot - Attempted                            1466\n",
       "Web Attack - Brute Force - Attempted       1214\n",
       "Bot                                         738\n",
       "Web Attack - XSS - Attempted                650\n",
       "DoS Hulk - Attempted                        577\n",
       "Web Attack - Brute Force                    151\n",
       "DoS GoldenEye - Attempted                    80\n",
       "Infiltration                                 32\n",
       "Web Attack - XSS                             27\n",
       "Infiltration - Attempted                     16\n",
       "Web Attack - Sql Injection                   12\n",
       "FTP-Patator - Attempted                      11\n",
       "Heartbleed                                   11\n",
       "SSH-Patator - Attempted                       8\n",
       "Name: Label, dtype: int64"
      ]
     },
     "execution_count": 23,
     "metadata": {},
     "output_type": "execute_result"
    }
   ],
   "source": [
    "df[\"Label\"].value_counts()"
   ]
  },
  {
   "cell_type": "markdown",
   "id": "ede4b005",
   "metadata": {
    "papermill": {
     "duration": 0.011422,
     "end_time": "2023-02-24T21:12:57.252575",
     "exception": false,
     "start_time": "2023-02-24T21:12:57.241153",
     "status": "completed"
    },
    "tags": []
   },
   "source": [
    "Iniziamo a fare un test selezionando la classe BENIGN, PortScan, Dos Hulk, DDos"
   ]
  },
  {
   "cell_type": "code",
   "execution_count": 24,
   "id": "1dcbcdee",
   "metadata": {
    "execution": {
     "iopub.execute_input": "2023-02-24T21:12:57.279980Z",
     "iopub.status.busy": "2023-02-24T21:12:57.279325Z",
     "iopub.status.idle": "2023-02-24T21:12:58.925041Z",
     "shell.execute_reply": "2023-02-24T21:12:58.923516Z"
    },
    "papermill": {
     "duration": 1.66356,
     "end_time": "2023-02-24T21:12:58.928401",
     "exception": false,
     "start_time": "2023-02-24T21:12:57.264841",
     "status": "completed"
    },
    "tags": []
   },
   "outputs": [],
   "source": [
    "df_topC = df[(df[\"Label\"] == \"BENIGN\") | (df[\"Label\"] == \"PortScan\") | (df[\"Label\"] == \"DoS Hulk\") | (df[\"Label\"] == \"DDoS\")]"
   ]
  },
  {
   "cell_type": "code",
   "execution_count": 25,
   "id": "89675f39",
   "metadata": {
    "execution": {
     "iopub.execute_input": "2023-02-24T21:12:58.955020Z",
     "iopub.status.busy": "2023-02-24T21:12:58.954555Z",
     "iopub.status.idle": "2023-02-24T21:12:59.096278Z",
     "shell.execute_reply": "2023-02-24T21:12:59.095047Z"
    },
    "papermill": {
     "duration": 0.157722,
     "end_time": "2023-02-24T21:12:59.098644",
     "exception": false,
     "start_time": "2023-02-24T21:12:58.940922",
     "status": "completed"
    },
    "tags": []
   },
   "outputs": [
    {
     "data": {
      "text/plain": [
       "BENIGN      1654877\n",
       "PortScan     158960\n",
       "DoS Hulk     158196\n",
       "DDoS          95026\n",
       "Name: Label, dtype: int64"
      ]
     },
     "execution_count": 25,
     "metadata": {},
     "output_type": "execute_result"
    }
   ],
   "source": [
    "df_topC[\"Label\"].value_counts()"
   ]
  },
  {
   "cell_type": "markdown",
   "id": "c466d19e",
   "metadata": {
    "papermill": {
     "duration": 0.011571,
     "end_time": "2023-02-24T21:12:59.121919",
     "exception": false,
     "start_time": "2023-02-24T21:12:59.110348",
     "status": "completed"
    },
    "tags": []
   },
   "source": [
    "Effettuiamo un under sampling di BENIGN a circa il numero di tuple di PortScan"
   ]
  },
  {
   "cell_type": "code",
   "execution_count": 26,
   "id": "ca9be49c",
   "metadata": {
    "execution": {
     "iopub.execute_input": "2023-02-24T21:12:59.148058Z",
     "iopub.status.busy": "2023-02-24T21:12:59.147554Z",
     "iopub.status.idle": "2023-02-24T21:13:04.684896Z",
     "shell.execute_reply": "2023-02-24T21:13:04.683121Z"
    },
    "papermill": {
     "duration": 5.554287,
     "end_time": "2023-02-24T21:13:04.688064",
     "exception": false,
     "start_time": "2023-02-24T21:12:59.133777",
     "status": "completed"
    },
    "tags": []
   },
   "outputs": [],
   "source": [
    "y = df_topC[\"Label\"]\n",
    "X = df_topC.drop(columns= \"Label\")\n",
    "X_train, X_test, y_train, y_test = train_test_split(X, y, test_size=0.2, random_state=100)"
   ]
  },
  {
   "cell_type": "code",
   "execution_count": 27,
   "id": "261fb9fb",
   "metadata": {
    "execution": {
     "iopub.execute_input": "2023-02-24T21:13:04.715250Z",
     "iopub.status.busy": "2023-02-24T21:13:04.714755Z",
     "iopub.status.idle": "2023-02-24T21:13:05.100197Z",
     "shell.execute_reply": "2023-02-24T21:13:05.098789Z"
    },
    "papermill": {
     "duration": 0.402666,
     "end_time": "2023-02-24T21:13:05.102780",
     "exception": false,
     "start_time": "2023-02-24T21:13:04.700114",
     "status": "completed"
    },
    "tags": []
   },
   "outputs": [
    {
     "data": {
      "image/png": "[encoded data removed]",
      "text/plain": [
       "<Figure size 640x480 with 1 Axes>"
      ]
     },
     "metadata": {},
     "output_type": "display_data"
    }
   ],
   "source": [
    "import matplotlib.pyplot as plt\n",
    "count = y_train.value_counts()\n",
    "count.plot.bar()\n",
    "plt.ylabel('Number of records')\n",
    "plt.xlabel('Target Class')\n",
    "plt.show()"
   ]
  },
  {
   "cell_type": "code",
   "execution_count": 28,
   "id": "d3db18cb",
   "metadata": {
    "execution": {
     "iopub.execute_input": "2023-02-24T21:13:05.131605Z",
     "iopub.status.busy": "2023-02-24T21:13:05.131128Z",
     "iopub.status.idle": "2023-02-24T21:48:41.198695Z",
     "shell.execute_reply": "2023-02-24T21:48:41.197279Z"
    },
    "papermill": {
     "duration": 2136.085775,
     "end_time": "2023-02-24T21:48:41.201974",
     "exception": false,
     "start_time": "2023-02-24T21:13:05.116199",
     "status": "completed"
    },
    "tags": []
   },
   "outputs": [],
   "source": [
    "from imblearn.under_sampling import NearMiss\n",
    "n_samples = len(y_train[y_train==\"PortScan\"])\n",
    "cc = NearMiss(sampling_strategy={\"BENIGN\":127000},version=1)\n",
    "X_under, y_under = cc.fit_resample(X_train, y_train)"
   ]
  },
  {
   "cell_type": "code",
   "execution_count": 29,
   "id": "0a551a5d",
   "metadata": {
    "execution": {
     "iopub.execute_input": "2023-02-24T21:48:41.229854Z",
     "iopub.status.busy": "2023-02-24T21:48:41.229364Z",
     "iopub.status.idle": "2023-02-24T21:48:41.263878Z",
     "shell.execute_reply": "2023-02-24T21:48:41.262674Z"
    },
    "papermill": {
     "duration": 0.05119,
     "end_time": "2023-02-24T21:48:41.266411",
     "exception": false,
     "start_time": "2023-02-24T21:48:41.215221",
     "status": "completed"
    },
    "tags": []
   },
   "outputs": [
    {
     "data": {
      "text/plain": [
       "PortScan    127122\n",
       "BENIGN      127000\n",
       "DoS Hulk    126542\n",
       "DDoS         75993\n",
       "Name: Label, dtype: int64"
      ]
     },
     "execution_count": 29,
     "metadata": {},
     "output_type": "execute_result"
    }
   ],
   "source": [
    "y_under.value_counts()"
   ]
  },
  {
   "cell_type": "code",
   "execution_count": 30,
   "id": "79c754f7",
   "metadata": {},
   "outputs": [],
   "source": [
    "'''\n",
    "from sklearn.multiclass import OneVsRestClassifier\n",
    "from sklearn.svm import LinearSVC\n",
    "\n",
    "orc = OneVsRestClassifier(LinearSVC(random_state=0))\n",
    "orc.fit(X_under,y_under)\n",
    "'''\n",
    "\n",
    "rnd_clf = RandomForestClassifier(random_state=42,n_jobs=-1)\n",
    "rnd_clf.fit(X_under,y_under)\n",
    "y_pred = rnd_clf.predict(X_test)\n"
   ]
  },
  {
   "cell_type": "code",
   "execution_count": 31,
   "id": "d7ad1112",
   "metadata": {},
   "outputs": [
    {
     "name": "stdout",
     "output_type": "stream",
     "text": [
      "              precision    recall  f1-score   support\n",
      "\n",
      "      BENIGN       1.00      0.44      0.61    330887\n",
      "        DDoS       0.98      1.00      0.99     19033\n",
      "    DoS Hulk       0.67      1.00      0.80     31654\n",
      "    PortScan       0.16      1.00      0.27     31838\n",
      "\n",
      "    accuracy                           0.55    413412\n",
      "   macro avg       0.70      0.86      0.67    413412\n",
      "weighted avg       0.91      0.55      0.62    413412\n",
      "\n"
     ]
    }
   ],
   "source": [
    "from sklearn.metrics import classification_report\n",
    "\n",
    "print(classification_report(y_test,y_pred))"
   ]
  },
  {
   "cell_type": "code",
   "execution_count": 32,
   "id": "578495e8",
   "metadata": {},
   "outputs": [
    {
     "name": "stderr",
     "output_type": "stream",
     "text": [
      "c:\\Users\\mirie\\AppData\\Local\\Programs\\Python\\Python310\\lib\\site-packages\\imblearn\\over_sampling\\_smote\\base.py:336: FutureWarning: The parameter `n_jobs` has been deprecated in 0.10 and will be removed in 0.12. You can pass an nearest neighbors estimator where `n_jobs` is already set instead.\n",
      "  warnings.warn(\n"
     ]
    }
   ],
   "source": [
    "from imblearn.over_sampling import SMOTE\n",
    "sm = SMOTE(n_jobs=-1)\n",
    "X_under, y_under = sm.fit_resample(X_under, y_under)"
   ]
  },
  {
   "cell_type": "code",
   "execution_count": 33,
   "id": "31a67a8b",
   "metadata": {},
   "outputs": [
    {
     "data": {
      "text/plain": [
       "BENIGN      127122\n",
       "DDoS        127122\n",
       "DoS Hulk    127122\n",
       "PortScan    127122\n",
       "Name: Label, dtype: int64"
      ]
     },
     "execution_count": 33,
     "metadata": {},
     "output_type": "execute_result"
    }
   ],
   "source": [
    "y_under.value_counts()"
   ]
  },
  {
   "cell_type": "code",
   "execution_count": 34,
   "id": "11a07b90",
   "metadata": {},
   "outputs": [
    {
     "name": "stdout",
     "output_type": "stream",
     "text": [
      "              precision    recall  f1-score   support\n",
      "\n",
      "      BENIGN       1.00      0.44      0.61    330887\n",
      "        DDoS       0.98      1.00      0.99     19033\n",
      "    DoS Hulk       0.61      1.00      0.76     31654\n",
      "    PortScan       0.16      1.00      0.28     31838\n",
      "\n",
      "    accuracy                           0.55    413412\n",
      "   macro avg       0.69      0.86      0.66    413412\n",
      "weighted avg       0.90      0.55      0.61    413412\n",
      "\n"
     ]
    }
   ],
   "source": [
    "rnd_clf.fit(X_under,y_under)\n",
    "y_pred = rnd_clf.predict(X_test)\n",
    "print(classification_report(y_test,y_pred))"
   ]
  },
  {
   "cell_type": "code",
   "execution_count": 35,
   "id": "512687c5",
   "metadata": {},
   "outputs": [],
   "source": [
    "from sklearn.neighbors import KNeighborsClassifier\n",
    "neigh = KNeighborsClassifier(n_neighbors=3,n_jobs=-1)\n",
    "\n",
    "neigh.fit(X_under,y_under)\n",
    "y_pred = neigh.predict(X_test)"
   ]
  },
  {
   "cell_type": "code",
   "execution_count": 36,
   "id": "b3f9a210",
   "metadata": {},
   "outputs": [
    {
     "name": "stdout",
     "output_type": "stream",
     "text": [
      "              precision    recall  f1-score   support\n",
      "\n",
      "      BENIGN       1.00      0.48      0.65    330887\n",
      "        DDoS       0.54      0.99      0.70     19033\n",
      "    DoS Hulk       0.22      1.00      0.37     31654\n",
      "    PortScan       0.40      1.00      0.58     31838\n",
      "\n",
      "    accuracy                           0.58    413412\n",
      "   macro avg       0.54      0.87      0.57    413412\n",
      "weighted avg       0.87      0.58      0.62    413412\n",
      "\n"
     ]
    }
   ],
   "source": [
    "print(classification_report(y_test,y_pred))"
   ]
  },
  {
   "attachments": {},
   "cell_type": "markdown",
   "id": "ff2cdc9a",
   "metadata": {
    "tags": [
     "tuningModelli"
    ]
   },
   "source": [
    "# TUNING MODELLI"
   ]
  },
  {
   "attachments": {},
   "cell_type": "markdown",
   "id": "ca4e9f41",
   "metadata": {},
   "source": [
    "## GAUSSIAN"
   ]
  },
  {
   "cell_type": "code",
   "execution_count": 40,
   "id": "a1e75610",
   "metadata": {},
   "outputs": [],
   "source": [
    "from sklearn.naive_bayes import GaussianNB\n",
    "from sklearn.model_selection import GridSearchCV\n",
    "gnb = GaussianNB()\n",
    "\n",
    "gnb.fit(X_under,y_under)\n",
    "\n",
    "y_pred = gnb.predict(X_test)"
   ]
  },
  {
   "cell_type": "code",
   "execution_count": 38,
   "id": "ae9032c0",
   "metadata": {},
   "outputs": [
    {
     "name": "stdout",
     "output_type": "stream",
     "text": [
      "              precision    recall  f1-score   support\n",
      "\n",
      "      BENIGN       1.00      0.38      0.55    330887\n",
      "        DDoS       0.42      0.99      0.59     19033\n",
      "    DoS Hulk       0.35      1.00      0.52     31654\n",
      "    PortScan       0.21      1.00      0.34     31838\n",
      "\n",
      "    accuracy                           0.50    413412\n",
      "   macro avg       0.49      0.84      0.50    413412\n",
      "weighted avg       0.86      0.50      0.53    413412\n",
      "\n"
     ]
    }
   ],
   "source": [
    "print(classification_report(y_test,y_pred))"
   ]
  },
  {
   "cell_type": "code",
   "execution_count": 46,
   "id": "8dcb7527",
   "metadata": {},
   "outputs": [
    {
     "name": "stdout",
     "output_type": "stream",
     "text": [
      "Fitting 10 folds for each of 50 candidates, totalling 500 fits\n"
     ]
    },
    {
     "data": {
      "text/html": [
       "<style>#sk-container-id-2 {color: black;background-color: white;}#sk-container-id-2 pre{padding: 0;}#sk-container-id-2 div.sk-toggleable {background-color: white;}#sk-container-id-2 label.sk-toggleable__label {cursor: pointer;display: block;width: 100%;margin-bottom: 0;padding: 0.3em;box-sizing: border-box;text-align: center;}#sk-container-id-2 label.sk-toggleable__label-arrow:before {content: \"▸\";float: left;margin-right: 0.25em;color: #696969;}#sk-container-id-2 label.sk-toggleable__label-arrow:hover:before {color: black;}#sk-container-id-2 div.sk-estimator:hover label.sk-toggleable__label-arrow:before {color: black;}#sk-container-id-2 div.sk-toggleable__content {max-height: 0;max-width: 0;overflow: hidden;text-align: left;background-color: #f0f8ff;}#sk-container-id-2 div.sk-toggleable__content pre {margin: 0.2em;color: black;border-radius: 0.25em;background-color: #f0f8ff;}#sk-container-id-2 input.sk-toggleable__control:checked~div.sk-toggleable__content {max-height: 200px;max-width: 100%;overflow: auto;}#sk-container-id-2 input.sk-toggleable__control:checked~label.sk-toggleable__label-arrow:before {content: \"▾\";}#sk-container-id-2 div.sk-estimator input.sk-toggleable__control:checked~label.sk-toggleable__label {background-color: #d4ebff;}#sk-container-id-2 div.sk-label input.sk-toggleable__control:checked~label.sk-toggleable__label {background-color: #d4ebff;}#sk-container-id-2 input.sk-hidden--visually {border: 0;clip: rect(1px 1px 1px 1px);clip: rect(1px, 1px, 1px, 1px);height: 1px;margin: -1px;overflow: hidden;padding: 0;position: absolute;width: 1px;}#sk-container-id-2 div.sk-estimator {font-family: monospace;background-color: #f0f8ff;border: 1px dotted black;border-radius: 0.25em;box-sizing: border-box;margin-bottom: 0.5em;}#sk-container-id-2 div.sk-estimator:hover {background-color: #d4ebff;}#sk-container-id-2 div.sk-parallel-item::after {content: \"\";width: 100%;border-bottom: 1px solid gray;flex-grow: 1;}#sk-container-id-2 div.sk-label:hover label.sk-toggleable__label {background-color: #d4ebff;}#sk-container-id-2 div.sk-serial::before {content: \"\";position: absolute;border-left: 1px solid gray;box-sizing: border-box;top: 0;bottom: 0;left: 50%;z-index: 0;}#sk-container-id-2 div.sk-serial {display: flex;flex-direction: column;align-items: center;background-color: white;padding-right: 0.2em;padding-left: 0.2em;position: relative;}#sk-container-id-2 div.sk-item {position: relative;z-index: 1;}#sk-container-id-2 div.sk-parallel {display: flex;align-items: stretch;justify-content: center;background-color: white;position: relative;}#sk-container-id-2 div.sk-item::before, #sk-container-id-2 div.sk-parallel-item::before {content: \"\";position: absolute;border-left: 1px solid gray;box-sizing: border-box;top: 0;bottom: 0;left: 50%;z-index: -1;}#sk-container-id-2 div.sk-parallel-item {display: flex;flex-direction: column;z-index: 1;position: relative;background-color: white;}#sk-container-id-2 div.sk-parallel-item:first-child::after {align-self: flex-end;width: 50%;}#sk-container-id-2 div.sk-parallel-item:last-child::after {align-self: flex-start;width: 50%;}#sk-container-id-2 div.sk-parallel-item:only-child::after {width: 0;}#sk-container-id-2 div.sk-dashed-wrapped {border: 1px dashed gray;margin: 0 0.4em 0.5em 0.4em;box-sizing: border-box;padding-bottom: 0.4em;background-color: white;}#sk-container-id-2 div.sk-label label {font-family: monospace;font-weight: bold;display: inline-block;line-height: 1.2em;}#sk-container-id-2 div.sk-label-container {text-align: center;}#sk-container-id-2 div.sk-container {/* jupyter's `normalize.less` sets `[hidden] { display: none; }` but bootstrap.min.css set `[hidden] { display: none !important; }` so we also need the `!important` here to be able to override the default hidden behavior on the sphinx rendered scikit-learn.org. See: https://github.com/scikit-learn/scikit-learn/issues/21755 */display: inline-block !important;position: relative;}#sk-container-id-2 div.sk-text-repr-fallback {display: none;}</style><div id=\"sk-container-id-2\" class=\"sk-top-container\"><div class=\"sk-text-repr-fallback\"><pre>GaussianNB()</pre><b>In a Jupyter environment, please rerun this cell to show the HTML representation or trust the notebook. <br />On GitHub, the HTML representation is unable to render, please try loading this page with nbviewer.org.</b></div><div class=\"sk-container\" hidden><div class=\"sk-item\"><div class=\"sk-estimator sk-toggleable\"><input class=\"sk-toggleable__control sk-hidden--visually\" id=\"sk-estimator-id-2\" type=\"checkbox\" checked><label for=\"sk-estimator-id-2\" class=\"sk-toggleable__label sk-toggleable__label-arrow\">GaussianNB</label><div class=\"sk-toggleable__content\"><pre>GaussianNB()</pre></div></div></div></div></div>"
      ],
      "text/plain": [
       "GaussianNB()"
      ]
     },
     "execution_count": 46,
     "metadata": {},
     "output_type": "execute_result"
    }
   ],
   "source": [
    "param_grid_nb = {\n",
    "    'var_smoothing': np.logspace(0,-9, num=50)\n",
    "}\n",
    "nbModel_grid = GridSearchCV(estimator=GaussianNB(), param_grid=param_grid_nb,scoring='f1_macro', verbose=3, cv=10, n_jobs=-1)\n",
    "nbModel_grid.fit(X_under, y_under)\n",
    "\n",
    "nbModel_grid.best_estimator_"
   ]
  },
  {
   "cell_type": "code",
   "execution_count": 47,
   "id": "b73ffa67",
   "metadata": {},
   "outputs": [
    {
     "data": {
      "text/plain": [
       "{'var_smoothing': 1e-09}"
      ]
     },
     "execution_count": 47,
     "metadata": {},
     "output_type": "execute_result"
    }
   ],
   "source": [
    "nbModel_grid.best_params_"
   ]
  },
  {
   "attachments": {},
   "cell_type": "markdown",
   "id": "7a8aa976",
   "metadata": {},
   "source": [
    "## SGDC"
   ]
  },
  {
   "cell_type": "code",
   "execution_count": 61,
   "id": "8dbc4c80",
   "metadata": {},
   "outputs": [],
   "source": [
    "from sklearn.linear_model import SGDClassifier\n",
    "sgd = SGDClassifier(max_iter=3000,random_state=32,tol=1e-10,n_jobs=-1)\n",
    "\n",
    "sgd.fit(X_under,y_under)\n",
    "\n",
    "y_pred = sgd.predict(X_test)"
   ]
  },
  {
   "cell_type": "code",
   "execution_count": 62,
   "id": "61624ebc",
   "metadata": {},
   "outputs": [
    {
     "name": "stdout",
     "output_type": "stream",
     "text": [
      "              precision    recall  f1-score   support\n",
      "\n",
      "      BENIGN       1.00      0.40      0.57    330887\n",
      "        DDoS       0.49      0.95      0.65     19033\n",
      "    DoS Hulk       0.24      0.97      0.38     31654\n",
      "    PortScan       0.28      1.00      0.44     31838\n",
      "\n",
      "    accuracy                           0.52    413412\n",
      "   macro avg       0.50      0.83      0.51    413412\n",
      "weighted avg       0.86      0.52      0.55    413412\n",
      "\n"
     ]
    }
   ],
   "source": [
    "print(classification_report(y_test,y_pred))"
   ]
  },
  {
   "cell_type": "code",
   "execution_count": 64,
   "id": "6807ce8d",
   "metadata": {},
   "outputs": [
    {
     "name": "stdout",
     "output_type": "stream",
     "text": [
      "Fitting 5 folds for each of 30 candidates, totalling 150 fits\n"
     ]
    }
   ],
   "source": [
    "sgdc_params = {\n",
    "    'loss': ['hinge','log_loss','squared_hinge'],\n",
    "    'penalty':['elasticnet'],\n",
    "    'alpha':np.logspace(-4, 4, 10)\n",
    "}\n",
    "\n",
    "sgdc_model = GridSearchCV(SGDClassifier(random_state=32),param_grid=sgdc_params,scoring='f1_macro',verbose=1, n_jobs=-1)\n",
    "\n",
    "sgdc_model.fit(X_under,y_under)\n",
    "\n",
    "sgdc_model.best_estimator_"
   ]
  },
  {
   "attachments": {},
   "cell_type": "markdown",
   "id": "629f6943",
   "metadata": {},
   "source": [
    "## KNEGRIBORS"
   ]
  },
  {
   "cell_type": "code",
   "execution_count": 38,
   "id": "aff0b77a",
   "metadata": {},
   "outputs": [
    {
     "name": "stdout",
     "output_type": "stream",
     "text": [
      "ciao\n"
     ]
    }
   ],
   "source": [
    "neigh_imprv = KNeighborsClassifier(n_jobs=-1)\n",
    "\n",
    "\n",
    "k_range = list(range(1, 10))\n",
    "param_grid = dict(n_neighbors=k_range)\n",
    "\n",
    "score = ['accuracy' ,'f1_macro']\n",
    "\n",
    "knn_model = GridSearchCV (neigh_imprv,param_grid,scoring=score,n_jobs=-1,refit='f1_macro')\n",
    "print(\"ciao\")\n",
    "knn_model.fit(X_under,y_under)"
   ]
  },
  {
   "cell_type": "code",
   "execution_count": 50,
   "id": "f1b48d0d",
   "metadata": {},
   "outputs": [
    {
     "name": "stdout",
     "output_type": "stream",
     "text": [
      " K value with the best accuracy score:\n"
     ]
    },
    {
     "ename": "AttributeError",
     "evalue": "'GridSearchCV' object has no attribute 'best_params_'",
     "output_type": "error",
     "traceback": [
      "\u001b[1;31m---------------------------------------------------------------------------\u001b[0m",
      "\u001b[1;31mAttributeError\u001b[0m                            Traceback (most recent call last)",
      "Cell \u001b[1;32mIn[50], line 2\u001b[0m\n\u001b[0;32m      1\u001b[0m \u001b[39mprint\u001b[39m(\u001b[39m\"\u001b[39m\u001b[39m K value with the best accuracy score:\u001b[39m\u001b[39m\"\u001b[39m)\n\u001b[1;32m----> 2\u001b[0m knn_model\u001b[39m.\u001b[39;49mbest_params_ , knn_model\u001b[39m.\u001b[39mbest_score_, knn_model\u001b[39m.\u001b[39mbest_index_\n",
      "\u001b[1;31mAttributeError\u001b[0m: 'GridSearchCV' object has no attribute 'best_params_'"
     ]
    }
   ],
   "source": [
    "print(\" K value with the best accuracy score:\")\n",
    "knn_model.best_params_ , knn_model.best_score_, knn_model.best_index_"
   ]
  }
 ],
 "metadata": {
  "kernelspec": {
   "display_name": "Python 3",
   "language": "python",
   "name": "python3"
  },
  "language_info": {
   "codemirror_mode": {
    "name": "ipython",
    "version": 3
   },
   "file_extension": ".py",
   "mimetype": "text/x-python",
   "name": "python",
   "nbconvert_exporter": "python",
   "pygments_lexer": "ipython3",
   "version": "3.10.0"
  },
  "papermill": {
   "default_parameters": {},
   "duration": 2319.429668,
   "end_time": "2023-02-24T21:48:42.510246",
   "environment_variables": {},
   "exception": null,
   "input_path": "__notebook__.ipynb",
   "output_path": "__notebook__.ipynb",
   "parameters": {},
   "start_time": "2023-02-24T21:10:03.080578",
   "version": "2.3.4"
  },
  "vscode": {
   "interpreter": {
    "hash": "b323625c1ed716612379b78d213690fb00932e5b7f08ac805d5dc3a86801cc7b"
   }
  }
 },
 "nbformat": 4,
 "nbformat_minor": 5
}
