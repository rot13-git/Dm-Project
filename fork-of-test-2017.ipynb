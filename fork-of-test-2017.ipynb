{
 "cells": [
  {
   "cell_type": "code",
   "execution_count": 1,
   "id": "283057f9",
   "metadata": {
    "_cell_guid": "b1076dfc-b9ad-4769-8c92-a6c4dae69d19",
    "_uuid": "8f2839f25d086af736a60e9eeb907d3b93b6e0e5",
    "execution": {
     "iopub.execute_input": "2023-02-24T21:10:15.454379Z",
     "iopub.status.busy": "2023-02-24T21:10:15.453727Z",
     "iopub.status.idle": "2023-02-24T21:10:15.473788Z",
     "shell.execute_reply": "2023-02-24T21:10:15.471970Z"
    },
    "papermill": {
     "duration": 0.036955,
     "end_time": "2023-02-24T21:10:15.477599",
     "exception": false,
     "start_time": "2023-02-24T21:10:15.440644",
     "status": "completed"
    },
    "tags": []
   },
   "outputs": [],
   "source": [
    "# This Python 3 environment comes with many helpful analytics libraries installed\n",
    "# It is defined by the kaggle/python Docker image: https://github.com/kaggle/docker-python\n",
    "# For example, here's several helpful packages to load\n",
    "\n",
    "import numpy as np # linear algebra\n",
    "import pandas as pd # data processing, CSV file I/O (e.g. pd.read_csv)\n",
    "\n",
    "# Input data files are available in the read-only \"../input/\" directory\n",
    "# For example, running this (by clicking run or pressing Shift+Enter) will list all files under the input directory\n",
    "\n",
    "import os\n",
    "for dirname, _, filenames in os.walk('/kaggle/input'):\n",
    "    for filename in filenames:\n",
    "        print(os.path.join(dirname, filename))\n",
    "\n",
    "# You can write up to 20GB to the current directory (/kaggle/working/) that gets preserved as output when you create a version using \"Save & Run All\" \n",
    "# You can also write temporary files to /kaggle/temp/, but they won't be saved outside of the current session"
   ]
  },
  {
   "cell_type": "markdown",
   "id": "e44fa41d",
   "metadata": {
    "papermill": {
     "duration": 0.008843,
     "end_time": "2023-02-24T21:10:15.495987",
     "exception": false,
     "start_time": "2023-02-24T21:10:15.487144",
     "status": "completed"
    },
    "tags": []
   },
   "source": [
    "# Loading DataSet"
   ]
  },
  {
   "cell_type": "code",
   "execution_count": 2,
   "id": "494b7d26",
   "metadata": {
    "execution": {
     "iopub.execute_input": "2023-02-24T21:10:15.517151Z",
     "iopub.status.busy": "2023-02-24T21:10:15.516301Z",
     "iopub.status.idle": "2023-02-24T21:11:02.741926Z",
     "shell.execute_reply": "2023-02-24T21:11:02.740591Z"
    },
    "papermill": {
     "duration": 47.23962,
     "end_time": "2023-02-24T21:11:02.744807",
     "exception": false,
     "start_time": "2023-02-24T21:10:15.505187",
     "status": "completed"
    },
    "tags": []
   },
   "outputs": [
    {
     "ename": "FileNotFoundError",
     "evalue": "[Errno 2] No such file or directory: 'PROGETTO MASTER/Dm-Project/dataset/dataset/Wednesday-WorkingHours.csv'",
     "output_type": "error",
     "traceback": [
      "\u001b[1;31m---------------------------------------------------------------------------\u001b[0m",
      "\u001b[1;31mFileNotFoundError\u001b[0m                         Traceback (most recent call last)",
      "Cell \u001b[1;32mIn[2], line 1\u001b[0m\n\u001b[1;32m----> 1\u001b[0m df \u001b[39m=\u001b[39m pd\u001b[39m.\u001b[39;49mread_csv(\u001b[39m\"\u001b[39;49m\u001b[39mPROGETTO MASTER/Dm-Project/dataset/dataset/Wednesday-WorkingHours.csv\u001b[39;49m\u001b[39m\"\u001b[39;49m)\n\u001b[0;32m      2\u001b[0m df \u001b[39m=\u001b[39m pd\u001b[39m.\u001b[39mconcat([df, pd\u001b[39m.\u001b[39mread_csv(\u001b[39m\"\u001b[39m\u001b[39mPROGETTO MASTER/Dm-Project/dataset/dataset/Thursday-WorkingHours.csv\u001b[39m\u001b[39m\"\u001b[39m)])\n\u001b[0;32m      3\u001b[0m df \u001b[39m=\u001b[39m pd\u001b[39m.\u001b[39mconcat([df, pd\u001b[39m.\u001b[39mread_csv(\u001b[39m\"\u001b[39m\u001b[39mPROGETTO MASTER/Dm-Project/dataset/dataset/Tuesday-WorkingHours.csv\u001b[39m\u001b[39m\"\u001b[39m)])\n",
      "File \u001b[1;32mc:\\Users\\mirie\\AppData\\Local\\Programs\\Python\\Python310\\lib\\site-packages\\pandas\\util\\_decorators.py:211\u001b[0m, in \u001b[0;36mdeprecate_kwarg.<locals>._deprecate_kwarg.<locals>.wrapper\u001b[1;34m(*args, **kwargs)\u001b[0m\n\u001b[0;32m    209\u001b[0m     \u001b[39melse\u001b[39;00m:\n\u001b[0;32m    210\u001b[0m         kwargs[new_arg_name] \u001b[39m=\u001b[39m new_arg_value\n\u001b[1;32m--> 211\u001b[0m \u001b[39mreturn\u001b[39;00m func(\u001b[39m*\u001b[39margs, \u001b[39m*\u001b[39m\u001b[39m*\u001b[39mkwargs)\n",
      "File \u001b[1;32mc:\\Users\\mirie\\AppData\\Local\\Programs\\Python\\Python310\\lib\\site-packages\\pandas\\util\\_decorators.py:331\u001b[0m, in \u001b[0;36mdeprecate_nonkeyword_arguments.<locals>.decorate.<locals>.wrapper\u001b[1;34m(*args, **kwargs)\u001b[0m\n\u001b[0;32m    325\u001b[0m \u001b[39mif\u001b[39;00m \u001b[39mlen\u001b[39m(args) \u001b[39m>\u001b[39m num_allow_args:\n\u001b[0;32m    326\u001b[0m     warnings\u001b[39m.\u001b[39mwarn(\n\u001b[0;32m    327\u001b[0m         msg\u001b[39m.\u001b[39mformat(arguments\u001b[39m=\u001b[39m_format_argument_list(allow_args)),\n\u001b[0;32m    328\u001b[0m         \u001b[39mFutureWarning\u001b[39;00m,\n\u001b[0;32m    329\u001b[0m         stacklevel\u001b[39m=\u001b[39mfind_stack_level(),\n\u001b[0;32m    330\u001b[0m     )\n\u001b[1;32m--> 331\u001b[0m \u001b[39mreturn\u001b[39;00m func(\u001b[39m*\u001b[39margs, \u001b[39m*\u001b[39m\u001b[39m*\u001b[39mkwargs)\n",
      "File \u001b[1;32mc:\\Users\\mirie\\AppData\\Local\\Programs\\Python\\Python310\\lib\\site-packages\\pandas\\io\\parsers\\readers.py:950\u001b[0m, in \u001b[0;36mread_csv\u001b[1;34m(filepath_or_buffer, sep, delimiter, header, names, index_col, usecols, squeeze, prefix, mangle_dupe_cols, dtype, engine, converters, true_values, false_values, skipinitialspace, skiprows, skipfooter, nrows, na_values, keep_default_na, na_filter, verbose, skip_blank_lines, parse_dates, infer_datetime_format, keep_date_col, date_parser, dayfirst, cache_dates, iterator, chunksize, compression, thousands, decimal, lineterminator, quotechar, quoting, doublequote, escapechar, comment, encoding, encoding_errors, dialect, error_bad_lines, warn_bad_lines, on_bad_lines, delim_whitespace, low_memory, memory_map, float_precision, storage_options)\u001b[0m\n\u001b[0;32m    935\u001b[0m kwds_defaults \u001b[39m=\u001b[39m _refine_defaults_read(\n\u001b[0;32m    936\u001b[0m     dialect,\n\u001b[0;32m    937\u001b[0m     delimiter,\n\u001b[1;32m   (...)\u001b[0m\n\u001b[0;32m    946\u001b[0m     defaults\u001b[39m=\u001b[39m{\u001b[39m\"\u001b[39m\u001b[39mdelimiter\u001b[39m\u001b[39m\"\u001b[39m: \u001b[39m\"\u001b[39m\u001b[39m,\u001b[39m\u001b[39m\"\u001b[39m},\n\u001b[0;32m    947\u001b[0m )\n\u001b[0;32m    948\u001b[0m kwds\u001b[39m.\u001b[39mupdate(kwds_defaults)\n\u001b[1;32m--> 950\u001b[0m \u001b[39mreturn\u001b[39;00m _read(filepath_or_buffer, kwds)\n",
      "File \u001b[1;32mc:\\Users\\mirie\\AppData\\Local\\Programs\\Python\\Python310\\lib\\site-packages\\pandas\\io\\parsers\\readers.py:605\u001b[0m, in \u001b[0;36m_read\u001b[1;34m(filepath_or_buffer, kwds)\u001b[0m\n\u001b[0;32m    602\u001b[0m _validate_names(kwds\u001b[39m.\u001b[39mget(\u001b[39m\"\u001b[39m\u001b[39mnames\u001b[39m\u001b[39m\"\u001b[39m, \u001b[39mNone\u001b[39;00m))\n\u001b[0;32m    604\u001b[0m \u001b[39m# Create the parser.\u001b[39;00m\n\u001b[1;32m--> 605\u001b[0m parser \u001b[39m=\u001b[39m TextFileReader(filepath_or_buffer, \u001b[39m*\u001b[39m\u001b[39m*\u001b[39mkwds)\n\u001b[0;32m    607\u001b[0m \u001b[39mif\u001b[39;00m chunksize \u001b[39mor\u001b[39;00m iterator:\n\u001b[0;32m    608\u001b[0m     \u001b[39mreturn\u001b[39;00m parser\n",
      "File \u001b[1;32mc:\\Users\\mirie\\AppData\\Local\\Programs\\Python\\Python310\\lib\\site-packages\\pandas\\io\\parsers\\readers.py:1442\u001b[0m, in \u001b[0;36mTextFileReader.__init__\u001b[1;34m(self, f, engine, **kwds)\u001b[0m\n\u001b[0;32m   1439\u001b[0m     \u001b[39mself\u001b[39m\u001b[39m.\u001b[39moptions[\u001b[39m\"\u001b[39m\u001b[39mhas_index_names\u001b[39m\u001b[39m\"\u001b[39m] \u001b[39m=\u001b[39m kwds[\u001b[39m\"\u001b[39m\u001b[39mhas_index_names\u001b[39m\u001b[39m\"\u001b[39m]\n\u001b[0;32m   1441\u001b[0m \u001b[39mself\u001b[39m\u001b[39m.\u001b[39mhandles: IOHandles \u001b[39m|\u001b[39m \u001b[39mNone\u001b[39;00m \u001b[39m=\u001b[39m \u001b[39mNone\u001b[39;00m\n\u001b[1;32m-> 1442\u001b[0m \u001b[39mself\u001b[39m\u001b[39m.\u001b[39m_engine \u001b[39m=\u001b[39m \u001b[39mself\u001b[39;49m\u001b[39m.\u001b[39;49m_make_engine(f, \u001b[39mself\u001b[39;49m\u001b[39m.\u001b[39;49mengine)\n",
      "File \u001b[1;32mc:\\Users\\mirie\\AppData\\Local\\Programs\\Python\\Python310\\lib\\site-packages\\pandas\\io\\parsers\\readers.py:1735\u001b[0m, in \u001b[0;36mTextFileReader._make_engine\u001b[1;34m(self, f, engine)\u001b[0m\n\u001b[0;32m   1733\u001b[0m     \u001b[39mif\u001b[39;00m \u001b[39m\"\u001b[39m\u001b[39mb\u001b[39m\u001b[39m\"\u001b[39m \u001b[39mnot\u001b[39;00m \u001b[39min\u001b[39;00m mode:\n\u001b[0;32m   1734\u001b[0m         mode \u001b[39m+\u001b[39m\u001b[39m=\u001b[39m \u001b[39m\"\u001b[39m\u001b[39mb\u001b[39m\u001b[39m\"\u001b[39m\n\u001b[1;32m-> 1735\u001b[0m \u001b[39mself\u001b[39m\u001b[39m.\u001b[39mhandles \u001b[39m=\u001b[39m get_handle(\n\u001b[0;32m   1736\u001b[0m     f,\n\u001b[0;32m   1737\u001b[0m     mode,\n\u001b[0;32m   1738\u001b[0m     encoding\u001b[39m=\u001b[39;49m\u001b[39mself\u001b[39;49m\u001b[39m.\u001b[39;49moptions\u001b[39m.\u001b[39;49mget(\u001b[39m\"\u001b[39;49m\u001b[39mencoding\u001b[39;49m\u001b[39m\"\u001b[39;49m, \u001b[39mNone\u001b[39;49;00m),\n\u001b[0;32m   1739\u001b[0m     compression\u001b[39m=\u001b[39;49m\u001b[39mself\u001b[39;49m\u001b[39m.\u001b[39;49moptions\u001b[39m.\u001b[39;49mget(\u001b[39m\"\u001b[39;49m\u001b[39mcompression\u001b[39;49m\u001b[39m\"\u001b[39;49m, \u001b[39mNone\u001b[39;49;00m),\n\u001b[0;32m   1740\u001b[0m     memory_map\u001b[39m=\u001b[39;49m\u001b[39mself\u001b[39;49m\u001b[39m.\u001b[39;49moptions\u001b[39m.\u001b[39;49mget(\u001b[39m\"\u001b[39;49m\u001b[39mmemory_map\u001b[39;49m\u001b[39m\"\u001b[39;49m, \u001b[39mFalse\u001b[39;49;00m),\n\u001b[0;32m   1741\u001b[0m     is_text\u001b[39m=\u001b[39;49mis_text,\n\u001b[0;32m   1742\u001b[0m     errors\u001b[39m=\u001b[39;49m\u001b[39mself\u001b[39;49m\u001b[39m.\u001b[39;49moptions\u001b[39m.\u001b[39;49mget(\u001b[39m\"\u001b[39;49m\u001b[39mencoding_errors\u001b[39;49m\u001b[39m\"\u001b[39;49m, \u001b[39m\"\u001b[39;49m\u001b[39mstrict\u001b[39;49m\u001b[39m\"\u001b[39;49m),\n\u001b[0;32m   1743\u001b[0m     storage_options\u001b[39m=\u001b[39;49m\u001b[39mself\u001b[39;49m\u001b[39m.\u001b[39;49moptions\u001b[39m.\u001b[39;49mget(\u001b[39m\"\u001b[39;49m\u001b[39mstorage_options\u001b[39;49m\u001b[39m\"\u001b[39;49m, \u001b[39mNone\u001b[39;49;00m),\n\u001b[0;32m   1744\u001b[0m )\n\u001b[0;32m   1745\u001b[0m \u001b[39massert\u001b[39;00m \u001b[39mself\u001b[39m\u001b[39m.\u001b[39mhandles \u001b[39mis\u001b[39;00m \u001b[39mnot\u001b[39;00m \u001b[39mNone\u001b[39;00m\n\u001b[0;32m   1746\u001b[0m f \u001b[39m=\u001b[39m \u001b[39mself\u001b[39m\u001b[39m.\u001b[39mhandles\u001b[39m.\u001b[39mhandle\n",
      "File \u001b[1;32mc:\\Users\\mirie\\AppData\\Local\\Programs\\Python\\Python310\\lib\\site-packages\\pandas\\io\\common.py:856\u001b[0m, in \u001b[0;36mget_handle\u001b[1;34m(path_or_buf, mode, encoding, compression, memory_map, is_text, errors, storage_options)\u001b[0m\n\u001b[0;32m    851\u001b[0m \u001b[39melif\u001b[39;00m \u001b[39misinstance\u001b[39m(handle, \u001b[39mstr\u001b[39m):\n\u001b[0;32m    852\u001b[0m     \u001b[39m# Check whether the filename is to be opened in binary mode.\u001b[39;00m\n\u001b[0;32m    853\u001b[0m     \u001b[39m# Binary mode does not support 'encoding' and 'newline'.\u001b[39;00m\n\u001b[0;32m    854\u001b[0m     \u001b[39mif\u001b[39;00m ioargs\u001b[39m.\u001b[39mencoding \u001b[39mand\u001b[39;00m \u001b[39m\"\u001b[39m\u001b[39mb\u001b[39m\u001b[39m\"\u001b[39m \u001b[39mnot\u001b[39;00m \u001b[39min\u001b[39;00m ioargs\u001b[39m.\u001b[39mmode:\n\u001b[0;32m    855\u001b[0m         \u001b[39m# Encoding\u001b[39;00m\n\u001b[1;32m--> 856\u001b[0m         handle \u001b[39m=\u001b[39m \u001b[39mopen\u001b[39;49m(\n\u001b[0;32m    857\u001b[0m             handle,\n\u001b[0;32m    858\u001b[0m             ioargs\u001b[39m.\u001b[39;49mmode,\n\u001b[0;32m    859\u001b[0m             encoding\u001b[39m=\u001b[39;49mioargs\u001b[39m.\u001b[39;49mencoding,\n\u001b[0;32m    860\u001b[0m             errors\u001b[39m=\u001b[39;49merrors,\n\u001b[0;32m    861\u001b[0m             newline\u001b[39m=\u001b[39;49m\u001b[39m\"\u001b[39;49m\u001b[39m\"\u001b[39;49m,\n\u001b[0;32m    862\u001b[0m         )\n\u001b[0;32m    863\u001b[0m     \u001b[39melse\u001b[39;00m:\n\u001b[0;32m    864\u001b[0m         \u001b[39m# Binary mode\u001b[39;00m\n\u001b[0;32m    865\u001b[0m         handle \u001b[39m=\u001b[39m \u001b[39mopen\u001b[39m(handle, ioargs\u001b[39m.\u001b[39mmode)\n",
      "\u001b[1;31mFileNotFoundError\u001b[0m: [Errno 2] No such file or directory: 'PROGETTO MASTER/Dm-Project/dataset/dataset/Wednesday-WorkingHours.csv'"
     ]
    }
   ],
   "source": [
    "df = pd.read_csv(\"Dm-Project/dataset/dataset/Wednesday-WorkingHours.csv\")\n",
    "df = pd.concat([df, pd.read_csv(\"Dm-Project/dataset/dataset/Thursday-WorkingHours.csv\")])\n",
    "df = pd.concat([df, pd.read_csv(\"Dm-Project/dataset/dataset/Tuesday-WorkingHours.csv\")])\n",
    "df = pd.concat([df, pd.read_csv(\"Dm-Project/dataset/dataset/Monday-WorkingHours.csv\")])\n",
    "df = pd.concat([df, pd.read_csv(\"Dm-Project/dataset/dataset/Friday-WorkingHours.csv\")])"
   ]
  },
  {
   "cell_type": "code",
   "execution_count": null,
   "id": "2f37f293",
   "metadata": {
    "_kg_hide-input": false,
    "execution": {
     "iopub.execute_input": "2023-02-24T21:11:02.766445Z",
     "iopub.status.busy": "2023-02-24T21:11:02.765919Z",
     "iopub.status.idle": "2023-02-24T21:11:02.776330Z",
     "shell.execute_reply": "2023-02-24T21:11:02.774986Z"
    },
    "papermill": {
     "duration": 0.024407,
     "end_time": "2023-02-24T21:11:02.778639",
     "exception": false,
     "start_time": "2023-02-24T21:11:02.754232",
     "status": "completed"
    },
    "tags": []
   },
   "outputs": [
    {
     "data": {
      "text/plain": [
       "'df = pd.concat([df1,df2])\\ndel df1,df2\\ndf = pd.concat([df,df3])\\ndel df3\\ndf = pd.concat([df,df4])\\ndel df4\\ndf = pd.concat([df,df5])\\ndel df5'"
      ]
     },
     "execution_count": 3,
     "metadata": {},
     "output_type": "execute_result"
    }
   ],
   "source": [
    "'''df = pd.concat([df1,df2])\n",
    "del df1,df2\n",
    "df = pd.concat([df,df3])\n",
    "del df3\n",
    "df = pd.concat([df,df4])\n",
    "del df4\n",
    "df = pd.concat([df,df5])\n",
    "del df5'''"
   ]
  },
  {
   "cell_type": "code",
   "execution_count": null,
   "id": "fc3a96c5",
   "metadata": {
    "execution": {
     "iopub.execute_input": "2023-02-24T21:11:02.799702Z",
     "iopub.status.busy": "2023-02-24T21:11:02.799139Z",
     "iopub.status.idle": "2023-02-24T21:11:02.835295Z",
     "shell.execute_reply": "2023-02-24T21:11:02.832563Z"
    },
    "papermill": {
     "duration": 0.050903,
     "end_time": "2023-02-24T21:11:02.838965",
     "exception": false,
     "start_time": "2023-02-24T21:11:02.788062",
     "status": "completed"
    },
    "tags": []
   },
   "outputs": [
    {
     "name": "stdout",
     "output_type": "stream",
     "text": [
      "<class 'pandas.core.frame.DataFrame'>\n",
      "Int64Index: 2100814 entries, 0 to 547914\n",
      "Data columns (total 84 columns):\n",
      " #   Column                      Dtype  \n",
      "---  ------                      -----  \n",
      " 0   Flow ID                     object \n",
      " 1   Src IP                      object \n",
      " 2   Src Port                    int64  \n",
      " 3   Dst IP                      object \n",
      " 4   Dst Port                    int64  \n",
      " 5   Protocol                    int64  \n",
      " 6   Timestamp                   object \n",
      " 7   Flow Duration               int64  \n",
      " 8   Total Fwd Packet            int64  \n",
      " 9   Total Bwd packets           int64  \n",
      " 10  Total Length of Fwd Packet  float64\n",
      " 11  Total Length of Bwd Packet  float64\n",
      " 12  Fwd Packet Length Max       float64\n",
      " 13  Fwd Packet Length Min       float64\n",
      " 14  Fwd Packet Length Mean      float64\n",
      " 15  Fwd Packet Length Std       float64\n",
      " 16  Bwd Packet Length Max       float64\n",
      " 17  Bwd Packet Length Min       float64\n",
      " 18  Bwd Packet Length Mean      float64\n",
      " 19  Bwd Packet Length Std       float64\n",
      " 20  Flow Bytes/s                float64\n",
      " 21  Flow Packets/s              float64\n",
      " 22  Flow IAT Mean               float64\n",
      " 23  Flow IAT Std                float64\n",
      " 24  Flow IAT Max                float64\n",
      " 25  Flow IAT Min                float64\n",
      " 26  Fwd IAT Total               float64\n",
      " 27  Fwd IAT Mean                float64\n",
      " 28  Fwd IAT Std                 float64\n",
      " 29  Fwd IAT Max                 float64\n",
      " 30  Fwd IAT Min                 float64\n",
      " 31  Bwd IAT Total               float64\n",
      " 32  Bwd IAT Mean                float64\n",
      " 33  Bwd IAT Std                 float64\n",
      " 34  Bwd IAT Max                 float64\n",
      " 35  Bwd IAT Min                 float64\n",
      " 36  Fwd PSH Flags               int64  \n",
      " 37  Bwd PSH Flags               int64  \n",
      " 38  Fwd URG Flags               int64  \n",
      " 39  Bwd URG Flags               int64  \n",
      " 40  Fwd Header Length           int64  \n",
      " 41  Bwd Header Length           int64  \n",
      " 42  Fwd Packets/s               float64\n",
      " 43  Bwd Packets/s               float64\n",
      " 44  Packet Length Min           float64\n",
      " 45  Packet Length Max           float64\n",
      " 46  Packet Length Mean          float64\n",
      " 47  Packet Length Std           float64\n",
      " 48  Packet Length Variance      float64\n",
      " 49  FIN Flag Count              int64  \n",
      " 50  SYN Flag Count              int64  \n",
      " 51  RST Flag Count              int64  \n",
      " 52  PSH Flag Count              int64  \n",
      " 53  ACK Flag Count              int64  \n",
      " 54  URG Flag Count              int64  \n",
      " 55  CWR Flag Count              int64  \n",
      " 56  ECE Flag Count              int64  \n",
      " 57  Down/Up Ratio               float64\n",
      " 58  Average Packet Size         float64\n",
      " 59  Fwd Segment Size Avg        float64\n",
      " 60  Bwd Segment Size Avg        float64\n",
      " 61  Fwd Bytes/Bulk Avg          int64  \n",
      " 62  Fwd Packet/Bulk Avg         int64  \n",
      " 63  Fwd Bulk Rate Avg           int64  \n",
      " 64  Bwd Bytes/Bulk Avg          int64  \n",
      " 65  Bwd Packet/Bulk Avg         int64  \n",
      " 66  Bwd Bulk Rate Avg           int64  \n",
      " 67  Subflow Fwd Packets         int64  \n",
      " 68  Subflow Fwd Bytes           int64  \n",
      " 69  Subflow Bwd Packets         int64  \n",
      " 70  Subflow Bwd Bytes           int64  \n",
      " 71  FWD Init Win Bytes          int64  \n",
      " 72  Bwd Init Win Bytes          int64  \n",
      " 73  Fwd Act Data Pkts           int64  \n",
      " 74  Fwd Seg Size Min            int64  \n",
      " 75  Active Mean                 float64\n",
      " 76  Active Std                  float64\n",
      " 77  Active Max                  float64\n",
      " 78  Active Min                  float64\n",
      " 79  Idle Mean                   float64\n",
      " 80  Idle Std                    float64\n",
      " 81  Idle Max                    float64\n",
      " 82  Idle Min                    float64\n",
      " 83  Label                       object \n",
      "dtypes: float64(45), int64(34), object(5)\n",
      "memory usage: 1.3+ GB\n"
     ]
    }
   ],
   "source": [
    "df.info()"
   ]
  },
  {
   "cell_type": "markdown",
   "id": "11e35d63",
   "metadata": {
    "papermill": {
     "duration": 0.009311,
     "end_time": "2023-02-24T21:11:02.858077",
     "exception": false,
     "start_time": "2023-02-24T21:11:02.848766",
     "status": "completed"
    },
    "tags": []
   },
   "source": [
    "# Cleaning DataSet"
   ]
  },
  {
   "cell_type": "code",
   "execution_count": null,
   "id": "07373006",
   "metadata": {
    "execution": {
     "iopub.execute_input": "2023-02-24T21:11:02.879873Z",
     "iopub.status.busy": "2023-02-24T21:11:02.879295Z",
     "iopub.status.idle": "2023-02-24T21:11:03.669646Z",
     "shell.execute_reply": "2023-02-24T21:11:03.667599Z"
    },
    "papermill": {
     "duration": 0.804923,
     "end_time": "2023-02-24T21:11:03.672989",
     "exception": false,
     "start_time": "2023-02-24T21:11:02.868066",
     "status": "completed"
    },
    "tags": []
   },
   "outputs": [
    {
     "data": {
      "text/html": [
       "<div>\n",
       "<style scoped>\n",
       "    .dataframe tbody tr th:only-of-type {\n",
       "        vertical-align: middle;\n",
       "    }\n",
       "\n",
       "    .dataframe tbody tr th {\n",
       "        vertical-align: top;\n",
       "    }\n",
       "\n",
       "    .dataframe thead th {\n",
       "        text-align: right;\n",
       "    }\n",
       "</style>\n",
       "<table border=\"1\" class=\"dataframe\">\n",
       "  <thead>\n",
       "    <tr style=\"text-align: right;\">\n",
       "      <th></th>\n",
       "      <th>0</th>\n",
       "    </tr>\n",
       "  </thead>\n",
       "  <tbody>\n",
       "    <tr>\n",
       "      <th>Flow Bytes/s</th>\n",
       "      <td>602</td>\n",
       "    </tr>\n",
       "    <tr>\n",
       "      <th>Flow IAT Mean</th>\n",
       "      <td>252</td>\n",
       "    </tr>\n",
       "    <tr>\n",
       "      <th>Flow IAT Std</th>\n",
       "      <td>252</td>\n",
       "    </tr>\n",
       "    <tr>\n",
       "      <th>Flow IAT Min</th>\n",
       "      <td>252</td>\n",
       "    </tr>\n",
       "    <tr>\n",
       "      <th>Flow IAT Max</th>\n",
       "      <td>252</td>\n",
       "    </tr>\n",
       "    <tr>\n",
       "      <th>...</th>\n",
       "      <td>...</td>\n",
       "    </tr>\n",
       "    <tr>\n",
       "      <th>Fwd IAT Min</th>\n",
       "      <td>0</td>\n",
       "    </tr>\n",
       "    <tr>\n",
       "      <th>Fwd IAT Max</th>\n",
       "      <td>0</td>\n",
       "    </tr>\n",
       "    <tr>\n",
       "      <th>Fwd IAT Std</th>\n",
       "      <td>0</td>\n",
       "    </tr>\n",
       "    <tr>\n",
       "      <th>Fwd IAT Mean</th>\n",
       "      <td>0</td>\n",
       "    </tr>\n",
       "    <tr>\n",
       "      <th>Label</th>\n",
       "      <td>0</td>\n",
       "    </tr>\n",
       "  </tbody>\n",
       "</table>\n",
       "<p>84 rows × 1 columns</p>\n",
       "</div>"
      ],
      "text/plain": [
       "                 0\n",
       "Flow Bytes/s   602\n",
       "Flow IAT Mean  252\n",
       "Flow IAT Std   252\n",
       "Flow IAT Min   252\n",
       "Flow IAT Max   252\n",
       "...            ...\n",
       "Fwd IAT Min      0\n",
       "Fwd IAT Max      0\n",
       "Fwd IAT Std      0\n",
       "Fwd IAT Mean     0\n",
       "Label            0\n",
       "\n",
       "[84 rows x 1 columns]"
      ]
     },
     "execution_count": 5,
     "metadata": {},
     "output_type": "execute_result"
    }
   ],
   "source": [
    "pd.DataFrame(df.isnull().sum()).sort_values(ascending=0,by=[0])"
   ]
  },
  {
   "cell_type": "code",
   "execution_count": null,
   "id": "5099a866",
   "metadata": {
    "execution": {
     "iopub.execute_input": "2023-02-24T21:11:03.696757Z",
     "iopub.status.busy": "2023-02-24T21:11:03.696268Z",
     "iopub.status.idle": "2023-02-24T21:11:07.279618Z",
     "shell.execute_reply": "2023-02-24T21:11:07.278265Z"
    },
    "papermill": {
     "duration": 3.598459,
     "end_time": "2023-02-24T21:11:07.282511",
     "exception": false,
     "start_time": "2023-02-24T21:11:03.684052",
     "status": "completed"
    },
    "tags": []
   },
   "outputs": [
    {
     "data": {
      "text/plain": [
       "(2098292, 84)"
      ]
     },
     "execution_count": 6,
     "metadata": {},
     "output_type": "execute_result"
    }
   ],
   "source": [
    "rows = df.loc[df['Flow Bytes/s'].isnull()]\n",
    "df.drop(labels=rows.index,axis=0,inplace=True)\n",
    "df.shape"
   ]
  },
  {
   "cell_type": "code",
   "execution_count": null,
   "id": "377a13ed",
   "metadata": {
    "execution": {
     "iopub.execute_input": "2023-02-24T21:11:07.307867Z",
     "iopub.status.busy": "2023-02-24T21:11:07.306535Z",
     "iopub.status.idle": "2023-02-24T21:11:08.175216Z",
     "shell.execute_reply": "2023-02-24T21:11:08.173782Z"
    },
    "papermill": {
     "duration": 0.884789,
     "end_time": "2023-02-24T21:11:08.179038",
     "exception": false,
     "start_time": "2023-02-24T21:11:07.294249",
     "status": "completed"
    },
    "tags": []
   },
   "outputs": [
    {
     "data": {
      "text/html": [
       "<div>\n",
       "<style scoped>\n",
       "    .dataframe tbody tr th:only-of-type {\n",
       "        vertical-align: middle;\n",
       "    }\n",
       "\n",
       "    .dataframe tbody tr th {\n",
       "        vertical-align: top;\n",
       "    }\n",
       "\n",
       "    .dataframe thead th {\n",
       "        text-align: right;\n",
       "    }\n",
       "</style>\n",
       "<table border=\"1\" class=\"dataframe\">\n",
       "  <thead>\n",
       "    <tr style=\"text-align: right;\">\n",
       "      <th></th>\n",
       "      <th>0</th>\n",
       "    </tr>\n",
       "  </thead>\n",
       "  <tbody>\n",
       "    <tr>\n",
       "      <th>Flow IAT Mean</th>\n",
       "      <td>174</td>\n",
       "    </tr>\n",
       "    <tr>\n",
       "      <th>Flow IAT Min</th>\n",
       "      <td>174</td>\n",
       "    </tr>\n",
       "    <tr>\n",
       "      <th>Flow IAT Max</th>\n",
       "      <td>174</td>\n",
       "    </tr>\n",
       "    <tr>\n",
       "      <th>Flow IAT Std</th>\n",
       "      <td>174</td>\n",
       "    </tr>\n",
       "    <tr>\n",
       "      <th>Packet Length Variance</th>\n",
       "      <td>0</td>\n",
       "    </tr>\n",
       "    <tr>\n",
       "      <th>...</th>\n",
       "      <td>...</td>\n",
       "    </tr>\n",
       "    <tr>\n",
       "      <th>Fwd IAT Max</th>\n",
       "      <td>0</td>\n",
       "    </tr>\n",
       "    <tr>\n",
       "      <th>Fwd IAT Std</th>\n",
       "      <td>0</td>\n",
       "    </tr>\n",
       "    <tr>\n",
       "      <th>Fwd IAT Mean</th>\n",
       "      <td>0</td>\n",
       "    </tr>\n",
       "    <tr>\n",
       "      <th>Fwd IAT Total</th>\n",
       "      <td>0</td>\n",
       "    </tr>\n",
       "    <tr>\n",
       "      <th>Label</th>\n",
       "      <td>0</td>\n",
       "    </tr>\n",
       "  </tbody>\n",
       "</table>\n",
       "<p>84 rows × 1 columns</p>\n",
       "</div>"
      ],
      "text/plain": [
       "                          0\n",
       "Flow IAT Mean           174\n",
       "Flow IAT Min            174\n",
       "Flow IAT Max            174\n",
       "Flow IAT Std            174\n",
       "Packet Length Variance    0\n",
       "...                     ...\n",
       "Fwd IAT Max               0\n",
       "Fwd IAT Std               0\n",
       "Fwd IAT Mean              0\n",
       "Fwd IAT Total             0\n",
       "Label                     0\n",
       "\n",
       "[84 rows x 1 columns]"
      ]
     },
     "execution_count": 7,
     "metadata": {},
     "output_type": "execute_result"
    }
   ],
   "source": [
    "pd.DataFrame(df.isnull().sum()).sort_values(ascending=0,by=[0])"
   ]
  },
  {
   "cell_type": "code",
   "execution_count": null,
   "id": "3cdc497a",
   "metadata": {
    "execution": {
     "iopub.execute_input": "2023-02-24T21:11:08.202475Z",
     "iopub.status.busy": "2023-02-24T21:11:08.201967Z",
     "iopub.status.idle": "2023-02-24T21:11:08.217679Z",
     "shell.execute_reply": "2023-02-24T21:11:08.216397Z"
    },
    "papermill": {
     "duration": 0.030619,
     "end_time": "2023-02-24T21:11:08.220562",
     "exception": false,
     "start_time": "2023-02-24T21:11:08.189943",
     "status": "completed"
    },
    "tags": []
   },
   "outputs": [
    {
     "data": {
      "text/plain": [
       "0    174\n",
       "Name: Flow Duration, dtype: int64"
      ]
     },
     "execution_count": 8,
     "metadata": {},
     "output_type": "execute_result"
    }
   ],
   "source": [
    "df[df['Flow IAT Mean'].isnull()]['Flow Duration'].value_counts()"
   ]
  },
  {
   "cell_type": "markdown",
   "id": "1785e33a",
   "metadata": {
    "papermill": {
     "duration": 0.009849,
     "end_time": "2023-02-24T21:11:08.241857",
     "exception": false,
     "start_time": "2023-02-24T21:11:08.232008",
     "status": "completed"
    },
    "tags": []
   },
   "source": [
    "Notiamo dunque che quando l'Inter Arrival Time (IAT, il tempo che intercorre tra l'arrivo di un pacchetto e il prossimo) è nullo è poiché il flow stesso è durato 0s"
   ]
  },
  {
   "cell_type": "markdown",
   "id": "5714a300",
   "metadata": {
    "papermill": {
     "duration": 0.009648,
     "end_time": "2023-02-24T21:11:08.261651",
     "exception": false,
     "start_time": "2023-02-24T21:11:08.252003",
     "status": "completed"
    },
    "tags": []
   },
   "source": [
    "Eliminiamo le righe che hanno valori all'infinito"
   ]
  },
  {
   "cell_type": "code",
   "execution_count": null,
   "id": "20089909",
   "metadata": {
    "execution": {
     "iopub.execute_input": "2023-02-24T21:11:08.284417Z",
     "iopub.status.busy": "2023-02-24T21:11:08.283867Z",
     "iopub.status.idle": "2023-02-24T21:11:11.391614Z",
     "shell.execute_reply": "2023-02-24T21:11:11.389896Z"
    },
    "papermill": {
     "duration": 3.122949,
     "end_time": "2023-02-24T21:11:11.394811",
     "exception": false,
     "start_time": "2023-02-24T21:11:08.271862",
     "status": "completed"
    },
    "tags": []
   },
   "outputs": [
    {
     "data": {
      "text/plain": [
       "(2097341, 84)"
      ]
     },
     "execution_count": 9,
     "metadata": {},
     "output_type": "execute_result"
    }
   ],
   "source": [
    "rows = df.loc[np.isinf(df.select_dtypes(exclude=object)).any(1)]\n",
    "df.drop(labels=rows.index,axis=0,inplace=True)\n",
    "df.shape"
   ]
  },
  {
   "cell_type": "markdown",
   "id": "f8884cb9",
   "metadata": {
    "papermill": {
     "duration": 0.010826,
     "end_time": "2023-02-24T21:11:11.416401",
     "exception": false,
     "start_time": "2023-02-24T21:11:11.405575",
     "status": "completed"
    },
    "tags": []
   },
   "source": [
    "Il modello non deve imparare pattern in base agli IP e dunque eliminiamo le relative colonne (Flow ID è un'unione di altre colonne già presenti)."
   ]
  },
  {
   "cell_type": "code",
   "execution_count": null,
   "id": "ab8d8334",
   "metadata": {
    "execution": {
     "iopub.execute_input": "2023-02-24T21:11:11.440213Z",
     "iopub.status.busy": "2023-02-24T21:11:11.439722Z",
     "iopub.status.idle": "2023-02-24T21:11:12.466633Z",
     "shell.execute_reply": "2023-02-24T21:11:12.465495Z"
    },
    "papermill": {
     "duration": 1.042227,
     "end_time": "2023-02-24T21:11:12.469471",
     "exception": false,
     "start_time": "2023-02-24T21:11:11.427244",
     "status": "completed"
    },
    "tags": []
   },
   "outputs": [],
   "source": [
    "df.drop([\"Flow ID\",\"Src IP\",\"Dst IP\",\"Timestamp\"],axis=1,inplace=True)"
   ]
  },
  {
   "cell_type": "markdown",
   "id": "6ffd65c8",
   "metadata": {
    "papermill": {
     "duration": 0.010178,
     "end_time": "2023-02-24T21:11:12.490794",
     "exception": false,
     "start_time": "2023-02-24T21:11:12.480616",
     "status": "completed"
    },
    "tags": []
   },
   "source": [
    "# Classificatore Binario (Benigno/Maligno)"
   ]
  },
  {
   "cell_type": "code",
   "execution_count": null,
   "id": "8fa145d5",
   "metadata": {
    "execution": {
     "iopub.execute_input": "2023-02-24T21:11:12.513919Z",
     "iopub.status.busy": "2023-02-24T21:11:12.513393Z",
     "iopub.status.idle": "2023-02-24T21:11:12.655765Z",
     "shell.execute_reply": "2023-02-24T21:11:12.653857Z"
    },
    "papermill": {
     "duration": 0.157783,
     "end_time": "2023-02-24T21:11:12.658927",
     "exception": false,
     "start_time": "2023-02-24T21:11:12.501144",
     "status": "completed"
    },
    "tags": []
   },
   "outputs": [
    {
     "data": {
      "text/plain": [
       "BENIGN                                  1654877\n",
       "PortScan                                 158960\n",
       "DoS Hulk                                 158196\n",
       "DDoS                                      95026\n",
       "DoS GoldenEye                              7561\n",
       "DoS slowloris                              3991\n",
       "FTP-Patator                                3962\n",
       "DoS Slowhttptest - Attempted               3363\n",
       "SSH-Patator                                2977\n",
       "DoS Slowhttptest                           1737\n",
       "DoS slowloris - Attempted                  1698\n",
       "Bot - Attempted                            1466\n",
       "Web Attack - Brute Force - Attempted       1214\n",
       "Bot                                         738\n",
       "Web Attack - XSS - Attempted                650\n",
       "DoS Hulk - Attempted                        577\n",
       "Web Attack - Brute Force                    151\n",
       "DoS GoldenEye - Attempted                    80\n",
       "Infiltration                                 32\n",
       "Web Attack - XSS                             27\n",
       "Infiltration - Attempted                     16\n",
       "Web Attack - Sql Injection                   12\n",
       "FTP-Patator - Attempted                      11\n",
       "Heartbleed                                   11\n",
       "SSH-Patator - Attempted                       8\n",
       "Name: Label, dtype: int64"
      ]
     },
     "execution_count": 11,
     "metadata": {},
     "output_type": "execute_result"
    }
   ],
   "source": [
    "df[\"Label\"].value_counts()"
   ]
  },
  {
   "cell_type": "code",
   "execution_count": null,
   "id": "59f53e02",
   "metadata": {
    "execution": {
     "iopub.execute_input": "2023-02-24T21:11:12.682770Z",
     "iopub.status.busy": "2023-02-24T21:11:12.682266Z",
     "iopub.status.idle": "2023-02-24T21:11:13.257817Z",
     "shell.execute_reply": "2023-02-24T21:11:13.255964Z"
    },
    "papermill": {
     "duration": 0.591815,
     "end_time": "2023-02-24T21:11:13.261148",
     "exception": false,
     "start_time": "2023-02-24T21:11:12.669333",
     "status": "completed"
    },
    "tags": []
   },
   "outputs": [
    {
     "data": {
      "text/plain": [
       "(442464, 80)"
      ]
     },
     "execution_count": 12,
     "metadata": {},
     "output_type": "execute_result"
    }
   ],
   "source": [
    "df_maligne = df[df[\"Label\"]!='BENIGN'].copy()\n",
    "df_maligne[\"Label\"] = \"MALIGN\"\n",
    "df_maligne.shape"
   ]
  },
  {
   "cell_type": "code",
   "execution_count": null,
   "id": "e40bf748",
   "metadata": {
    "execution": {
     "iopub.execute_input": "2023-02-24T21:11:13.286339Z",
     "iopub.status.busy": "2023-02-24T21:11:13.285832Z",
     "iopub.status.idle": "2023-02-24T21:11:15.839022Z",
     "shell.execute_reply": "2023-02-24T21:11:15.837691Z"
    },
    "papermill": {
     "duration": 2.569397,
     "end_time": "2023-02-24T21:11:15.842053",
     "exception": false,
     "start_time": "2023-02-24T21:11:13.272656",
     "status": "completed"
    },
    "tags": []
   },
   "outputs": [
    {
     "data": {
      "text/plain": [
       "MALIGN    442464\n",
       "BENIGN    442464\n",
       "Name: Label, dtype: int64"
      ]
     },
     "execution_count": 13,
     "metadata": {},
     "output_type": "execute_result"
    }
   ],
   "source": [
    "df_bin = pd.concat([df_maligne, df[df[\"Label\"]=='BENIGN'].sample(len(df_maligne))])\n",
    "df_bin[\"Label\"].value_counts()"
   ]
  },
  {
   "cell_type": "code",
   "execution_count": null,
   "id": "d952be1d",
   "metadata": {
    "execution": {
     "iopub.execute_input": "2023-02-24T21:11:15.866551Z",
     "iopub.status.busy": "2023-02-24T21:11:15.866028Z",
     "iopub.status.idle": "2023-02-24T21:11:19.658269Z",
     "shell.execute_reply": "2023-02-24T21:11:19.656363Z"
    },
    "papermill": {
     "duration": 3.808629,
     "end_time": "2023-02-24T21:11:19.661725",
     "exception": false,
     "start_time": "2023-02-24T21:11:15.853096",
     "status": "completed"
    },
    "tags": []
   },
   "outputs": [
    {
     "name": "stdout",
     "output_type": "stream",
     "text": [
      "(707942, 79) (707942,) (176986, 79) (176986,)\n"
     ]
    }
   ],
   "source": [
    "from sklearn.model_selection import train_test_split\n",
    "\n",
    "y = df_bin[\"Label\"]\n",
    "X = df_bin.drop(columns= \"Label\")\n",
    "X_train, X_test,  y_train, y_test = train_test_split(X,y, test_size=0.2)\n",
    "print(X_train.shape, y_train.shape, X_test.shape, y_test.shape)"
   ]
  },
  {
   "cell_type": "code",
   "execution_count": null,
   "id": "7b082d88",
   "metadata": {
    "execution": {
     "iopub.execute_input": "2023-02-24T21:11:19.686942Z",
     "iopub.status.busy": "2023-02-24T21:11:19.686457Z",
     "iopub.status.idle": "2023-02-24T21:11:19.737200Z",
     "shell.execute_reply": "2023-02-24T21:11:19.736222Z"
    },
    "papermill": {
     "duration": 0.065987,
     "end_time": "2023-02-24T21:11:19.739572",
     "exception": false,
     "start_time": "2023-02-24T21:11:19.673585",
     "status": "completed"
    },
    "tags": []
   },
   "outputs": [
    {
     "data": {
      "text/plain": [
       "BENIGN    353972\n",
       "MALIGN    353970\n",
       "Name: Label, dtype: int64"
      ]
     },
     "execution_count": 15,
     "metadata": {},
     "output_type": "execute_result"
    }
   ],
   "source": [
    "y_train.value_counts()"
   ]
  },
  {
   "cell_type": "code",
   "execution_count": null,
   "id": "3e150b1d",
   "metadata": {
    "execution": {
     "iopub.execute_input": "2023-02-24T21:11:19.765295Z",
     "iopub.status.busy": "2023-02-24T21:11:19.764846Z",
     "iopub.status.idle": "2023-02-24T21:12:21.041625Z",
     "shell.execute_reply": "2023-02-24T21:12:21.039487Z"
    },
    "papermill": {
     "duration": 61.305647,
     "end_time": "2023-02-24T21:12:21.056609",
     "exception": false,
     "start_time": "2023-02-24T21:11:19.750962",
     "status": "completed"
    },
    "tags": []
   },
   "outputs": [
    {
     "name": "stdout",
     "output_type": "stream",
     "text": [
      "0.99763823127253\n"
     ]
    }
   ],
   "source": [
    "from sklearn.ensemble import RandomForestClassifier\n",
    "\n",
    "rnd_clf = RandomForestClassifier(n_estimators=10, random_state=42)\n",
    "rnd_clf.fit(X_train,y_train)\n",
    "\n",
    "y_pred = rnd_clf.predict(X_test)\n",
    "n_correct = sum(y_pred == y_test)\n",
    "print(n_correct / len(y_pred))"
   ]
  },
  {
   "cell_type": "code",
   "execution_count": null,
   "id": "09a03610",
   "metadata": {
    "execution": {
     "iopub.execute_input": "2023-02-24T21:12:21.083048Z",
     "iopub.status.busy": "2023-02-24T21:12:21.081603Z",
     "iopub.status.idle": "2023-02-24T21:12:21.170769Z",
     "shell.execute_reply": "2023-02-24T21:12:21.169000Z"
    },
    "papermill": {
     "duration": 0.105786,
     "end_time": "2023-02-24T21:12:21.173777",
     "exception": false,
     "start_time": "2023-02-24T21:12:21.067991",
     "status": "completed"
    },
    "tags": []
   },
   "outputs": [
    {
     "data": {
      "text/plain": [
       "MALIGN    10049\n",
       "BENIGN     9951\n",
       "Name: Label, dtype: int64"
      ]
     },
     "execution_count": 17,
     "metadata": {},
     "output_type": "execute_result"
    }
   ],
   "source": [
    "df_rid = df_bin.sample(20000)\n",
    "df_rid['Label'].value_counts()"
   ]
  },
  {
   "cell_type": "code",
   "execution_count": null,
   "id": "0bed7467",
   "metadata": {
    "execution": {
     "iopub.execute_input": "2023-02-24T21:12:21.200161Z",
     "iopub.status.busy": "2023-02-24T21:12:21.199699Z",
     "iopub.status.idle": "2023-02-24T21:12:21.591629Z",
     "shell.execute_reply": "2023-02-24T21:12:21.589861Z"
    },
    "papermill": {
     "duration": 0.408367,
     "end_time": "2023-02-24T21:12:21.594636",
     "exception": false,
     "start_time": "2023-02-24T21:12:21.186269",
     "status": "completed"
    },
    "tags": []
   },
   "outputs": [
    {
     "name": "stdout",
     "output_type": "stream",
     "text": [
      "0.994\n"
     ]
    }
   ],
   "source": [
    "y_rid = df_rid[\"Label\"]\n",
    "X_rid = df_rid.drop(columns= \"Label\")\n",
    "X_train, X_test,  y_train, y_test = train_test_split(X_rid,y_rid, test_size=0.2)\n",
    "rnd_clf = RandomForestClassifier(n_estimators=10, random_state=42)\n",
    "rnd_clf.fit(X_train,y_train)\n",
    "y_pred = rnd_clf.predict(X_test)\n",
    "n_correct = sum(y_pred == y_test)\n",
    "print(n_correct / len(y_pred))"
   ]
  },
  {
   "cell_type": "markdown",
   "id": "c7323491",
   "metadata": {
    "papermill": {
     "duration": 0.011636,
     "end_time": "2023-02-24T21:12:21.617844",
     "exception": false,
     "start_time": "2023-02-24T21:12:21.606208",
     "status": "completed"
    },
    "tags": []
   },
   "source": [
    "Anche con solo 20000 istanze il modello è molto performante. Proviamo ad eliminare le colonne più importanti."
   ]
  },
  {
   "cell_type": "code",
   "execution_count": null,
   "id": "e1fbef91",
   "metadata": {
    "execution": {
     "iopub.execute_input": "2023-02-24T21:12:21.644563Z",
     "iopub.status.busy": "2023-02-24T21:12:21.643325Z",
     "iopub.status.idle": "2023-02-24T21:12:21.662087Z",
     "shell.execute_reply": "2023-02-24T21:12:21.660391Z"
    },
    "papermill": {
     "duration": 0.035063,
     "end_time": "2023-02-24T21:12:21.664831",
     "exception": false,
     "start_time": "2023-02-24T21:12:21.629768",
     "status": "completed"
    },
    "tags": []
   },
   "outputs": [
    {
     "data": {
      "text/plain": [
       "[(0.2595079648336168, 'RST Flag Count'),\n",
       " (0.13040468395643684, 'Bwd Packet Length Min'),\n",
       " (0.052877102462891346, 'PSH Flag Count'),\n",
       " (0.05143912959435761, 'FWD Init Win Bytes'),\n",
       " (0.04496810670465406, 'ACK Flag Count'),\n",
       " (0.04389478641671726, 'Bwd Packet Length Std'),\n",
       " (0.043584924862184966, 'Packet Length Mean'),\n",
       " (0.043286276865274614, 'Protocol'),\n",
       " (0.03132254359108868, 'Bwd IAT Total'),\n",
       " (0.02906785619869695, 'Total Bwd packets'),\n",
       " (0.025949718759293035, 'Fwd PSH Flags'),\n",
       " (0.01634575461803728, 'Bwd Header Length'),\n",
       " (0.016184747370526095, 'Bwd IAT Max'),\n",
       " (0.013581473744930152, 'Fwd IAT Max'),\n",
       " (0.01168877170323617, 'Bwd PSH Flags'),\n",
       " (0.010342466816187928, 'Fwd Packet Length Max'),\n",
       " (0.010158696387684138, 'Dst Port'),\n",
       " (0.008956757493661921, 'Total Length of Fwd Packet'),\n",
       " (0.008656998147855725, 'Bwd Init Win Bytes'),\n",
       " (0.008174306190613092, 'Src Port'),\n",
       " (0.007961851662925745, 'Flow IAT Std'),\n",
       " (0.007847172701012534, 'Bwd Packets/s'),\n",
       " (0.006029552602147041, 'Bwd Packet Length Max'),\n",
       " (0.005989367071831136, 'Flow IAT Min'),\n",
       " (0.005679641320915953, 'Flow IAT Mean'),\n",
       " (0.005576406055859432, 'SYN Flag Count'),\n",
       " (0.005385485054090126, 'Packet Length Variance'),\n",
       " (0.005373787322404776, 'Flow Packets/s'),\n",
       " (0.005160080459623533, 'Packet Length Std'),\n",
       " (0.004971894847475496, 'Average Packet Size'),\n",
       " (0.004628759534841067, 'Fwd Header Length'),\n",
       " (0.0046282256837690315, 'Fwd Seg Size Min'),\n",
       " (0.00455309224234165, 'Active Min'),\n",
       " (0.004079732133895992, 'Bwd Bulk Rate Avg'),\n",
       " (0.003968245979962517, 'Total Length of Bwd Packet'),\n",
       " (0.003882061076632852, 'FIN Flag Count'),\n",
       " (0.0036912389688340103, 'Bwd Segment Size Avg'),\n",
       " (0.00361351820642199, 'Subflow Bwd Bytes'),\n",
       " (0.0036120801456195548, 'Down/Up Ratio'),\n",
       " (0.0035865554100317637, 'Fwd Packets/s'),\n",
       " (0.0033483602244601556, 'Bwd IAT Mean'),\n",
       " (0.003119769766110207, 'Total Fwd Packet'),\n",
       " (0.002906928095074676, 'Bwd IAT Std'),\n",
       " (0.0027598296976788857, 'Flow IAT Max'),\n",
       " (0.0024652945292214035, 'Flow Duration'),\n",
       " (0.0022023357931723704, 'Fwd IAT Mean'),\n",
       " (0.0019147093528790438, 'Idle Min'),\n",
       " (0.0017517010258923517, 'Fwd Bytes/Bulk Avg'),\n",
       " (0.0017008527154494493, 'Fwd IAT Std'),\n",
       " (0.0016686399074549625, 'Fwd IAT Min'),\n",
       " (0.0015866759266618656, 'Fwd IAT Total'),\n",
       " (0.001543405276860083, 'Fwd Packet Length Std'),\n",
       " (0.0015043842579902337, 'Fwd Bulk Rate Avg'),\n",
       " (0.0013912149446488125, 'Active Mean'),\n",
       " (0.0012211379187124206, 'Packet Length Max'),\n",
       " (0.0012207818893672675, 'Fwd Packet Length Min'),\n",
       " (0.0012022504782443675, 'Subflow Fwd Bytes'),\n",
       " (0.0009620807614974514, 'Idle Mean'),\n",
       " (0.0009091957083768072, 'Bwd Packet Length Mean'),\n",
       " (0.0009025369733057264, 'Fwd Packet Length Mean'),\n",
       " (0.000605326951315089, 'Bwd IAT Min'),\n",
       " (0.0005400839281065469, 'Idle Max'),\n",
       " (0.0004822437335281096, 'Fwd Act Data Pkts'),\n",
       " (0.0004737060996964633, 'Active Max'),\n",
       " (0.0004120865680221202, 'Fwd Segment Size Avg'),\n",
       " (0.00031343643490232135, 'Flow Bytes/s'),\n",
       " (0.00011786317847017139, 'Bwd Packet/Bulk Avg'),\n",
       " (7.182181793694448e-05, 'Bwd Bytes/Bulk Avg'),\n",
       " (4.285749710114234e-05, 'Active Std'),\n",
       " (3.916180618418888e-05, 'Idle Std'),\n",
       " (7.511543097501587e-06, 'Fwd Packet/Bulk Avg'),\n",
       " (0.0, 'URG Flag Count'),\n",
       " (0.0, 'Subflow Fwd Packets'),\n",
       " (0.0, 'Subflow Bwd Packets'),\n",
       " (0.0, 'Packet Length Min'),\n",
       " (0.0, 'Fwd URG Flags'),\n",
       " (0.0, 'ECE Flag Count'),\n",
       " (0.0, 'CWR Flag Count'),\n",
       " (0.0, 'Bwd URG Flags')]"
      ]
     },
     "execution_count": 19,
     "metadata": {},
     "output_type": "execute_result"
    }
   ],
   "source": [
    "fi = sorted(zip(rnd_clf.feature_importances_, list(X.columns)), reverse=True)\n",
    "fi"
   ]
  },
  {
   "cell_type": "code",
   "execution_count": null,
   "id": "ef5c13d7",
   "metadata": {
    "execution": {
     "iopub.execute_input": "2023-02-24T21:12:21.690787Z",
     "iopub.status.busy": "2023-02-24T21:12:21.690248Z",
     "iopub.status.idle": "2023-02-24T21:12:21.698959Z",
     "shell.execute_reply": "2023-02-24T21:12:21.697905Z"
    },
    "papermill": {
     "duration": 0.024462,
     "end_time": "2023-02-24T21:12:21.701191",
     "exception": false,
     "start_time": "2023-02-24T21:12:21.676729",
     "status": "completed"
    },
    "tags": []
   },
   "outputs": [
    {
     "data": {
      "text/plain": [
       "[(0.0004120865680221202, 'Fwd Segment Size Avg'),\n",
       " (0.00031343643490232135, 'Flow Bytes/s'),\n",
       " (0.00011786317847017139, 'Bwd Packet/Bulk Avg'),\n",
       " (7.182181793694448e-05, 'Bwd Bytes/Bulk Avg'),\n",
       " (4.285749710114234e-05, 'Active Std'),\n",
       " (3.916180618418888e-05, 'Idle Std'),\n",
       " (7.511543097501587e-06, 'Fwd Packet/Bulk Avg'),\n",
       " (0.0, 'URG Flag Count'),\n",
       " (0.0, 'Subflow Fwd Packets'),\n",
       " (0.0, 'Subflow Bwd Packets')]"
      ]
     },
     "execution_count": 20,
     "metadata": {},
     "output_type": "execute_result"
    }
   ],
   "source": [
    "fi[-15:-5]"
   ]
  },
  {
   "cell_type": "code",
   "execution_count": null,
   "id": "24c1ec93",
   "metadata": {
    "execution": {
     "iopub.execute_input": "2023-02-24T21:12:21.728151Z",
     "iopub.status.busy": "2023-02-24T21:12:21.727732Z",
     "iopub.status.idle": "2023-02-24T21:12:33.061741Z",
     "shell.execute_reply": "2023-02-24T21:12:33.060281Z"
    },
    "papermill": {
     "duration": 11.351445,
     "end_time": "2023-02-24T21:12:33.065011",
     "exception": false,
     "start_time": "2023-02-24T21:12:21.713566",
     "status": "completed"
    },
    "tags": []
   },
   "outputs": [
    {
     "name": "stdout",
     "output_type": "stream",
     "text": [
      "<class 'pandas.core.frame.DataFrame'>\n",
      "Int64Index: 884928 entries, 9594 to 247096\n",
      "Data columns (total 10 columns):\n",
      " #   Column                Non-Null Count   Dtype  \n",
      "---  ------                --------------   -----  \n",
      " 0   Flow Bytes/s          884928 non-null  float64\n",
      " 1   URG Flag Count        884928 non-null  int64  \n",
      " 2   Fwd Segment Size Avg  884928 non-null  float64\n",
      " 3   Fwd Packet/Bulk Avg   884928 non-null  int64  \n",
      " 4   Bwd Bytes/Bulk Avg    884928 non-null  int64  \n",
      " 5   Bwd Packet/Bulk Avg   884928 non-null  int64  \n",
      " 6   Subflow Fwd Packets   884928 non-null  int64  \n",
      " 7   Subflow Bwd Packets   884928 non-null  int64  \n",
      " 8   Active Std            884928 non-null  float64\n",
      " 9   Idle Std              884928 non-null  float64\n",
      "dtypes: float64(4), int64(6)\n",
      "memory usage: 74.3 MB\n"
     ]
    }
   ],
   "source": [
    "for _, col in fi[:-15]+fi[-5:]:\n",
    "    X = X.drop(col, axis=1)\n",
    "X.info()"
   ]
  },
  {
   "cell_type": "code",
   "execution_count": null,
   "id": "f89fbac0",
   "metadata": {
    "execution": {
     "iopub.execute_input": "2023-02-24T21:12:33.092328Z",
     "iopub.status.busy": "2023-02-24T21:12:33.091849Z",
     "iopub.status.idle": "2023-02-24T21:12:56.977767Z",
     "shell.execute_reply": "2023-02-24T21:12:56.975065Z"
    },
    "papermill": {
     "duration": 23.903785,
     "end_time": "2023-02-24T21:12:56.981793",
     "exception": false,
     "start_time": "2023-02-24T21:12:33.078008",
     "status": "completed"
    },
    "tags": []
   },
   "outputs": [
    {
     "name": "stdout",
     "output_type": "stream",
     "text": [
      "0.9564485326523002\n"
     ]
    }
   ],
   "source": [
    "X_train, X_test,  y_train, y_test = train_test_split(X,y, test_size=0.2)\n",
    "rnd_clf = RandomForestClassifier(n_estimators=10, random_state=42)\n",
    "rnd_clf.fit(X_train,y_train)\n",
    "y_pred = rnd_clf.predict(X_test)\n",
    "n_correct = sum(y_pred == y_test)\n",
    "print(n_correct / len(y_pred))"
   ]
  },
  {
   "cell_type": "markdown",
   "id": "5931b157",
   "metadata": {
    "papermill": {
     "duration": 0.013825,
     "end_time": "2023-02-24T21:12:57.011714",
     "exception": false,
     "start_time": "2023-02-24T21:12:56.997889",
     "status": "completed"
    },
    "tags": []
   },
   "source": [
    "Dal momento che anche con solo 10 colonne tra le meno importanti il rendimento del modello è molto elevato si può dedurre che il problema di distinguere tra una connesione benevola e una maligna è troppo semplice."
   ]
  },
  {
   "cell_type": "markdown",
   "id": "42d7d680",
   "metadata": {
    "papermill": {
     "duration": 0.011282,
     "end_time": "2023-02-24T21:12:57.034968",
     "exception": false,
     "start_time": "2023-02-24T21:12:57.023686",
     "status": "completed"
    },
    "tags": []
   },
   "source": [
    "# Under/Over Sampling"
   ]
  },
  {
   "cell_type": "markdown",
   "id": "475b83c0",
   "metadata": {
    "papermill": {
     "duration": 0.011208,
     "end_time": "2023-02-24T21:12:57.058035",
     "exception": false,
     "start_time": "2023-02-24T21:12:57.046827",
     "status": "completed"
    },
    "tags": []
   },
   "source": [
    "Procediamo ad effettuare un under sampling sulle tuple con Label Bening e successivamente un over sampling sulle restanti label cercando di raggrupparle sotto macro categorie per effettuare una classificazione multiclass"
   ]
  },
  {
   "cell_type": "code",
   "execution_count": null,
   "id": "d168ab03",
   "metadata": {
    "execution": {
     "iopub.execute_input": "2023-02-24T21:12:57.083798Z",
     "iopub.status.busy": "2023-02-24T21:12:57.083304Z",
     "iopub.status.idle": "2023-02-24T21:12:57.226709Z",
     "shell.execute_reply": "2023-02-24T21:12:57.225730Z"
    },
    "papermill": {
     "duration": 0.15931,
     "end_time": "2023-02-24T21:12:57.229191",
     "exception": false,
     "start_time": "2023-02-24T21:12:57.069881",
     "status": "completed"
    },
    "tags": []
   },
   "outputs": [
    {
     "data": {
      "text/plain": [
       "BENIGN                                  1654877\n",
       "PortScan                                 158960\n",
       "DoS Hulk                                 158196\n",
       "DDoS                                      95026\n",
       "DoS GoldenEye                              7561\n",
       "DoS slowloris                              3991\n",
       "FTP-Patator                                3962\n",
       "DoS Slowhttptest - Attempted               3363\n",
       "SSH-Patator                                2977\n",
       "DoS Slowhttptest                           1737\n",
       "DoS slowloris - Attempted                  1698\n",
       "Bot - Attempted                            1466\n",
       "Web Attack - Brute Force - Attempted       1214\n",
       "Bot                                         738\n",
       "Web Attack - XSS - Attempted                650\n",
       "DoS Hulk - Attempted                        577\n",
       "Web Attack - Brute Force                    151\n",
       "DoS GoldenEye - Attempted                    80\n",
       "Infiltration                                 32\n",
       "Web Attack - XSS                             27\n",
       "Infiltration - Attempted                     16\n",
       "Web Attack - Sql Injection                   12\n",
       "FTP-Patator - Attempted                      11\n",
       "Heartbleed                                   11\n",
       "SSH-Patator - Attempted                       8\n",
       "Name: Label, dtype: int64"
      ]
     },
     "execution_count": 23,
     "metadata": {},
     "output_type": "execute_result"
    }
   ],
   "source": [
    "df[\"Label\"].value_counts()"
   ]
  },
  {
   "cell_type": "markdown",
   "id": "ede4b005",
   "metadata": {
    "papermill": {
     "duration": 0.011422,
     "end_time": "2023-02-24T21:12:57.252575",
     "exception": false,
     "start_time": "2023-02-24T21:12:57.241153",
     "status": "completed"
    },
    "tags": []
   },
   "source": [
    "Iniziamo a fare un test selezionando la classe BENIGN, PortScan, Dos Hulk, DDos"
   ]
  },
  {
   "cell_type": "code",
   "execution_count": null,
   "id": "1dcbcdee",
   "metadata": {
    "execution": {
     "iopub.execute_input": "2023-02-24T21:12:57.279980Z",
     "iopub.status.busy": "2023-02-24T21:12:57.279325Z",
     "iopub.status.idle": "2023-02-24T21:12:58.925041Z",
     "shell.execute_reply": "2023-02-24T21:12:58.923516Z"
    },
    "papermill": {
     "duration": 1.66356,
     "end_time": "2023-02-24T21:12:58.928401",
     "exception": false,
     "start_time": "2023-02-24T21:12:57.264841",
     "status": "completed"
    },
    "tags": []
   },
   "outputs": [],
   "source": [
    "df_topC = df[(df[\"Label\"] == \"BENIGN\") | (df[\"Label\"] == \"PortScan\") | (df[\"Label\"] == \"DoS Hulk\") | (df[\"Label\"] == \"DDoS\")]"
   ]
  },
  {
   "cell_type": "code",
   "execution_count": null,
   "id": "89675f39",
   "metadata": {
    "execution": {
     "iopub.execute_input": "2023-02-24T21:12:58.955020Z",
     "iopub.status.busy": "2023-02-24T21:12:58.954555Z",
     "iopub.status.idle": "2023-02-24T21:12:59.096278Z",
     "shell.execute_reply": "2023-02-24T21:12:59.095047Z"
    },
    "papermill": {
     "duration": 0.157722,
     "end_time": "2023-02-24T21:12:59.098644",
     "exception": false,
     "start_time": "2023-02-24T21:12:58.940922",
     "status": "completed"
    },
    "tags": []
   },
   "outputs": [
    {
     "data": {
      "text/plain": [
       "BENIGN      1654877\n",
       "PortScan     158960\n",
       "DoS Hulk     158196\n",
       "DDoS          95026\n",
       "Name: Label, dtype: int64"
      ]
     },
     "execution_count": 25,
     "metadata": {},
     "output_type": "execute_result"
    }
   ],
   "source": [
    "df_topC[\"Label\"].value_counts()"
   ]
  },
  {
   "cell_type": "markdown",
   "id": "c466d19e",
   "metadata": {
    "papermill": {
     "duration": 0.011571,
     "end_time": "2023-02-24T21:12:59.121919",
     "exception": false,
     "start_time": "2023-02-24T21:12:59.110348",
     "status": "completed"
    },
    "tags": []
   },
   "source": [
    "Effettuiamo un under sampling di BENIGN a circa il numero di tuple di PortScan"
   ]
  },
  {
   "cell_type": "code",
   "execution_count": null,
   "id": "ca9be49c",
   "metadata": {
    "execution": {
     "iopub.execute_input": "2023-02-24T21:12:59.148058Z",
     "iopub.status.busy": "2023-02-24T21:12:59.147554Z",
     "iopub.status.idle": "2023-02-24T21:13:04.684896Z",
     "shell.execute_reply": "2023-02-24T21:13:04.683121Z"
    },
    "papermill": {
     "duration": 5.554287,
     "end_time": "2023-02-24T21:13:04.688064",
     "exception": false,
     "start_time": "2023-02-24T21:12:59.133777",
     "status": "completed"
    },
    "tags": []
   },
   "outputs": [],
   "source": [
    "y = df_topC[\"Label\"]\n",
    "X = df_topC.drop(columns= \"Label\")\n",
    "X_train, X_test, y_train, y_test = train_test_split(X, y, test_size=0.2, random_state=100)"
   ]
  },
  {
   "cell_type": "code",
   "execution_count": null,
   "id": "261fb9fb",
   "metadata": {
    "execution": {
     "iopub.execute_input": "2023-02-24T21:13:04.715250Z",
     "iopub.status.busy": "2023-02-24T21:13:04.714755Z",
     "iopub.status.idle": "2023-02-24T21:13:05.100197Z",
     "shell.execute_reply": "2023-02-24T21:13:05.098789Z"
    },
    "papermill": {
     "duration": 0.402666,
     "end_time": "2023-02-24T21:13:05.102780",
     "exception": false,
     "start_time": "2023-02-24T21:13:04.700114",
     "status": "completed"
    },
    "tags": []
   },
   "outputs": [
    {
     "data": {
      "image/png": "[encoded data removed]",
      "text/plain": [
       "<Figure size 640x480 with 1 Axes>"
      ]
     },
     "metadata": {},
     "output_type": "display_data"
    }
   ],
   "source": [
    "import matplotlib.pyplot as plt\n",
    "count = y_train.value_counts()\n",
    "count.plot.bar()\n",
    "plt.ylabel('Number of records')\n",
    "plt.xlabel('Target Class')\n",
    "plt.show()"
   ]
  },
  {
   "cell_type": "code",
   "execution_count": null,
   "id": "d3db18cb",
   "metadata": {
    "execution": {
     "iopub.execute_input": "2023-02-24T21:13:05.131605Z",
     "iopub.status.busy": "2023-02-24T21:13:05.131128Z",
     "iopub.status.idle": "2023-02-24T21:48:41.198695Z",
     "shell.execute_reply": "2023-02-24T21:48:41.197279Z"
    },
    "papermill": {
     "duration": 2136.085775,
     "end_time": "2023-02-24T21:48:41.201974",
     "exception": false,
     "start_time": "2023-02-24T21:13:05.116199",
     "status": "completed"
    },
    "tags": []
   },
   "outputs": [],
   "source": [
    "from imblearn.under_sampling import NearMiss\n",
    "n_samples = len(y_train[y_train==\"PortScan\"])\n",
    "nm1 = NearMiss(sampling_strategy={\"BENIGN\":50000},version=1)\n",
    "X_under, y_under = nm1.fit_resample(X_train, y_train)"
   ]
  },
  {
   "cell_type": "code",
   "execution_count": null,
   "id": "0a551a5d",
   "metadata": {
    "execution": {
     "iopub.execute_input": "2023-02-24T21:48:41.229854Z",
     "iopub.status.busy": "2023-02-24T21:48:41.229364Z",
     "iopub.status.idle": "2023-02-24T21:48:41.263878Z",
     "shell.execute_reply": "2023-02-24T21:48:41.262674Z"
    },
    "papermill": {
     "duration": 0.05119,
     "end_time": "2023-02-24T21:48:41.266411",
     "exception": false,
     "start_time": "2023-02-24T21:48:41.215221",
     "status": "completed"
    },
    "tags": []
   },
   "outputs": [
    {
     "data": {
      "text/plain": [
       "PortScan    127122\n",
       "DoS Hulk    126542\n",
       "DDoS         75993\n",
       "BENIGN       50000\n",
       "Name: Label, dtype: int64"
      ]
     },
     "execution_count": 29,
     "metadata": {},
     "output_type": "execute_result"
    }
   ],
   "source": [
    "y_under.value_counts()"
   ]
  }
 ],
 "metadata": {
  "kernelspec": {
   "display_name": "Python 3",
   "language": "python",
   "name": "python3"
  },
  "language_info": {
   "codemirror_mode": {
    "name": "ipython",
    "version": 3
   },
   "file_extension": ".py",
   "mimetype": "text/x-python",
   "name": "python",
   "nbconvert_exporter": "python",
   "pygments_lexer": "ipython3",
   "version": "3.10.0"
  },
  "papermill": {
   "default_parameters": {},
   "duration": 2319.429668,
   "end_time": "2023-02-24T21:48:42.510246",
   "environment_variables": {},
   "exception": null,
   "input_path": "__notebook__.ipynb",
   "output_path": "__notebook__.ipynb",
   "parameters": {},
   "start_time": "2023-02-24T21:10:03.080578",
   "version": "2.3.4"
  },
  "vscode": {
   "interpreter": {
    "hash": "b323625c1ed716612379b78d213690fb00932e5b7f08ac805d5dc3a86801cc7b"
   }
  }
 },
 "nbformat": 4,
 "nbformat_minor": 5
}
